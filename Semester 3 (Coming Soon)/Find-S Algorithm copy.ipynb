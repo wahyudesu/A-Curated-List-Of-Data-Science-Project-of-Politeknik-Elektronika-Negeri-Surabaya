{
 "cells": [
  {
   "cell_type": "markdown",
   "metadata": {},
   "source": []
  },
  {
   "cell_type": "markdown",
   "metadata": {},
   "source": [
    "<h1><center>Praktikum Machine Learning</center></h1>\n",
    "<h2><center>Dosen Pengampu Nur Rosyid Mubtadai</center></h2>\n"
   ]
  },
  {
   "cell_type": "markdown",
   "metadata": {},
   "source": []
  },
  {
   "cell_type": "markdown",
   "metadata": {},
   "source": []
  },
  {
   "cell_type": "markdown",
   "metadata": {},
   "source": []
  },
  {
   "cell_type": "markdown",
   "metadata": {},
   "source": [
    "<img src=\"logo pens.png\" \n",
    "        alt=\"Picture\" \n",
    "        width=\"380\" \n",
    "        height=\"380\" \n",
    "        style=\"display: block; margin: 0 auto\" />"
   ]
  },
  {
   "cell_type": "markdown",
   "metadata": {},
   "source": []
  },
  {
   "cell_type": "markdown",
   "metadata": {},
   "source": []
  },
  {
   "cell_type": "markdown",
   "metadata": {},
   "source": []
  },
  {
   "cell_type": "markdown",
   "metadata": {},
   "source": []
  },
  {
   "cell_type": "markdown",
   "metadata": {},
   "source": []
  },
  {
   "cell_type": "markdown",
   "metadata": {},
   "source": []
  },
  {
   "cell_type": "markdown",
   "metadata": {},
   "source": [
    "<h3><center>Wahyu Ikbal Maulana</center></h3>\n",
    "\n",
    "<h3><center>3323600056</center></h3>\n",
    "\n",
    "<h3><center>D4 SDT B</center></h3>\n",
    "\n",
    "<h1><center>Politeknik Elektronika Negeri Surabaya</center></h1>\n",
    "\n",
    "\n"
   ]
  },
  {
   "cell_type": "markdown",
   "metadata": {},
   "source": []
  },
  {
   "cell_type": "markdown",
   "metadata": {},
   "source": []
  },
  {
   "cell_type": "markdown",
   "metadata": {},
   "source": [
    "## <b><span style='color:#FA5E3C'>|</span> Find-S Algorithm </b> "
   ]
  },
  {
   "cell_type": "code",
   "execution_count": 7,
   "metadata": {},
   "outputs": [
    {
     "data": {
      "text/html": [
       "<div><div id=43497b16-3087-4411-b498-e532e7f47e9a style=\"display:none; background-color:#9D6CFF; color:white; width:200px; height:30px; padding-left:5px; border-radius:4px; flex-direction:row; justify-content:space-around; align-items:center;\" onmouseover=\"this.style.backgroundColor='#BA9BF8'\" onmouseout=\"this.style.backgroundColor='#9D6CFF'\" onclick=\"window.commands?.execute('create-mitosheet-from-dataframe-output');\">See Full Dataframe in Mito</div> <script> if (window.commands?.hasCommand('create-mitosheet-from-dataframe-output')) document.getElementById('43497b16-3087-4411-b498-e532e7f47e9a').style.display = 'flex' </script> <table border=\"1\" class=\"dataframe\">\n",
       "  <thead>\n",
       "    <tr style=\"text-align: right;\">\n",
       "      <th></th>\n",
       "      <th>Day</th>\n",
       "      <th>Cuaca</th>\n",
       "      <th>Temperatur</th>\n",
       "      <th>Kecepatan Angin</th>\n",
       "      <th>Berolah-raga</th>\n",
       "    </tr>\n",
       "  </thead>\n",
       "  <tbody>\n",
       "    <tr>\n",
       "      <th>0</th>\n",
       "      <td>D1</td>\n",
       "      <td>Cerah</td>\n",
       "      <td>Normal</td>\n",
       "      <td>Pelan</td>\n",
       "      <td>Ya</td>\n",
       "    </tr>\n",
       "    <tr>\n",
       "      <th>1</th>\n",
       "      <td>D2</td>\n",
       "      <td>Cerah</td>\n",
       "      <td>Normal</td>\n",
       "      <td>Pelan</td>\n",
       "      <td>Ya</td>\n",
       "    </tr>\n",
       "    <tr>\n",
       "      <th>2</th>\n",
       "      <td>D3</td>\n",
       "      <td>Hujan</td>\n",
       "      <td>Tinggi</td>\n",
       "      <td>Pelan</td>\n",
       "      <td>Tidak</td>\n",
       "    </tr>\n",
       "    <tr>\n",
       "      <th>3</th>\n",
       "      <td>D4</td>\n",
       "      <td>Cerah</td>\n",
       "      <td>Normal</td>\n",
       "      <td>Kencang</td>\n",
       "      <td>Ya</td>\n",
       "    </tr>\n",
       "    <tr>\n",
       "      <th>4</th>\n",
       "      <td>D5</td>\n",
       "      <td>Hujan</td>\n",
       "      <td>Tinggi</td>\n",
       "      <td>Kencang</td>\n",
       "      <td>Tidak</td>\n",
       "    </tr>\n",
       "    <tr>\n",
       "      <th>5</th>\n",
       "      <td>D6</td>\n",
       "      <td>Cerah</td>\n",
       "      <td>Normal</td>\n",
       "      <td>Pelan</td>\n",
       "      <td>Ya</td>\n",
       "    </tr>\n",
       "  </tbody>\n",
       "</table></div>"
      ],
      "text/plain": [
       "  Day  Cuaca Temperatur Kecepatan Angin Berolah-raga\n",
       "0  D1  Cerah     Normal           Pelan           Ya\n",
       "1  D2  Cerah     Normal           Pelan           Ya\n",
       "2  D3  Hujan     Tinggi           Pelan        Tidak\n",
       "3  D4  Cerah     Normal         Kencang           Ya\n",
       "4  D5  Hujan     Tinggi         Kencang        Tidak\n",
       "5  D6  Cerah     Normal           Pelan           Ya"
      ]
     },
     "execution_count": 7,
     "metadata": {},
     "output_type": "execute_result"
    }
   ],
   "source": [
    "import pandas as pd\n",
    "import numpy as np\n",
    "\n",
    "data = pd.read_csv('Data cuaca.csv')\n",
    "data"
   ]
  },
  {
   "cell_type": "code",
   "execution_count": 8,
   "metadata": {},
   "outputs": [
    {
     "name": "stdout",
     "output_type": "stream",
     "text": [
      "Data Training are:  [['Cerah' 'Normal' 'Pelan']\n",
      " ['Cerah' 'Normal' 'Pelan']\n",
      " ['Hujan' 'Tinggi' 'Pelan']\n",
      " ['Cerah' 'Normal' 'Kencang']\n",
      " ['Hujan' 'Tinggi' 'Kencang']\n",
      " ['Cerah' 'Normal' 'Pelan']]\n"
     ]
    }
   ],
   "source": [
    "datatraining = np.array(data)[:,1:-1]\n",
    "print(\"Data Training are: \", datatraining)"
   ]
  },
  {
   "cell_type": "code",
   "execution_count": 9,
   "metadata": {},
   "outputs": [
    {
     "name": "stdout",
     "output_type": "stream",
     "text": [
      "The target is:  ['Ya' 'Ya' 'Tidak' 'Ya' 'Tidak' 'Ya']\n"
     ]
    }
   ],
   "source": [
    "target = np.array(data)[:,-1]\n",
    "print(\"The target is: \",target)"
   ]
  },
  {
   "cell_type": "markdown",
   "metadata": {},
   "source": [
    "<div style=\"border-radius: 10px; border: #0ea5e9 solid; padding: 15px; background-color: #ffffff00; font-size: 100%; text-align: left;\">\n",
    "    <b>🖊️ Analisis :</b>\n",
    "    Setelah membaca dataset, kemudian dibagi featurenya dan target, disini featurenya saya definisikan sebagai data training, untuk kemudian saya carikan hipotesanya memakai algoritma find-s \n",
    "\n",
    "</div>"
   ]
  },
  {
   "cell_type": "code",
   "execution_count": 10,
   "metadata": {},
   "outputs": [
    {
     "name": "stdout",
     "output_type": "stream",
     "text": [
      "Hypothesis: ['Cerah' 'Normal' '?']\n"
     ]
    }
   ],
   "source": [
    "def find_s_algorithm_no(condition, target):\n",
    "    for i, value in enumerate(target):\n",
    "        if value == 'Ya':\n",
    "            specific_hypothesis = condition[i].copy()\n",
    "            break\n",
    "            \n",
    "    for i, value in enumerate(condition):\n",
    "        if target[i] == 'Ya':\n",
    "            for j in range(len(specific_hypothesis)):\n",
    "                if value[j] != specific_hypothesis[j]:\n",
    "                    specific_hypothesis[j] = '?'\n",
    "                else:\n",
    "                    pass\n",
    "    return specific_hypothesis\n",
    "        \n",
    "hipotesis_yes = find_s_algorithm_no(datatraining, target)\n",
    "print(\"Hypothesis:\",hipotesis_yes)"
   ]
  },
  {
   "cell_type": "code",
   "execution_count": 11,
   "metadata": {},
   "outputs": [
    {
     "name": "stdout",
     "output_type": "stream",
     "text": [
      "Hypothesis: ['Hujan' 'Tinggi' '?']\n"
     ]
    }
   ],
   "source": [
    "def find_s_algorithm_no(condition, target):\n",
    "    for i, value in enumerate(target):\n",
    "        if value == 'Tidak':\n",
    "            specific_hypothesis = condition[i].copy()\n",
    "            break\n",
    "            \n",
    "    for i, value in enumerate(condition):\n",
    "        if target[i] == 'Tidak':\n",
    "            for j in range(len(specific_hypothesis)):\n",
    "                if value[j] != specific_hypothesis[j]:\n",
    "                    specific_hypothesis[j] = '?'\n",
    "                else:\n",
    "                    pass\n",
    "    return specific_hypothesis\n",
    "        \n",
    "hipotesis_no = find_s_algorithm_no(datatraining, target)\n",
    "print(\"Hypothesis:\",hipotesis_no)"
   ]
  },
  {
   "cell_type": "markdown",
   "metadata": {},
   "source": [
    "<div style=\"border-radius: 10px; border: #0ea5e9 solid; padding: 15px; background-color: #ffffff00; font-size: 100%; text-align: left;\">\n",
    "    <b>🖊️ Analisis :</b>\n",
    "    Fungsi find_s_algorithm digunakan untuk membandingkan hipotesis dengan data uji dan menghasilkan jawaban “Ya” atau \"Tidak\". Fungsi ini menerima dua parameter yaitu hipotesis dan datatest. Parameter hipotesis adalah hipotesis yang dihasilkan oleh algoritma Find-S, sedangkan parameter datatest adalah data uji yang akan digunakan untuk memprediksi kelas.\n",
    "    <p>\n",
    "    Pertama mencari hipotesa bernilai positif dan yang kedua mencari hipotesa bernilai negatif. Lalu kemudian mencari hipotesa yang bernilai positif. Setelah didapat hasil hipotesanya kemudian dilakukan pengetesan terhadap data baru/data test\n",
    "        \n",
    "\n",
    "</div>"
   ]
  },
  {
   "cell_type": "code",
   "execution_count": 15,
   "metadata": {},
   "outputs": [
    {
     "name": "stdout",
     "output_type": "stream",
     "text": [
      "Data Test: ['Cerah', 'Tinggi', 'Pelan']\n",
      "Dicission Find-S : Tidak\n"
     ]
    }
   ],
   "source": [
    "datatest = ['Cerah', 'Tinggi', 'Pelan']\n",
    "\n",
    "def dicission_find(hipotesis, datatest):\n",
    "    for i in range(len(datatest)):\n",
    "        if hipotesis[i] == '?' or hipotesis[i] == datatest[i]:\n",
    "            continue\n",
    "        else:\n",
    "            return False\n",
    "    else:\n",
    "        return True\n",
    "\n",
    "print(\"Data Test:\", datatest)\n",
    "if dicission_find(hipotesis_yes, datatest):\n",
    "    print(\"Dicission Find-S : Ya\")\n",
    "else:\n",
    "    print(\"Dicission Find-S : Tidak\")  "
   ]
  },
  {
   "cell_type": "markdown",
   "metadata": {},
   "source": [
    "<div style=\"border-radius: 10px; border: #0ea5e9 solid; padding: 15px; background-color: #ffffff00; font-size: 100%; text-align: left;\">\n",
    "    <b>🖊️ Analisis :</b>\n",
    "    Data uji yang diubah menjadi ['Cerah', 'Tinggi', 'Pelan']. Berdasarkan hipotesis yang dihasilkan oleh algoritma Find-S, data uji ini akan menghasilkan jawaban \"Tidak\". Oleh karena itu, hasil dari algoritma Decision Find-S adalah \"Tidak\".\n",
    "    <p>\n",
    "    Untuk hipotesis yes dan no itu sama saja, karena hipotesa keduanya itu sama-sama benar, maka keduanya dapat dipakai untuk datatest baru, kebetulan saya makenya hipotesis yes \n",
    "</div>\n"
   ]
  }
 ],
 "metadata": {
  "kernelspec": {
   "display_name": "Python 3",
   "language": "python",
   "name": "python3"
  },
  "language_info": {
   "codemirror_mode": {
    "name": "ipython",
    "version": 3
   },
   "file_extension": ".py",
   "mimetype": "text/x-python",
   "name": "python",
   "nbconvert_exporter": "python",
   "pygments_lexer": "ipython3",
   "version": "3.10.7"
  }
 },
 "nbformat": 4,
 "nbformat_minor": 2
}
