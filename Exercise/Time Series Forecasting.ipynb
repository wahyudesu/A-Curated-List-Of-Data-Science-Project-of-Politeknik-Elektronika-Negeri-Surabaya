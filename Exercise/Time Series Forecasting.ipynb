{
  "cells": [
    {
      "cell_type": "markdown",
      "id": "TPHpozd-o-z1",
      "metadata": {
        "id": "TPHpozd-o-z1"
      },
      "source": [
        "<h1><center>Praktikum Pemodelan Statistika terapan</center></h1>\n",
        "<h1><center>Peramalan Deret Waktu</center></h1>\n",
        "<h2><center>Dosen Pengampu Ronny Sutsetyoko\t</center></h2>"
      ]
    },
    {
      "cell_type": "markdown",
      "id": "b14843c5",
      "metadata": {},
      "source": [
        "#"
      ]
    },
    {
      "cell_type": "markdown",
      "id": "3001cc80",
      "metadata": {},
      "source": [
        "<img src=\"logo pens.png\" \n",
        "        alt=\"Picture\" \n",
        "        width=\"380\" \n",
        "        height=\"380\" \n",
        "        style=\"display: block; margin: 0 auto\" />"
      ]
    },
    {
      "cell_type": "markdown",
      "id": "09b62cfb",
      "metadata": {},
      "source": [
        "#"
      ]
    },
    {
      "cell_type": "markdown",
      "id": "50301ba9",
      "metadata": {},
      "source": [
        "#"
      ]
    },
    {
      "cell_type": "markdown",
      "id": "465d6440",
      "metadata": {},
      "source": [
        "#"
      ]
    },
    {
      "cell_type": "markdown",
      "id": "7887b656",
      "metadata": {},
      "source": [
        "#"
      ]
    },
    {
      "cell_type": "markdown",
      "id": "oc8Pzy5CpE76",
      "metadata": {
        "id": "oc8Pzy5CpE76"
      },
      "source": [
        "<h4><center>Wahyu Ikbal Maulana</center></h4>\n",
        "\n",
        "<h4><center>3323600056</center></h4>\n",
        "\n",
        "<h4><center>D4 SDT B</center></h4>\n",
        "\n",
        "<h2><center>Politeknik Elektronika Negeri Surabaya</center></h2>\n",
        "  ‎ \n"
      ]
    },
    {
      "cell_type": "markdown",
      "id": "196f473c",
      "metadata": {},
      "source": []
    },
    {
      "cell_type": "markdown",
      "id": "74a7c7d8",
      "metadata": {},
      "source": []
    },
    {
      "cell_type": "markdown",
      "id": "085e2d88",
      "metadata": {},
      "source": []
    },
    {
      "cell_type": "markdown",
      "id": "f0e8af47",
      "metadata": {},
      "source": [
        "## Percobaan ke-1: Studi Kasus 1"
      ]
    },
    {
      "cell_type": "code",
      "execution_count": 23,
      "id": "65c2e063",
      "metadata": {
        "vscode": {
          "languageId": "r"
        }
      },
      "outputs": [],
      "source": [
        "library(\"forecast\")\n",
        "library(\"TTR\")"
      ]
    },
    {
      "cell_type": "code",
      "execution_count": 24,
      "id": "33400b7f",
      "metadata": {
        "vscode": {
          "languageId": "r"
        }
      },
      "outputs": [
        {
          "data": {
            "text/html": [
              "<style>\n",
              ".list-inline {list-style: none; margin:0; padding: 0}\n",
              ".list-inline>li {display: inline-block}\n",
              ".list-inline>li:not(:last-child)::after {content: \"\\00b7\"; padding: 0 .5ex}\n",
              "</style>\n",
              "<ol class=list-inline><li>39.09</li><li>35.01</li><li>35.82</li><li>34.44</li><li>34.22</li><li>34.55</li><li>35.43</li><li>34.94</li><li>35.26</li><li>35.06</li><li>35.2</li><li>34.45</li><li>35.01</li><li>34</li><li>33.9</li><li>33.01</li><li>33.24</li><li>33.01</li><li>32.58</li><li>32.21</li><li>32.14</li><li>32.62</li><li>33.3</li><li>32.88</li><li>32.9</li><li>32.49</li><li>33.01</li><li>33.2</li><li>33.11</li><li>32.63</li><li>32.21</li><li>32.01</li><li>31.7</li><li>31.53</li><li>31.42</li><li>31.31</li><li>31.05</li><li>30.4</li><li>30.72</li><li>30.1</li><li>31.25</li><li>30.77</li><li>30.34</li><li>30.38</li><li>30.42</li><li>30.33</li><li>31.52</li><li>32.28</li><li>31.84</li><li>31.45</li><li>32.44</li><li>32.75</li><li>32.45</li><li>32.41</li><li>31.69</li><li>32.3</li><li>32.12</li><li>32.85</li><li>32.28</li><li>32.45</li><li>31.44</li><li>31.14</li><li>31.16</li><li>31.17</li><li>33.47</li><li>33.48</li><li>33.36</li><li>33.01</li><li>32.99</li><li>32.3</li><li>32.79</li><li>32.88</li><li>32.99</li><li>32.2</li><li>32.4</li><li>32.4</li><li>32.63</li><li>33.09</li><li>32.68</li><li>32.48</li><li>31.96</li><li>30.71</li><li>30.85</li><li>31.1</li><li>30.61</li><li>30.1</li><li>29.05</li><li>30.42</li><li>31.04</li><li>30.95</li><li>32.94</li><li>32.86</li><li>32.73</li><li>32.19</li><li>31.83</li><li>31.77</li><li>31.19</li><li>30.83</li><li>30.8</li><li>30.43</li></ol>\n"
            ],
            "text/latex": [
              "\\begin{enumerate*}\n",
              "\\item 39.09\n",
              "\\item 35.01\n",
              "\\item 35.82\n",
              "\\item 34.44\n",
              "\\item 34.22\n",
              "\\item 34.55\n",
              "\\item 35.43\n",
              "\\item 34.94\n",
              "\\item 35.26\n",
              "\\item 35.06\n",
              "\\item 35.2\n",
              "\\item 34.45\n",
              "\\item 35.01\n",
              "\\item 34\n",
              "\\item 33.9\n",
              "\\item 33.01\n",
              "\\item 33.24\n",
              "\\item 33.01\n",
              "\\item 32.58\n",
              "\\item 32.21\n",
              "\\item 32.14\n",
              "\\item 32.62\n",
              "\\item 33.3\n",
              "\\item 32.88\n",
              "\\item 32.9\n",
              "\\item 32.49\n",
              "\\item 33.01\n",
              "\\item 33.2\n",
              "\\item 33.11\n",
              "\\item 32.63\n",
              "\\item 32.21\n",
              "\\item 32.01\n",
              "\\item 31.7\n",
              "\\item 31.53\n",
              "\\item 31.42\n",
              "\\item 31.31\n",
              "\\item 31.05\n",
              "\\item 30.4\n",
              "\\item 30.72\n",
              "\\item 30.1\n",
              "\\item 31.25\n",
              "\\item 30.77\n",
              "\\item 30.34\n",
              "\\item 30.38\n",
              "\\item 30.42\n",
              "\\item 30.33\n",
              "\\item 31.52\n",
              "\\item 32.28\n",
              "\\item 31.84\n",
              "\\item 31.45\n",
              "\\item 32.44\n",
              "\\item 32.75\n",
              "\\item 32.45\n",
              "\\item 32.41\n",
              "\\item 31.69\n",
              "\\item 32.3\n",
              "\\item 32.12\n",
              "\\item 32.85\n",
              "\\item 32.28\n",
              "\\item 32.45\n",
              "\\item 31.44\n",
              "\\item 31.14\n",
              "\\item 31.16\n",
              "\\item 31.17\n",
              "\\item 33.47\n",
              "\\item 33.48\n",
              "\\item 33.36\n",
              "\\item 33.01\n",
              "\\item 32.99\n",
              "\\item 32.3\n",
              "\\item 32.79\n",
              "\\item 32.88\n",
              "\\item 32.99\n",
              "\\item 32.2\n",
              "\\item 32.4\n",
              "\\item 32.4\n",
              "\\item 32.63\n",
              "\\item 33.09\n",
              "\\item 32.68\n",
              "\\item 32.48\n",
              "\\item 31.96\n",
              "\\item 30.71\n",
              "\\item 30.85\n",
              "\\item 31.1\n",
              "\\item 30.61\n",
              "\\item 30.1\n",
              "\\item 29.05\n",
              "\\item 30.42\n",
              "\\item 31.04\n",
              "\\item 30.95\n",
              "\\item 32.94\n",
              "\\item 32.86\n",
              "\\item 32.73\n",
              "\\item 32.19\n",
              "\\item 31.83\n",
              "\\item 31.77\n",
              "\\item 31.19\n",
              "\\item 30.83\n",
              "\\item 30.8\n",
              "\\item 30.43\n",
              "\\end{enumerate*}\n"
            ],
            "text/markdown": [
              "1. 39.09\n",
              "2. 35.01\n",
              "3. 35.82\n",
              "4. 34.44\n",
              "5. 34.22\n",
              "6. 34.55\n",
              "7. 35.43\n",
              "8. 34.94\n",
              "9. 35.26\n",
              "10. 35.06\n",
              "11. 35.2\n",
              "12. 34.45\n",
              "13. 35.01\n",
              "14. 34\n",
              "15. 33.9\n",
              "16. 33.01\n",
              "17. 33.24\n",
              "18. 33.01\n",
              "19. 32.58\n",
              "20. 32.21\n",
              "21. 32.14\n",
              "22. 32.62\n",
              "23. 33.3\n",
              "24. 32.88\n",
              "25. 32.9\n",
              "26. 32.49\n",
              "27. 33.01\n",
              "28. 33.2\n",
              "29. 33.11\n",
              "30. 32.63\n",
              "31. 32.21\n",
              "32. 32.01\n",
              "33. 31.7\n",
              "34. 31.53\n",
              "35. 31.42\n",
              "36. 31.31\n",
              "37. 31.05\n",
              "38. 30.4\n",
              "39. 30.72\n",
              "40. 30.1\n",
              "41. 31.25\n",
              "42. 30.77\n",
              "43. 30.34\n",
              "44. 30.38\n",
              "45. 30.42\n",
              "46. 30.33\n",
              "47. 31.52\n",
              "48. 32.28\n",
              "49. 31.84\n",
              "50. 31.45\n",
              "51. 32.44\n",
              "52. 32.75\n",
              "53. 32.45\n",
              "54. 32.41\n",
              "55. 31.69\n",
              "56. 32.3\n",
              "57. 32.12\n",
              "58. 32.85\n",
              "59. 32.28\n",
              "60. 32.45\n",
              "61. 31.44\n",
              "62. 31.14\n",
              "63. 31.16\n",
              "64. 31.17\n",
              "65. 33.47\n",
              "66. 33.48\n",
              "67. 33.36\n",
              "68. 33.01\n",
              "69. 32.99\n",
              "70. 32.3\n",
              "71. 32.79\n",
              "72. 32.88\n",
              "73. 32.99\n",
              "74. 32.2\n",
              "75. 32.4\n",
              "76. 32.4\n",
              "77. 32.63\n",
              "78. 33.09\n",
              "79. 32.68\n",
              "80. 32.48\n",
              "81. 31.96\n",
              "82. 30.71\n",
              "83. 30.85\n",
              "84. 31.1\n",
              "85. 30.61\n",
              "86. 30.1\n",
              "87. 29.05\n",
              "88. 30.42\n",
              "89. 31.04\n",
              "90. 30.95\n",
              "91. 32.94\n",
              "92. 32.86\n",
              "93. 32.73\n",
              "94. 32.19\n",
              "95. 31.83\n",
              "96. 31.77\n",
              "97. 31.19\n",
              "98. 30.83\n",
              "99. 30.8\n",
              "100. 30.43\n",
              "\n",
              "\n"
            ],
            "text/plain": [
              "  [1] 39.09 35.01 35.82 34.44 34.22 34.55 35.43 34.94 35.26 35.06 35.20 34.45\n",
              " [13] 35.01 34.00 33.90 33.01 33.24 33.01 32.58 32.21 32.14 32.62 33.30 32.88\n",
              " [25] 32.90 32.49 33.01 33.20 33.11 32.63 32.21 32.01 31.70 31.53 31.42 31.31\n",
              " [37] 31.05 30.40 30.72 30.10 31.25 30.77 30.34 30.38 30.42 30.33 31.52 32.28\n",
              " [49] 31.84 31.45 32.44 32.75 32.45 32.41 31.69 32.30 32.12 32.85 32.28 32.45\n",
              " [61] 31.44 31.14 31.16 31.17 33.47 33.48 33.36 33.01 32.99 32.30 32.79 32.88\n",
              " [73] 32.99 32.20 32.40 32.40 32.63 33.09 32.68 32.48 31.96 30.71 30.85 31.10\n",
              " [85] 30.61 30.10 29.05 30.42 31.04 30.95 32.94 32.86 32.73 32.19 31.83 31.77\n",
              " [97] 31.19 30.83 30.80 30.43"
            ]
          },
          "metadata": {},
          "output_type": "display_data"
        }
      ],
      "source": [
        "data = read.csv(\"AABA_06sd18.csv\", header = TRUE)\n",
        "data.ts = data$Open[10:109]\n",
        "data.ts"
      ]
    },
    {
      "cell_type": "code",
      "execution_count": 25,
      "id": "4cbc046c",
      "metadata": {
        "vscode": {
          "languageId": "r"
        }
      },
      "outputs": [
        {
          "data": {
            "image/png": "[encoded data removed]",
            "text/plain": [
              "Plot with title \"Time Series Plot Data Open Price\""
            ]
          },
          "metadata": {
            "image/png": {
              "height": 420,
              "width": 420
            }
          },
          "output_type": "display_data"
        }
      ],
      "source": [
        "ts.plot(data.ts, xlab=\"Time Period \", ylab=\"Open Price\", main= \"Time Series Plot Data Open Price\", col=\"red\")\n",
        "points(data.ts)"
      ]
    },
    {
      "cell_type": "code",
      "execution_count": 26,
      "id": "a141548b",
      "metadata": {
        "vscode": {
          "languageId": "r"
        }
      },
      "outputs": [
        {
          "data": {
            "text/html": [
              "<style>\n",
              ".list-inline {list-style: none; margin:0; padding: 0}\n",
              ".list-inline>li {display: inline-block}\n",
              ".list-inline>li:not(:last-child)::after {content: \"\\00b7\"; padding: 0 .5ex}\n",
              "</style>\n",
              "<ol class=list-inline><li>&lt;NA&gt;</li><li>&lt;NA&gt;</li><li>&lt;NA&gt;</li><li>36.09</li><li>34.8725</li><li>34.7575</li><li>34.66</li><li>34.785</li><li>35.045</li><li>35.1725</li><li>35.115</li><li>34.9925</li><li>34.93</li><li>34.665</li><li>34.34</li><li>33.98</li><li>33.5375</li><li>33.29</li><li>32.96</li><li>32.76</li><li>32.485</li><li>32.3875</li><li>32.5675</li><li>32.735</li><li>32.925</li><li>32.8925</li><li>32.82</li><li>32.9</li><li>32.9525</li><li>32.9875</li><li>32.7875</li><li>32.49</li><li>32.1375</li><li>31.8625</li><li>31.665</li><li>31.49</li><li>31.3275</li><li>31.045</li><li>30.87</li><li>30.5675</li><li>30.6175</li><li>30.71</li><li>30.615</li><li>30.685</li><li>30.4775</li><li>30.3675</li><li>30.6625</li><li>31.1375</li><li>31.4925</li><li>31.7725</li><li>32.0025</li><li>32.12</li><li>32.2725</li><li>32.5125</li><li>32.325</li><li>32.2125</li><li>32.13</li><li>32.24</li><li>32.3875</li><li>32.425</li><li>32.255</li><li>31.8275</li><li>31.5475</li><li>31.2275</li><li>31.735</li><li>32.32</li><li>32.87</li><li>33.33</li><li>33.21</li><li>32.915</li><li>32.7725</li><li>32.74</li><li>32.74</li><li>32.715</li><li>32.6175</li><li>32.4975</li><li>32.4075</li><li>32.63</li><li>32.7</li><li>32.72</li><li>32.5525</li><li>31.9575</li><li>31.5</li><li>31.155</li><li>30.8175</li><li>30.665</li><li>30.215</li><li>30.045</li><li>30.1525</li><li>30.365</li><li>31.3375</li><li>31.9475</li><li>32.37</li><li>32.68</li><li>32.4025</li><li>32.13</li><li>31.745</li><li>31.405</li><li>31.1475</li><li>30.8125</li></ol>\n"
            ],
            "text/latex": [
              "\\begin{enumerate*}\n",
              "\\item <NA>\n",
              "\\item <NA>\n",
              "\\item <NA>\n",
              "\\item 36.09\n",
              "\\item 34.8725\n",
              "\\item 34.7575\n",
              "\\item 34.66\n",
              "\\item 34.785\n",
              "\\item 35.045\n",
              "\\item 35.1725\n",
              "\\item 35.115\n",
              "\\item 34.9925\n",
              "\\item 34.93\n",
              "\\item 34.665\n",
              "\\item 34.34\n",
              "\\item 33.98\n",
              "\\item 33.5375\n",
              "\\item 33.29\n",
              "\\item 32.96\n",
              "\\item 32.76\n",
              "\\item 32.485\n",
              "\\item 32.3875\n",
              "\\item 32.5675\n",
              "\\item 32.735\n",
              "\\item 32.925\n",
              "\\item 32.8925\n",
              "\\item 32.82\n",
              "\\item 32.9\n",
              "\\item 32.9525\n",
              "\\item 32.9875\n",
              "\\item 32.7875\n",
              "\\item 32.49\n",
              "\\item 32.1375\n",
              "\\item 31.8625\n",
              "\\item 31.665\n",
              "\\item 31.49\n",
              "\\item 31.3275\n",
              "\\item 31.045\n",
              "\\item 30.87\n",
              "\\item 30.5675\n",
              "\\item 30.6175\n",
              "\\item 30.71\n",
              "\\item 30.615\n",
              "\\item 30.685\n",
              "\\item 30.4775\n",
              "\\item 30.3675\n",
              "\\item 30.6625\n",
              "\\item 31.1375\n",
              "\\item 31.4925\n",
              "\\item 31.7725\n",
              "\\item 32.0025\n",
              "\\item 32.12\n",
              "\\item 32.2725\n",
              "\\item 32.5125\n",
              "\\item 32.325\n",
              "\\item 32.2125\n",
              "\\item 32.13\n",
              "\\item 32.24\n",
              "\\item 32.3875\n",
              "\\item 32.425\n",
              "\\item 32.255\n",
              "\\item 31.8275\n",
              "\\item 31.5475\n",
              "\\item 31.2275\n",
              "\\item 31.735\n",
              "\\item 32.32\n",
              "\\item 32.87\n",
              "\\item 33.33\n",
              "\\item 33.21\n",
              "\\item 32.915\n",
              "\\item 32.7725\n",
              "\\item 32.74\n",
              "\\item 32.74\n",
              "\\item 32.715\n",
              "\\item 32.6175\n",
              "\\item 32.4975\n",
              "\\item 32.4075\n",
              "\\item 32.63\n",
              "\\item 32.7\n",
              "\\item 32.72\n",
              "\\item 32.5525\n",
              "\\item 31.9575\n",
              "\\item 31.5\n",
              "\\item 31.155\n",
              "\\item 30.8175\n",
              "\\item 30.665\n",
              "\\item 30.215\n",
              "\\item 30.045\n",
              "\\item 30.1525\n",
              "\\item 30.365\n",
              "\\item 31.3375\n",
              "\\item 31.9475\n",
              "\\item 32.37\n",
              "\\item 32.68\n",
              "\\item 32.4025\n",
              "\\item 32.13\n",
              "\\item 31.745\n",
              "\\item 31.405\n",
              "\\item 31.1475\n",
              "\\item 30.8125\n",
              "\\end{enumerate*}\n"
            ],
            "text/markdown": [
              "1. &lt;NA&gt;\n",
              "2. &lt;NA&gt;\n",
              "3. &lt;NA&gt;\n",
              "4. 36.09\n",
              "5. 34.8725\n",
              "6. 34.7575\n",
              "7. 34.66\n",
              "8. 34.785\n",
              "9. 35.045\n",
              "10. 35.1725\n",
              "11. 35.115\n",
              "12. 34.9925\n",
              "13. 34.93\n",
              "14. 34.665\n",
              "15. 34.34\n",
              "16. 33.98\n",
              "17. 33.5375\n",
              "18. 33.29\n",
              "19. 32.96\n",
              "20. 32.76\n",
              "21. 32.485\n",
              "22. 32.3875\n",
              "23. 32.5675\n",
              "24. 32.735\n",
              "25. 32.925\n",
              "26. 32.8925\n",
              "27. 32.82\n",
              "28. 32.9\n",
              "29. 32.9525\n",
              "30. 32.9875\n",
              "31. 32.7875\n",
              "32. 32.49\n",
              "33. 32.1375\n",
              "34. 31.8625\n",
              "35. 31.665\n",
              "36. 31.49\n",
              "37. 31.3275\n",
              "38. 31.045\n",
              "39. 30.87\n",
              "40. 30.5675\n",
              "41. 30.6175\n",
              "42. 30.71\n",
              "43. 30.615\n",
              "44. 30.685\n",
              "45. 30.4775\n",
              "46. 30.3675\n",
              "47. 30.6625\n",
              "48. 31.1375\n",
              "49. 31.4925\n",
              "50. 31.7725\n",
              "51. 32.0025\n",
              "52. 32.12\n",
              "53. 32.2725\n",
              "54. 32.5125\n",
              "55. 32.325\n",
              "56. 32.2125\n",
              "57. 32.13\n",
              "58. 32.24\n",
              "59. 32.3875\n",
              "60. 32.425\n",
              "61. 32.255\n",
              "62. 31.8275\n",
              "63. 31.5475\n",
              "64. 31.2275\n",
              "65. 31.735\n",
              "66. 32.32\n",
              "67. 32.87\n",
              "68. 33.33\n",
              "69. 33.21\n",
              "70. 32.915\n",
              "71. 32.7725\n",
              "72. 32.74\n",
              "73. 32.74\n",
              "74. 32.715\n",
              "75. 32.6175\n",
              "76. 32.4975\n",
              "77. 32.4075\n",
              "78. 32.63\n",
              "79. 32.7\n",
              "80. 32.72\n",
              "81. 32.5525\n",
              "82. 31.9575\n",
              "83. 31.5\n",
              "84. 31.155\n",
              "85. 30.8175\n",
              "86. 30.665\n",
              "87. 30.215\n",
              "88. 30.045\n",
              "89. 30.1525\n",
              "90. 30.365\n",
              "91. 31.3375\n",
              "92. 31.9475\n",
              "93. 32.37\n",
              "94. 32.68\n",
              "95. 32.4025\n",
              "96. 32.13\n",
              "97. 31.745\n",
              "98. 31.405\n",
              "99. 31.1475\n",
              "100. 30.8125\n",
              "\n",
              "\n"
            ],
            "text/plain": [
              "  [1]      NA      NA      NA 36.0900 34.8725 34.7575 34.6600 34.7850 35.0450\n",
              " [10] 35.1725 35.1150 34.9925 34.9300 34.6650 34.3400 33.9800 33.5375 33.2900\n",
              " [19] 32.9600 32.7600 32.4850 32.3875 32.5675 32.7350 32.9250 32.8925 32.8200\n",
              " [28] 32.9000 32.9525 32.9875 32.7875 32.4900 32.1375 31.8625 31.6650 31.4900\n",
              " [37] 31.3275 31.0450 30.8700 30.5675 30.6175 30.7100 30.6150 30.6850 30.4775\n",
              " [46] 30.3675 30.6625 31.1375 31.4925 31.7725 32.0025 32.1200 32.2725 32.5125\n",
              " [55] 32.3250 32.2125 32.1300 32.2400 32.3875 32.4250 32.2550 31.8275 31.5475\n",
              " [64] 31.2275 31.7350 32.3200 32.8700 33.3300 33.2100 32.9150 32.7725 32.7400\n",
              " [73] 32.7400 32.7150 32.6175 32.4975 32.4075 32.6300 32.7000 32.7200 32.5525\n",
              " [82] 31.9575 31.5000 31.1550 30.8175 30.6650 30.2150 30.0450 30.1525 30.3650\n",
              " [91] 31.3375 31.9475 32.3700 32.6800 32.4025 32.1300 31.7450 31.4050 31.1475\n",
              "[100] 30.8125"
            ]
          },
          "metadata": {},
          "output_type": "display_data"
        }
      ],
      "source": [
        "data.sma = SMA(data.ts, n=4)\n",
        "data.sma"
      ]
    },
    {
      "cell_type": "markdown",
      "id": "bdc202e9",
      "metadata": {},
      "source": [
        "<div style=\"border-radius: 10px; border: #0ea5e9 solid; padding: 15px; background-color: #ffffff00; font-size: 100%; text-align: left;\">\n",
        "    <b>🖊️ Analisis :</b> menampilkan SMA(Simple moving Average) dengan rata-rata 4 jeda baris elemen secara berurutan.\n",
        "</div>"
      ]
    },
    {
      "cell_type": "code",
      "execution_count": 27,
      "id": "37d08292",
      "metadata": {
        "vscode": {
          "languageId": "r"
        }
      },
      "outputs": [
        {
          "data": {
            "text/html": [
              "<style>\n",
              ".list-inline {list-style: none; margin:0; padding: 0}\n",
              ".list-inline>li {display: inline-block}\n",
              ".list-inline>li:not(:last-child)::after {content: \"\\00b7\"; padding: 0 .5ex}\n",
              "</style>\n",
              "<ol class=list-inline><li>&lt;NA&gt;</li><li>&lt;NA&gt;</li><li>&lt;NA&gt;</li><li>&lt;NA&gt;</li><li>36.09</li><li>34.8725</li><li>34.7575</li><li>34.66</li><li>34.785</li><li>35.045</li><li>35.1725</li><li>35.115</li><li>34.9925</li><li>34.93</li><li>34.665</li><li>34.34</li><li>33.98</li><li>33.5375</li><li>33.29</li><li>32.96</li><li>32.76</li><li>32.485</li><li>32.3875</li><li>32.5675</li><li>32.735</li><li>32.925</li><li>32.8925</li><li>32.82</li><li>32.9</li><li>32.9525</li><li>32.9875</li><li>32.7875</li><li>32.49</li><li>32.1375</li><li>31.8625</li><li>31.665</li><li>31.49</li><li>31.3275</li><li>31.045</li><li>30.87</li><li>30.5675</li><li>30.6175</li><li>30.71</li><li>30.615</li><li>30.685</li><li>30.4775</li><li>30.3675</li><li>30.6625</li><li>31.1375</li><li>31.4925</li><li>31.7725</li><li>32.0025</li><li>32.12</li><li>32.2725</li><li>32.5125</li><li>32.325</li><li>32.2125</li><li>32.13</li><li>32.24</li><li>32.3875</li><li>32.425</li><li>32.255</li><li>31.8275</li><li>31.5475</li><li>31.2275</li><li>31.735</li><li>32.32</li><li>32.87</li><li>33.33</li><li>33.21</li><li>32.915</li><li>32.7725</li><li>32.74</li><li>32.74</li><li>32.715</li><li>32.6175</li><li>32.4975</li><li>32.4075</li><li>32.63</li><li>32.7</li><li>32.72</li><li>32.5525</li><li>31.9575</li><li>31.5</li><li>31.155</li><li>30.8175</li><li>30.665</li><li>30.215</li><li>30.045</li><li>30.1525</li><li>30.365</li><li>31.3375</li><li>31.9475</li><li>32.37</li><li>32.68</li><li>32.4025</li><li>32.13</li><li>31.745</li><li>31.405</li><li>31.1475</li><li>30.8125</li></ol>\n"
            ],
            "text/latex": [
              "\\begin{enumerate*}\n",
              "\\item <NA>\n",
              "\\item <NA>\n",
              "\\item <NA>\n",
              "\\item <NA>\n",
              "\\item 36.09\n",
              "\\item 34.8725\n",
              "\\item 34.7575\n",
              "\\item 34.66\n",
              "\\item 34.785\n",
              "\\item 35.045\n",
              "\\item 35.1725\n",
              "\\item 35.115\n",
              "\\item 34.9925\n",
              "\\item 34.93\n",
              "\\item 34.665\n",
              "\\item 34.34\n",
              "\\item 33.98\n",
              "\\item 33.5375\n",
              "\\item 33.29\n",
              "\\item 32.96\n",
              "\\item 32.76\n",
              "\\item 32.485\n",
              "\\item 32.3875\n",
              "\\item 32.5675\n",
              "\\item 32.735\n",
              "\\item 32.925\n",
              "\\item 32.8925\n",
              "\\item 32.82\n",
              "\\item 32.9\n",
              "\\item 32.9525\n",
              "\\item 32.9875\n",
              "\\item 32.7875\n",
              "\\item 32.49\n",
              "\\item 32.1375\n",
              "\\item 31.8625\n",
              "\\item 31.665\n",
              "\\item 31.49\n",
              "\\item 31.3275\n",
              "\\item 31.045\n",
              "\\item 30.87\n",
              "\\item 30.5675\n",
              "\\item 30.6175\n",
              "\\item 30.71\n",
              "\\item 30.615\n",
              "\\item 30.685\n",
              "\\item 30.4775\n",
              "\\item 30.3675\n",
              "\\item 30.6625\n",
              "\\item 31.1375\n",
              "\\item 31.4925\n",
              "\\item 31.7725\n",
              "\\item 32.0025\n",
              "\\item 32.12\n",
              "\\item 32.2725\n",
              "\\item 32.5125\n",
              "\\item 32.325\n",
              "\\item 32.2125\n",
              "\\item 32.13\n",
              "\\item 32.24\n",
              "\\item 32.3875\n",
              "\\item 32.425\n",
              "\\item 32.255\n",
              "\\item 31.8275\n",
              "\\item 31.5475\n",
              "\\item 31.2275\n",
              "\\item 31.735\n",
              "\\item 32.32\n",
              "\\item 32.87\n",
              "\\item 33.33\n",
              "\\item 33.21\n",
              "\\item 32.915\n",
              "\\item 32.7725\n",
              "\\item 32.74\n",
              "\\item 32.74\n",
              "\\item 32.715\n",
              "\\item 32.6175\n",
              "\\item 32.4975\n",
              "\\item 32.4075\n",
              "\\item 32.63\n",
              "\\item 32.7\n",
              "\\item 32.72\n",
              "\\item 32.5525\n",
              "\\item 31.9575\n",
              "\\item 31.5\n",
              "\\item 31.155\n",
              "\\item 30.8175\n",
              "\\item 30.665\n",
              "\\item 30.215\n",
              "\\item 30.045\n",
              "\\item 30.1525\n",
              "\\item 30.365\n",
              "\\item 31.3375\n",
              "\\item 31.9475\n",
              "\\item 32.37\n",
              "\\item 32.68\n",
              "\\item 32.4025\n",
              "\\item 32.13\n",
              "\\item 31.745\n",
              "\\item 31.405\n",
              "\\item 31.1475\n",
              "\\item 30.8125\n",
              "\\end{enumerate*}\n"
            ],
            "text/markdown": [
              "1. &lt;NA&gt;\n",
              "2. &lt;NA&gt;\n",
              "3. &lt;NA&gt;\n",
              "4. &lt;NA&gt;\n",
              "5. 36.09\n",
              "6. 34.8725\n",
              "7. 34.7575\n",
              "8. 34.66\n",
              "9. 34.785\n",
              "10. 35.045\n",
              "11. 35.1725\n",
              "12. 35.115\n",
              "13. 34.9925\n",
              "14. 34.93\n",
              "15. 34.665\n",
              "16. 34.34\n",
              "17. 33.98\n",
              "18. 33.5375\n",
              "19. 33.29\n",
              "20. 32.96\n",
              "21. 32.76\n",
              "22. 32.485\n",
              "23. 32.3875\n",
              "24. 32.5675\n",
              "25. 32.735\n",
              "26. 32.925\n",
              "27. 32.8925\n",
              "28. 32.82\n",
              "29. 32.9\n",
              "30. 32.9525\n",
              "31. 32.9875\n",
              "32. 32.7875\n",
              "33. 32.49\n",
              "34. 32.1375\n",
              "35. 31.8625\n",
              "36. 31.665\n",
              "37. 31.49\n",
              "38. 31.3275\n",
              "39. 31.045\n",
              "40. 30.87\n",
              "41. 30.5675\n",
              "42. 30.6175\n",
              "43. 30.71\n",
              "44. 30.615\n",
              "45. 30.685\n",
              "46. 30.4775\n",
              "47. 30.3675\n",
              "48. 30.6625\n",
              "49. 31.1375\n",
              "50. 31.4925\n",
              "51. 31.7725\n",
              "52. 32.0025\n",
              "53. 32.12\n",
              "54. 32.2725\n",
              "55. 32.5125\n",
              "56. 32.325\n",
              "57. 32.2125\n",
              "58. 32.13\n",
              "59. 32.24\n",
              "60. 32.3875\n",
              "61. 32.425\n",
              "62. 32.255\n",
              "63. 31.8275\n",
              "64. 31.5475\n",
              "65. 31.2275\n",
              "66. 31.735\n",
              "67. 32.32\n",
              "68. 32.87\n",
              "69. 33.33\n",
              "70. 33.21\n",
              "71. 32.915\n",
              "72. 32.7725\n",
              "73. 32.74\n",
              "74. 32.74\n",
              "75. 32.715\n",
              "76. 32.6175\n",
              "77. 32.4975\n",
              "78. 32.4075\n",
              "79. 32.63\n",
              "80. 32.7\n",
              "81. 32.72\n",
              "82. 32.5525\n",
              "83. 31.9575\n",
              "84. 31.5\n",
              "85. 31.155\n",
              "86. 30.8175\n",
              "87. 30.665\n",
              "88. 30.215\n",
              "89. 30.045\n",
              "90. 30.1525\n",
              "91. 30.365\n",
              "92. 31.3375\n",
              "93. 31.9475\n",
              "94. 32.37\n",
              "95. 32.68\n",
              "96. 32.4025\n",
              "97. 32.13\n",
              "98. 31.745\n",
              "99. 31.405\n",
              "100. 31.1475\n",
              "101. 30.8125\n",
              "\n",
              "\n"
            ],
            "text/plain": [
              "  [1]      NA      NA      NA      NA 36.0900 34.8725 34.7575 34.6600 34.7850\n",
              " [10] 35.0450 35.1725 35.1150 34.9925 34.9300 34.6650 34.3400 33.9800 33.5375\n",
              " [19] 33.2900 32.9600 32.7600 32.4850 32.3875 32.5675 32.7350 32.9250 32.8925\n",
              " [28] 32.8200 32.9000 32.9525 32.9875 32.7875 32.4900 32.1375 31.8625 31.6650\n",
              " [37] 31.4900 31.3275 31.0450 30.8700 30.5675 30.6175 30.7100 30.6150 30.6850\n",
              " [46] 30.4775 30.3675 30.6625 31.1375 31.4925 31.7725 32.0025 32.1200 32.2725\n",
              " [55] 32.5125 32.3250 32.2125 32.1300 32.2400 32.3875 32.4250 32.2550 31.8275\n",
              " [64] 31.5475 31.2275 31.7350 32.3200 32.8700 33.3300 33.2100 32.9150 32.7725\n",
              " [73] 32.7400 32.7400 32.7150 32.6175 32.4975 32.4075 32.6300 32.7000 32.7200\n",
              " [82] 32.5525 31.9575 31.5000 31.1550 30.8175 30.6650 30.2150 30.0450 30.1525\n",
              " [91] 30.3650 31.3375 31.9475 32.3700 32.6800 32.4025 32.1300 31.7450 31.4050\n",
              "[100] 31.1475 30.8125"
            ]
          },
          "metadata": {},
          "output_type": "display_data"
        }
      ],
      "source": [
        "data.peramalan = c(NA,data.sma)\n",
        "data.peramalan"
      ]
    },
    {
      "cell_type": "markdown",
      "id": "13d6c5be",
      "metadata": {},
      "source": [
        "<div style=\"border-radius: 10px; border: #0ea5e9 solid; padding: 15px; background-color: #ffffff00; font-size: 100%; text-align: left;\">\n",
        "    <b>🖊️ Analisis :</b> Kali ini untuk teknik time seriesnya menambahkan nilai NA untuk memperluas data deret waktu dengan nilai prediksi Simple moving average tadi.\n",
        "</div>"
      ]
    },
    {
      "cell_type": "code",
      "execution_count": 28,
      "id": "00f936ed",
      "metadata": {
        "vscode": {
          "languageId": "r"
        }
      },
      "outputs": [
        {
          "data": {
            "text/html": [
              "<table class=\"dataframe\">\n",
              "<caption>A matrix: 105 × 3 of type dbl</caption>\n",
              "<thead>\n",
              "\t<tr><th scope=col>aktual</th><th scope=col>pemulusan</th><th scope=col>ramalan</th></tr>\n",
              "</thead>\n",
              "<tbody>\n",
              "\t<tr><td>39.09</td><td>     NA</td><td>     NA</td></tr>\n",
              "\t<tr><td>35.01</td><td>     NA</td><td>     NA</td></tr>\n",
              "\t<tr><td>35.82</td><td>     NA</td><td>     NA</td></tr>\n",
              "\t<tr><td>34.44</td><td>36.0900</td><td>     NA</td></tr>\n",
              "\t<tr><td>34.22</td><td>34.8725</td><td>36.0900</td></tr>\n",
              "\t<tr><td>34.55</td><td>34.7575</td><td>34.8725</td></tr>\n",
              "\t<tr><td>35.43</td><td>34.6600</td><td>34.7575</td></tr>\n",
              "\t<tr><td>34.94</td><td>34.7850</td><td>34.6600</td></tr>\n",
              "\t<tr><td>35.26</td><td>35.0450</td><td>34.7850</td></tr>\n",
              "\t<tr><td>35.06</td><td>35.1725</td><td>35.0450</td></tr>\n",
              "\t<tr><td>35.20</td><td>35.1150</td><td>35.1725</td></tr>\n",
              "\t<tr><td>34.45</td><td>34.9925</td><td>35.1150</td></tr>\n",
              "\t<tr><td>35.01</td><td>34.9300</td><td>34.9925</td></tr>\n",
              "\t<tr><td>34.00</td><td>34.6650</td><td>34.9300</td></tr>\n",
              "\t<tr><td>33.90</td><td>34.3400</td><td>34.6650</td></tr>\n",
              "\t<tr><td>33.01</td><td>33.9800</td><td>34.3400</td></tr>\n",
              "\t<tr><td>33.24</td><td>33.5375</td><td>33.9800</td></tr>\n",
              "\t<tr><td>33.01</td><td>33.2900</td><td>33.5375</td></tr>\n",
              "\t<tr><td>32.58</td><td>32.9600</td><td>33.2900</td></tr>\n",
              "\t<tr><td>32.21</td><td>32.7600</td><td>32.9600</td></tr>\n",
              "\t<tr><td>32.14</td><td>32.4850</td><td>32.7600</td></tr>\n",
              "\t<tr><td>32.62</td><td>32.3875</td><td>32.4850</td></tr>\n",
              "\t<tr><td>33.30</td><td>32.5675</td><td>32.3875</td></tr>\n",
              "\t<tr><td>32.88</td><td>32.7350</td><td>32.5675</td></tr>\n",
              "\t<tr><td>32.90</td><td>32.9250</td><td>32.7350</td></tr>\n",
              "\t<tr><td>32.49</td><td>32.8925</td><td>32.9250</td></tr>\n",
              "\t<tr><td>33.01</td><td>32.8200</td><td>32.8925</td></tr>\n",
              "\t<tr><td>33.20</td><td>32.9000</td><td>32.8200</td></tr>\n",
              "\t<tr><td>33.11</td><td>32.9525</td><td>32.9000</td></tr>\n",
              "\t<tr><td>32.63</td><td>32.9875</td><td>32.9525</td></tr>\n",
              "\t<tr><td>⋮</td><td>⋮</td><td>⋮</td></tr>\n",
              "\t<tr><td>32.40</td><td>32.4975</td><td>32.6175</td></tr>\n",
              "\t<tr><td>32.63</td><td>32.4075</td><td>32.4975</td></tr>\n",
              "\t<tr><td>33.09</td><td>32.6300</td><td>32.4075</td></tr>\n",
              "\t<tr><td>32.68</td><td>32.7000</td><td>32.6300</td></tr>\n",
              "\t<tr><td>32.48</td><td>32.7200</td><td>32.7000</td></tr>\n",
              "\t<tr><td>31.96</td><td>32.5525</td><td>32.7200</td></tr>\n",
              "\t<tr><td>30.71</td><td>31.9575</td><td>32.5525</td></tr>\n",
              "\t<tr><td>30.85</td><td>31.5000</td><td>31.9575</td></tr>\n",
              "\t<tr><td>31.10</td><td>31.1550</td><td>31.5000</td></tr>\n",
              "\t<tr><td>30.61</td><td>30.8175</td><td>31.1550</td></tr>\n",
              "\t<tr><td>30.10</td><td>30.6650</td><td>30.8175</td></tr>\n",
              "\t<tr><td>29.05</td><td>30.2150</td><td>30.6650</td></tr>\n",
              "\t<tr><td>30.42</td><td>30.0450</td><td>30.2150</td></tr>\n",
              "\t<tr><td>31.04</td><td>30.1525</td><td>30.0450</td></tr>\n",
              "\t<tr><td>30.95</td><td>30.3650</td><td>30.1525</td></tr>\n",
              "\t<tr><td>32.94</td><td>31.3375</td><td>30.3650</td></tr>\n",
              "\t<tr><td>32.86</td><td>31.9475</td><td>31.3375</td></tr>\n",
              "\t<tr><td>32.73</td><td>32.3700</td><td>31.9475</td></tr>\n",
              "\t<tr><td>32.19</td><td>32.6800</td><td>32.3700</td></tr>\n",
              "\t<tr><td>31.83</td><td>32.4025</td><td>32.6800</td></tr>\n",
              "\t<tr><td>31.77</td><td>32.1300</td><td>32.4025</td></tr>\n",
              "\t<tr><td>31.19</td><td>31.7450</td><td>32.1300</td></tr>\n",
              "\t<tr><td>30.83</td><td>31.4050</td><td>31.7450</td></tr>\n",
              "\t<tr><td>30.80</td><td>31.1475</td><td>31.4050</td></tr>\n",
              "\t<tr><td>30.43</td><td>30.8125</td><td>31.1475</td></tr>\n",
              "\t<tr><td>   NA</td><td>     NA</td><td>30.8125</td></tr>\n",
              "\t<tr><td>   NA</td><td>     NA</td><td>30.8125</td></tr>\n",
              "\t<tr><td>   NA</td><td>     NA</td><td>30.8125</td></tr>\n",
              "\t<tr><td>   NA</td><td>     NA</td><td>30.8125</td></tr>\n",
              "\t<tr><td>   NA</td><td>     NA</td><td>30.8125</td></tr>\n",
              "</tbody>\n",
              "</table>\n"
            ],
            "text/latex": [
              "A matrix: 105 × 3 of type dbl\n",
              "\\begin{tabular}{lll}\n",
              " aktual & pemulusan & ramalan\\\\\n",
              "\\hline\n",
              "\t 39.09 &      NA &      NA\\\\\n",
              "\t 35.01 &      NA &      NA\\\\\n",
              "\t 35.82 &      NA &      NA\\\\\n",
              "\t 34.44 & 36.0900 &      NA\\\\\n",
              "\t 34.22 & 34.8725 & 36.0900\\\\\n",
              "\t 34.55 & 34.7575 & 34.8725\\\\\n",
              "\t 35.43 & 34.6600 & 34.7575\\\\\n",
              "\t 34.94 & 34.7850 & 34.6600\\\\\n",
              "\t 35.26 & 35.0450 & 34.7850\\\\\n",
              "\t 35.06 & 35.1725 & 35.0450\\\\\n",
              "\t 35.20 & 35.1150 & 35.1725\\\\\n",
              "\t 34.45 & 34.9925 & 35.1150\\\\\n",
              "\t 35.01 & 34.9300 & 34.9925\\\\\n",
              "\t 34.00 & 34.6650 & 34.9300\\\\\n",
              "\t 33.90 & 34.3400 & 34.6650\\\\\n",
              "\t 33.01 & 33.9800 & 34.3400\\\\\n",
              "\t 33.24 & 33.5375 & 33.9800\\\\\n",
              "\t 33.01 & 33.2900 & 33.5375\\\\\n",
              "\t 32.58 & 32.9600 & 33.2900\\\\\n",
              "\t 32.21 & 32.7600 & 32.9600\\\\\n",
              "\t 32.14 & 32.4850 & 32.7600\\\\\n",
              "\t 32.62 & 32.3875 & 32.4850\\\\\n",
              "\t 33.30 & 32.5675 & 32.3875\\\\\n",
              "\t 32.88 & 32.7350 & 32.5675\\\\\n",
              "\t 32.90 & 32.9250 & 32.7350\\\\\n",
              "\t 32.49 & 32.8925 & 32.9250\\\\\n",
              "\t 33.01 & 32.8200 & 32.8925\\\\\n",
              "\t 33.20 & 32.9000 & 32.8200\\\\\n",
              "\t 33.11 & 32.9525 & 32.9000\\\\\n",
              "\t 32.63 & 32.9875 & 32.9525\\\\\n",
              "\t ⋮ & ⋮ & ⋮\\\\\n",
              "\t 32.40 & 32.4975 & 32.6175\\\\\n",
              "\t 32.63 & 32.4075 & 32.4975\\\\\n",
              "\t 33.09 & 32.6300 & 32.4075\\\\\n",
              "\t 32.68 & 32.7000 & 32.6300\\\\\n",
              "\t 32.48 & 32.7200 & 32.7000\\\\\n",
              "\t 31.96 & 32.5525 & 32.7200\\\\\n",
              "\t 30.71 & 31.9575 & 32.5525\\\\\n",
              "\t 30.85 & 31.5000 & 31.9575\\\\\n",
              "\t 31.10 & 31.1550 & 31.5000\\\\\n",
              "\t 30.61 & 30.8175 & 31.1550\\\\\n",
              "\t 30.10 & 30.6650 & 30.8175\\\\\n",
              "\t 29.05 & 30.2150 & 30.6650\\\\\n",
              "\t 30.42 & 30.0450 & 30.2150\\\\\n",
              "\t 31.04 & 30.1525 & 30.0450\\\\\n",
              "\t 30.95 & 30.3650 & 30.1525\\\\\n",
              "\t 32.94 & 31.3375 & 30.3650\\\\\n",
              "\t 32.86 & 31.9475 & 31.3375\\\\\n",
              "\t 32.73 & 32.3700 & 31.9475\\\\\n",
              "\t 32.19 & 32.6800 & 32.3700\\\\\n",
              "\t 31.83 & 32.4025 & 32.6800\\\\\n",
              "\t 31.77 & 32.1300 & 32.4025\\\\\n",
              "\t 31.19 & 31.7450 & 32.1300\\\\\n",
              "\t 30.83 & 31.4050 & 31.7450\\\\\n",
              "\t 30.80 & 31.1475 & 31.4050\\\\\n",
              "\t 30.43 & 30.8125 & 31.1475\\\\\n",
              "\t    NA &      NA & 30.8125\\\\\n",
              "\t    NA &      NA & 30.8125\\\\\n",
              "\t    NA &      NA & 30.8125\\\\\n",
              "\t    NA &      NA & 30.8125\\\\\n",
              "\t    NA &      NA & 30.8125\\\\\n",
              "\\end{tabular}\n"
            ],
            "text/markdown": [
              "\n",
              "A matrix: 105 × 3 of type dbl\n",
              "\n",
              "| aktual | pemulusan | ramalan |\n",
              "|---|---|---|\n",
              "| 39.09 |      NA |      NA |\n",
              "| 35.01 |      NA |      NA |\n",
              "| 35.82 |      NA |      NA |\n",
              "| 34.44 | 36.0900 |      NA |\n",
              "| 34.22 | 34.8725 | 36.0900 |\n",
              "| 34.55 | 34.7575 | 34.8725 |\n",
              "| 35.43 | 34.6600 | 34.7575 |\n",
              "| 34.94 | 34.7850 | 34.6600 |\n",
              "| 35.26 | 35.0450 | 34.7850 |\n",
              "| 35.06 | 35.1725 | 35.0450 |\n",
              "| 35.20 | 35.1150 | 35.1725 |\n",
              "| 34.45 | 34.9925 | 35.1150 |\n",
              "| 35.01 | 34.9300 | 34.9925 |\n",
              "| 34.00 | 34.6650 | 34.9300 |\n",
              "| 33.90 | 34.3400 | 34.6650 |\n",
              "| 33.01 | 33.9800 | 34.3400 |\n",
              "| 33.24 | 33.5375 | 33.9800 |\n",
              "| 33.01 | 33.2900 | 33.5375 |\n",
              "| 32.58 | 32.9600 | 33.2900 |\n",
              "| 32.21 | 32.7600 | 32.9600 |\n",
              "| 32.14 | 32.4850 | 32.7600 |\n",
              "| 32.62 | 32.3875 | 32.4850 |\n",
              "| 33.30 | 32.5675 | 32.3875 |\n",
              "| 32.88 | 32.7350 | 32.5675 |\n",
              "| 32.90 | 32.9250 | 32.7350 |\n",
              "| 32.49 | 32.8925 | 32.9250 |\n",
              "| 33.01 | 32.8200 | 32.8925 |\n",
              "| 33.20 | 32.9000 | 32.8200 |\n",
              "| 33.11 | 32.9525 | 32.9000 |\n",
              "| 32.63 | 32.9875 | 32.9525 |\n",
              "| ⋮ | ⋮ | ⋮ |\n",
              "| 32.40 | 32.4975 | 32.6175 |\n",
              "| 32.63 | 32.4075 | 32.4975 |\n",
              "| 33.09 | 32.6300 | 32.4075 |\n",
              "| 32.68 | 32.7000 | 32.6300 |\n",
              "| 32.48 | 32.7200 | 32.7000 |\n",
              "| 31.96 | 32.5525 | 32.7200 |\n",
              "| 30.71 | 31.9575 | 32.5525 |\n",
              "| 30.85 | 31.5000 | 31.9575 |\n",
              "| 31.10 | 31.1550 | 31.5000 |\n",
              "| 30.61 | 30.8175 | 31.1550 |\n",
              "| 30.10 | 30.6650 | 30.8175 |\n",
              "| 29.05 | 30.2150 | 30.6650 |\n",
              "| 30.42 | 30.0450 | 30.2150 |\n",
              "| 31.04 | 30.1525 | 30.0450 |\n",
              "| 30.95 | 30.3650 | 30.1525 |\n",
              "| 32.94 | 31.3375 | 30.3650 |\n",
              "| 32.86 | 31.9475 | 31.3375 |\n",
              "| 32.73 | 32.3700 | 31.9475 |\n",
              "| 32.19 | 32.6800 | 32.3700 |\n",
              "| 31.83 | 32.4025 | 32.6800 |\n",
              "| 31.77 | 32.1300 | 32.4025 |\n",
              "| 31.19 | 31.7450 | 32.1300 |\n",
              "| 30.83 | 31.4050 | 31.7450 |\n",
              "| 30.80 | 31.1475 | 31.4050 |\n",
              "| 30.43 | 30.8125 | 31.1475 |\n",
              "|    NA |      NA | 30.8125 |\n",
              "|    NA |      NA | 30.8125 |\n",
              "|    NA |      NA | 30.8125 |\n",
              "|    NA |      NA | 30.8125 |\n",
              "|    NA |      NA | 30.8125 |\n",
              "\n"
            ],
            "text/plain": [
              "      aktual pemulusan ramalan\n",
              " [1,] 39.09       NA        NA\n",
              " [2,] 35.01       NA        NA\n",
              " [3,] 35.82       NA        NA\n",
              " [4,] 34.44  36.0900        NA\n",
              " [5,] 34.22  34.8725   36.0900\n",
              " [6,] 34.55  34.7575   34.8725\n",
              " [7,] 35.43  34.6600   34.7575\n",
              " [8,] 34.94  34.7850   34.6600\n",
              " [9,] 35.26  35.0450   34.7850\n",
              "[10,] 35.06  35.1725   35.0450\n",
              "[11,] 35.20  35.1150   35.1725\n",
              "[12,] 34.45  34.9925   35.1150\n",
              "[13,] 35.01  34.9300   34.9925\n",
              "[14,] 34.00  34.6650   34.9300\n",
              "[15,] 33.90  34.3400   34.6650\n",
              "[16,] 33.01  33.9800   34.3400\n",
              "[17,] 33.24  33.5375   33.9800\n",
              "[18,] 33.01  33.2900   33.5375\n",
              "[19,] 32.58  32.9600   33.2900\n",
              "[20,] 32.21  32.7600   32.9600\n",
              "[21,] 32.14  32.4850   32.7600\n",
              "[22,] 32.62  32.3875   32.4850\n",
              "[23,] 33.30  32.5675   32.3875\n",
              "[24,] 32.88  32.7350   32.5675\n",
              "[25,] 32.90  32.9250   32.7350\n",
              "[26,] 32.49  32.8925   32.9250\n",
              "[27,] 33.01  32.8200   32.8925\n",
              "[28,] 33.20  32.9000   32.8200\n",
              "[29,] 33.11  32.9525   32.9000\n",
              "[30,] 32.63  32.9875   32.9525\n",
              "[31,] ⋮      ⋮         ⋮      \n",
              "[32,] 32.40  32.4975   32.6175\n",
              "[33,] 32.63  32.4075   32.4975\n",
              "[34,] 33.09  32.6300   32.4075\n",
              "[35,] 32.68  32.7000   32.6300\n",
              "[36,] 32.48  32.7200   32.7000\n",
              "[37,] 31.96  32.5525   32.7200\n",
              "[38,] 30.71  31.9575   32.5525\n",
              "[39,] 30.85  31.5000   31.9575\n",
              "[40,] 31.10  31.1550   31.5000\n",
              "[41,] 30.61  30.8175   31.1550\n",
              "[42,] 30.10  30.6650   30.8175\n",
              "[43,] 29.05  30.2150   30.6650\n",
              "[44,] 30.42  30.0450   30.2150\n",
              "[45,] 31.04  30.1525   30.0450\n",
              "[46,] 30.95  30.3650   30.1525\n",
              "[47,] 32.94  31.3375   30.3650\n",
              "[48,] 32.86  31.9475   31.3375\n",
              "[49,] 32.73  32.3700   31.9475\n",
              "[50,] 32.19  32.6800   32.3700\n",
              "[51,] 31.83  32.4025   32.6800\n",
              "[52,] 31.77  32.1300   32.4025\n",
              "[53,] 31.19  31.7450   32.1300\n",
              "[54,] 30.83  31.4050   31.7450\n",
              "[55,] 30.80  31.1475   31.4050\n",
              "[56,] 30.43  30.8125   31.1475\n",
              "[57,]    NA       NA   30.8125\n",
              "[58,]    NA       NA   30.8125\n",
              "[59,]    NA       NA   30.8125\n",
              "[60,]    NA       NA   30.8125\n",
              "[61,]    NA       NA   30.8125"
            ]
          },
          "metadata": {},
          "output_type": "display_data"
        }
      ],
      "source": [
        "dataku <- cbind(aktual=c(data.ts,rep(NA,5)),pemulusan=c(data.sma,rep(NA,5)) ,ramalan=c(data.peramalan,rep(data.peramalan[length(data.peramalan)],4)))\n",
        "dataku"
      ]
    },
    {
      "cell_type": "code",
      "execution_count": 29,
      "id": "7f286c3d",
      "metadata": {
        "vscode": {
          "languageId": "r"
        }
      },
      "outputs": [
        {
          "data": {
            "image/png": "[encoded data removed]",
            "text/plain": [
              "Plot with title \"SMA N=4 Data Open Price\""
            ]
          },
          "metadata": {
            "image/png": {
              "height": 420,
              "width": 420
            }
          },
          "output_type": "display_data"
        }
      ],
      "source": [
        "ts.plot(data.ts, xlab=\"Time Period \", ylab=\"Open Price\", main= \"SMA N=4 Data Open Price\")\n",
        "points(data.ts)\n",
        "lines(data.sma,col=\"blue\",lwd=2)\n",
        "lines(data.peramalan,col=\"red\",lwd=2)\n",
        "legend(\"topleft\",c(\"data aktual\",\"data pemulusan\",\"data peramalan\"), lty=5, col=c(\"black\",\"blue\",\"red\"), cex=0.5)"
      ]
    },
    {
      "cell_type": "markdown",
      "id": "57209147",
      "metadata": {},
      "source": [
        "<div style=\"border-radius: 10px; border: #0ea5e9 solid; padding: 15px; background-color: #ffffff00; font-size: 100%; text-align: left;\">\n",
        "    <b>🖊️ Analisis :</b> Dataset di atas merupakan hasil analisa dari peramalan deret waktu. Hasil plot di atas merupaakan hasil visualisasi dari 3 data yaitu data aktual, data smoothing dan data forecasting yang ketiganya memiliki pergerakan yang hampir mirip\n",
        "</div>"
      ]
    },
    {
      "cell_type": "code",
      "execution_count": 30,
      "id": "76efc451",
      "metadata": {
        "vscode": {
          "languageId": "r"
        }
      },
      "outputs": [
        {
          "data": {
            "text/html": [
              "61.3459624999998"
            ],
            "text/latex": [
              "61.3459624999998"
            ],
            "text/markdown": [
              "61.3459624999998"
            ],
            "text/plain": [
              "[1] 61.34596"
            ]
          },
          "metadata": {},
          "output_type": "display_data"
        }
      ],
      "source": [
        "error=data.ts-data.peramalan[1:length(data.ts)]\n",
        "SSE=sum(error[5:length(data.ts)]^2)\n",
        "SSE"
      ]
    },
    {
      "cell_type": "code",
      "execution_count": 31,
      "id": "a9154139",
      "metadata": {
        "vscode": {
          "languageId": "r"
        }
      },
      "outputs": [
        {
          "data": {
            "text/html": [
              "0.639020442708332"
            ],
            "text/latex": [
              "0.639020442708332"
            ],
            "text/markdown": [
              "0.639020442708332"
            ],
            "text/plain": [
              "[1] 0.6390204"
            ]
          },
          "metadata": {},
          "output_type": "display_data"
        }
      ],
      "source": [
        "MSE=mean(error[5:length(data.ts)]^2)\n",
        "MSE"
      ]
    },
    {
      "cell_type": "code",
      "execution_count": 32,
      "id": "1348825f",
      "metadata": {
        "vscode": {
          "languageId": "r"
        }
      },
      "outputs": [
        {
          "data": {
            "text/html": [
              "1.94089892445136"
            ],
            "text/latex": [
              "1.94089892445136"
            ],
            "text/markdown": [
              "1.94089892445136"
            ],
            "text/plain": [
              "[1] 1.940899"
            ]
          },
          "metadata": {},
          "output_type": "display_data"
        }
      ],
      "source": [
        "MAPE=mean(abs((error[5:length(data.ts)]/data.ts[5:length(data.ts)])*100))\n",
        "MAPE"
      ]
    },
    {
      "cell_type": "markdown",
      "id": "b67fd9b5",
      "metadata": {},
      "source": [
        "<div style=\"border-radius: 10px; border: #0ea5e9 solid; padding: 15px; background-color: #ffffff00; font-size: 100%; text-align: left;\">\n",
        "    <b>🖊️ Analisis :</b> Disini untuk 3 teknik yang dipakai untuk evaluasi model yaitu melakukan perhitungan error, MSE, dan MSE. Nilai-nilai tersebut menunjukkan bahwa model cukup akurat.\n",
        "</div>"
      ]
    },
    {
      "cell_type": "markdown",
      "id": "5b7f1485",
      "metadata": {},
      "source": [
        "## Percobaan ke-2: Studi Kasus 2"
      ]
    },
    {
      "cell_type": "code",
      "execution_count": 33,
      "id": "63c5f794",
      "metadata": {
        "vscode": {
          "languageId": "r"
        }
      },
      "outputs": [
        {
          "data": {
            "text/html": [
              "<table class=\"dataframe\">\n",
              "<caption>A Time Series: 12 × 12</caption>\n",
              "<thead>\n",
              "\t<tr><th></th><th scope=col>Jan</th><th scope=col>Feb</th><th scope=col>Mar</th><th scope=col>Apr</th><th scope=col>May</th><th scope=col>Jun</th><th scope=col>Jul</th><th scope=col>Aug</th><th scope=col>Sep</th><th scope=col>Oct</th><th scope=col>Nov</th><th scope=col>Dec</th></tr>\n",
              "</thead>\n",
              "<tbody>\n",
              "\t<tr><th scope=row>1949</th><td>112</td><td>118</td><td>132</td><td>129</td><td>121</td><td>135</td><td>148</td><td>148</td><td>136</td><td>119</td><td>104</td><td>118</td></tr>\n",
              "\t<tr><th scope=row>1950</th><td>115</td><td>126</td><td>141</td><td>135</td><td>125</td><td>149</td><td>170</td><td>170</td><td>158</td><td>133</td><td>114</td><td>140</td></tr>\n",
              "\t<tr><th scope=row>1951</th><td>145</td><td>150</td><td>178</td><td>163</td><td>172</td><td>178</td><td>199</td><td>199</td><td>184</td><td>162</td><td>146</td><td>166</td></tr>\n",
              "\t<tr><th scope=row>1952</th><td>171</td><td>180</td><td>193</td><td>181</td><td>183</td><td>218</td><td>230</td><td>242</td><td>209</td><td>191</td><td>172</td><td>194</td></tr>\n",
              "\t<tr><th scope=row>1953</th><td>196</td><td>196</td><td>236</td><td>235</td><td>229</td><td>243</td><td>264</td><td>272</td><td>237</td><td>211</td><td>180</td><td>201</td></tr>\n",
              "\t<tr><th scope=row>1954</th><td>204</td><td>188</td><td>235</td><td>227</td><td>234</td><td>264</td><td>302</td><td>293</td><td>259</td><td>229</td><td>203</td><td>229</td></tr>\n",
              "\t<tr><th scope=row>1955</th><td>242</td><td>233</td><td>267</td><td>269</td><td>270</td><td>315</td><td>364</td><td>347</td><td>312</td><td>274</td><td>237</td><td>278</td></tr>\n",
              "\t<tr><th scope=row>1956</th><td>284</td><td>277</td><td>317</td><td>313</td><td>318</td><td>374</td><td>413</td><td>405</td><td>355</td><td>306</td><td>271</td><td>306</td></tr>\n",
              "\t<tr><th scope=row>1957</th><td>315</td><td>301</td><td>356</td><td>348</td><td>355</td><td>422</td><td>465</td><td>467</td><td>404</td><td>347</td><td>305</td><td>336</td></tr>\n",
              "\t<tr><th scope=row>1958</th><td>340</td><td>318</td><td>362</td><td>348</td><td>363</td><td>435</td><td>491</td><td>505</td><td>404</td><td>359</td><td>310</td><td>337</td></tr>\n",
              "\t<tr><th scope=row>1959</th><td>360</td><td>342</td><td>406</td><td>396</td><td>420</td><td>472</td><td>548</td><td>559</td><td>463</td><td>407</td><td>362</td><td>405</td></tr>\n",
              "\t<tr><th scope=row>1960</th><td>417</td><td>391</td><td>419</td><td>461</td><td>472</td><td>535</td><td>622</td><td>606</td><td>508</td><td>461</td><td>390</td><td>432</td></tr>\n",
              "</tbody>\n",
              "</table>\n"
            ],
            "text/latex": [
              "A Time Series: 12 × 12\n",
              "\\begin{tabular}{r|llllllllllll}\n",
              "  & Jan & Feb & Mar & Apr & May & Jun & Jul & Aug & Sep & Oct & Nov & Dec\\\\\n",
              "\\hline\n",
              "\t1949 & 112 & 118 & 132 & 129 & 121 & 135 & 148 & 148 & 136 & 119 & 104 & 118\\\\\n",
              "\t1950 & 115 & 126 & 141 & 135 & 125 & 149 & 170 & 170 & 158 & 133 & 114 & 140\\\\\n",
              "\t1951 & 145 & 150 & 178 & 163 & 172 & 178 & 199 & 199 & 184 & 162 & 146 & 166\\\\\n",
              "\t1952 & 171 & 180 & 193 & 181 & 183 & 218 & 230 & 242 & 209 & 191 & 172 & 194\\\\\n",
              "\t1953 & 196 & 196 & 236 & 235 & 229 & 243 & 264 & 272 & 237 & 211 & 180 & 201\\\\\n",
              "\t1954 & 204 & 188 & 235 & 227 & 234 & 264 & 302 & 293 & 259 & 229 & 203 & 229\\\\\n",
              "\t1955 & 242 & 233 & 267 & 269 & 270 & 315 & 364 & 347 & 312 & 274 & 237 & 278\\\\\n",
              "\t1956 & 284 & 277 & 317 & 313 & 318 & 374 & 413 & 405 & 355 & 306 & 271 & 306\\\\\n",
              "\t1957 & 315 & 301 & 356 & 348 & 355 & 422 & 465 & 467 & 404 & 347 & 305 & 336\\\\\n",
              "\t1958 & 340 & 318 & 362 & 348 & 363 & 435 & 491 & 505 & 404 & 359 & 310 & 337\\\\\n",
              "\t1959 & 360 & 342 & 406 & 396 & 420 & 472 & 548 & 559 & 463 & 407 & 362 & 405\\\\\n",
              "\t1960 & 417 & 391 & 419 & 461 & 472 & 535 & 622 & 606 & 508 & 461 & 390 & 432\\\\\n",
              "\\end{tabular}\n"
            ],
            "text/markdown": [
              "\n",
              "A Time Series: 12 × 12\n",
              "\n",
              "| <!--/--> | Jan | Feb | Mar | Apr | May | Jun | Jul | Aug | Sep | Oct | Nov | Dec |\n",
              "|---|---|---|---|---|---|---|---|---|---|---|---|---|\n",
              "| 1949 | 112 | 118 | 132 | 129 | 121 | 135 | 148 | 148 | 136 | 119 | 104 | 118 |\n",
              "| 1950 | 115 | 126 | 141 | 135 | 125 | 149 | 170 | 170 | 158 | 133 | 114 | 140 |\n",
              "| 1951 | 145 | 150 | 178 | 163 | 172 | 178 | 199 | 199 | 184 | 162 | 146 | 166 |\n",
              "| 1952 | 171 | 180 | 193 | 181 | 183 | 218 | 230 | 242 | 209 | 191 | 172 | 194 |\n",
              "| 1953 | 196 | 196 | 236 | 235 | 229 | 243 | 264 | 272 | 237 | 211 | 180 | 201 |\n",
              "| 1954 | 204 | 188 | 235 | 227 | 234 | 264 | 302 | 293 | 259 | 229 | 203 | 229 |\n",
              "| 1955 | 242 | 233 | 267 | 269 | 270 | 315 | 364 | 347 | 312 | 274 | 237 | 278 |\n",
              "| 1956 | 284 | 277 | 317 | 313 | 318 | 374 | 413 | 405 | 355 | 306 | 271 | 306 |\n",
              "| 1957 | 315 | 301 | 356 | 348 | 355 | 422 | 465 | 467 | 404 | 347 | 305 | 336 |\n",
              "| 1958 | 340 | 318 | 362 | 348 | 363 | 435 | 491 | 505 | 404 | 359 | 310 | 337 |\n",
              "| 1959 | 360 | 342 | 406 | 396 | 420 | 472 | 548 | 559 | 463 | 407 | 362 | 405 |\n",
              "| 1960 | 417 | 391 | 419 | 461 | 472 | 535 | 622 | 606 | 508 | 461 | 390 | 432 |\n",
              "\n"
            ],
            "text/plain": [
              "     Jan Feb Mar Apr May Jun Jul Aug Sep Oct Nov Dec\n",
              "1949 112 118 132 129 121 135 148 148 136 119 104 118\n",
              "1950 115 126 141 135 125 149 170 170 158 133 114 140\n",
              "1951 145 150 178 163 172 178 199 199 184 162 146 166\n",
              "1952 171 180 193 181 183 218 230 242 209 191 172 194\n",
              "1953 196 196 236 235 229 243 264 272 237 211 180 201\n",
              "1954 204 188 235 227 234 264 302 293 259 229 203 229\n",
              "1955 242 233 267 269 270 315 364 347 312 274 237 278\n",
              "1956 284 277 317 313 318 374 413 405 355 306 271 306\n",
              "1957 315 301 356 348 355 422 465 467 404 347 305 336\n",
              "1958 340 318 362 348 363 435 491 505 404 359 310 337\n",
              "1959 360 342 406 396 420 472 548 559 463 407 362 405\n",
              "1960 417 391 419 461 472 535 622 606 508 461 390 432"
            ]
          },
          "metadata": {},
          "output_type": "display_data"
        }
      ],
      "source": [
        "AirPassengers"
      ]
    },
    {
      "cell_type": "code",
      "execution_count": 34,
      "id": "c55370fa",
      "metadata": {
        "vscode": {
          "languageId": "r"
        }
      },
      "outputs": [
        {
          "data": {
            "text/plain": [
              "\n",
              "Call:\n",
              "lm(formula = y ~ t)\n",
              "\n",
              "Residuals:\n",
              "    Min      1Q  Median      3Q     Max \n",
              "-93.858 -30.727  -5.757  24.489 164.999 \n",
              "\n",
              "Coefficients:\n",
              "            Estimate Std. Error t value Pr(>|t|)    \n",
              "(Intercept) 87.65278    7.71635   11.36   <2e-16 ***\n",
              "t            2.65718    0.09233   28.78   <2e-16 ***\n",
              "---\n",
              "Signif. codes:  0 '***' 0.001 '**' 0.01 '*' 0.05 '.' 0.1 ' ' 1\n",
              "\n",
              "Residual standard error: 46.06 on 142 degrees of freedom\n",
              "Multiple R-squared:  0.8536,\tAdjusted R-squared:  0.8526 \n",
              "F-statistic: 828.2 on 1 and 142 DF,  p-value: < 2.2e-16\n"
            ]
          },
          "metadata": {},
          "output_type": "display_data"
        }
      ],
      "source": [
        "t=1:length(AirPassengers)\n",
        "y=AirPassengers\n",
        "trend_analysis = lm(y~t)\n",
        "summary(trend_analysis)"
      ]
    },
    {
      "cell_type": "code",
      "execution_count": 35,
      "id": "a81ff778",
      "metadata": {
        "vscode": {
          "languageId": "r"
        }
      },
      "outputs": [
        {
          "data": {
            "text/html": [
              "<pre class=language-r><code>function (x, y, ...) \n",
              "UseMethod(\"plot\")</code></pre>"
            ],
            "text/latex": [
              "\\begin{minted}{r}\n",
              "function (x, y, ...) \n",
              "UseMethod(\"plot\")\n",
              "\\end{minted}"
            ],
            "text/markdown": [
              "```r\n",
              "function (x, y, ...) \n",
              "UseMethod(\"plot\")\n",
              "```"
            ],
            "text/plain": [
              "function (x, y, ...) \n",
              "UseMethod(\"plot\")\n",
              "<bytecode: 0x0000015db5214ef8>\n",
              "<environment: namespace:base>"
            ]
          },
          "metadata": {},
          "output_type": "display_data"
        },
        {
          "data": {
            "image/png": "[encoded data removed]",
            "text/plain": [
              "plot without title"
            ]
          },
          "metadata": {
            "image/png": {
              "height": 420,
              "width": 420
            }
          },
          "output_type": "display_data"
        }
      ],
      "source": [
        "plot(t,y,type=\"o\", xlab=\"monthly, 1949‐1960\", ylab=\"Air Passenger\",col=\"purple\")\n",
        "plot\n",
        "abline(trend_analysis)"
      ]
    },
    {
      "cell_type": "markdown",
      "id": "0905c3a8",
      "metadata": {},
      "source": [
        "<div style=\"border-radius: 10px; border: #0ea5e9 solid; padding: 15px; background-color: #ffffff00; font-size: 100%; text-align: left;\">\n",
        "    <b>🖊️ Analisis :</b> Dataset AirPassengers berisi data jumlah penumpang pesawat internasional bulanan dari tahun 1949 hingga 1960. Berdasarkan summary trend analysis, dapat disimpulkan bahwa parameter intercept dan t signifikan secara statistik karena nilai p-value nya di bawah 0.05. Selain itu, nilai Multiple R-squared dan Adjusted R-squared cukup besar, yaitu masing-masing 0.8536 dan 0.8526, menunjukkan bahwa model memiliki kemampuan yang baik dalam menjelaskan variasi data. Plot yang dihasilkan menunjukkan garis trand positif tiap bulan hingga beberapa puluhan tahun ke depan.\n",
        "</div>"
      ]
    },
    {
      "cell_type": "markdown",
      "id": "fc0d7a3a",
      "metadata": {},
      "source": [
        "## Percobaan ke-3: Studi Kasus 3"
      ]
    },
    {
      "cell_type": "code",
      "execution_count": 36,
      "id": "3034bcab",
      "metadata": {
        "vscode": {
          "languageId": "r"
        }
      },
      "outputs": [
        {
          "data": {
            "text/html": [
              "<table class=\"dataframe\">\n",
              "<caption>A Time Series: 39 × 12</caption>\n",
              "<thead>\n",
              "\t<tr><th></th><th scope=col>Jan</th><th scope=col>Feb</th><th scope=col>Mar</th><th scope=col>Apr</th><th scope=col>May</th><th scope=col>Jun</th><th scope=col>Jul</th><th scope=col>Aug</th><th scope=col>Sep</th><th scope=col>Oct</th><th scope=col>Nov</th><th scope=col>Dec</th></tr>\n",
              "</thead>\n",
              "<tbody>\n",
              "\t<tr><th scope=row>1959</th><td>315.42</td><td>316.31</td><td>316.50</td><td>317.56</td><td>318.13</td><td>318.00</td><td>316.39</td><td>314.65</td><td>313.68</td><td>313.18</td><td>314.66</td><td>315.43</td></tr>\n",
              "\t<tr><th scope=row>1960</th><td>316.27</td><td>316.81</td><td>317.42</td><td>318.87</td><td>319.87</td><td>319.43</td><td>318.01</td><td>315.74</td><td>314.00</td><td>313.68</td><td>314.84</td><td>316.03</td></tr>\n",
              "\t<tr><th scope=row>1961</th><td>316.73</td><td>317.54</td><td>318.38</td><td>319.31</td><td>320.42</td><td>319.61</td><td>318.42</td><td>316.63</td><td>314.83</td><td>315.16</td><td>315.94</td><td>316.85</td></tr>\n",
              "\t<tr><th scope=row>1962</th><td>317.78</td><td>318.40</td><td>319.53</td><td>320.42</td><td>320.85</td><td>320.45</td><td>319.45</td><td>317.25</td><td>316.11</td><td>315.27</td><td>316.53</td><td>317.53</td></tr>\n",
              "\t<tr><th scope=row>1963</th><td>318.58</td><td>318.92</td><td>319.70</td><td>321.22</td><td>322.08</td><td>321.31</td><td>319.58</td><td>317.61</td><td>316.05</td><td>315.83</td><td>316.91</td><td>318.20</td></tr>\n",
              "\t<tr><th scope=row>1964</th><td>319.41</td><td>320.07</td><td>320.74</td><td>321.40</td><td>322.06</td><td>321.73</td><td>320.27</td><td>318.54</td><td>316.54</td><td>316.71</td><td>317.53</td><td>318.55</td></tr>\n",
              "\t<tr><th scope=row>1965</th><td>319.27</td><td>320.28</td><td>320.73</td><td>321.97</td><td>322.00</td><td>321.71</td><td>321.05</td><td>318.71</td><td>317.66</td><td>317.14</td><td>318.70</td><td>319.25</td></tr>\n",
              "\t<tr><th scope=row>1966</th><td>320.46</td><td>321.43</td><td>322.23</td><td>323.54</td><td>323.91</td><td>323.59</td><td>322.24</td><td>320.20</td><td>318.48</td><td>317.94</td><td>319.63</td><td>320.87</td></tr>\n",
              "\t<tr><th scope=row>1967</th><td>322.17</td><td>322.34</td><td>322.88</td><td>324.25</td><td>324.83</td><td>323.93</td><td>322.38</td><td>320.76</td><td>319.10</td><td>319.24</td><td>320.56</td><td>321.80</td></tr>\n",
              "\t<tr><th scope=row>1968</th><td>322.40</td><td>322.99</td><td>323.73</td><td>324.86</td><td>325.40</td><td>325.20</td><td>323.98</td><td>321.95</td><td>320.18</td><td>320.09</td><td>321.16</td><td>322.74</td></tr>\n",
              "\t<tr><th scope=row>1969</th><td>323.83</td><td>324.26</td><td>325.47</td><td>326.50</td><td>327.21</td><td>326.54</td><td>325.72</td><td>323.50</td><td>322.22</td><td>321.62</td><td>322.69</td><td>323.95</td></tr>\n",
              "\t<tr><th scope=row>1970</th><td>324.89</td><td>325.82</td><td>326.77</td><td>327.97</td><td>327.91</td><td>327.50</td><td>326.18</td><td>324.53</td><td>322.93</td><td>322.90</td><td>323.85</td><td>324.96</td></tr>\n",
              "\t<tr><th scope=row>1971</th><td>326.01</td><td>326.51</td><td>327.01</td><td>327.62</td><td>328.76</td><td>328.40</td><td>327.20</td><td>325.27</td><td>323.20</td><td>323.40</td><td>324.63</td><td>325.85</td></tr>\n",
              "\t<tr><th scope=row>1972</th><td>326.60</td><td>327.47</td><td>327.58</td><td>329.56</td><td>329.90</td><td>328.92</td><td>327.88</td><td>326.16</td><td>324.68</td><td>325.04</td><td>326.34</td><td>327.39</td></tr>\n",
              "\t<tr><th scope=row>1973</th><td>328.37</td><td>329.40</td><td>330.14</td><td>331.33</td><td>332.31</td><td>331.90</td><td>330.70</td><td>329.15</td><td>327.35</td><td>327.02</td><td>327.99</td><td>328.48</td></tr>\n",
              "\t<tr><th scope=row>1974</th><td>329.18</td><td>330.55</td><td>331.32</td><td>332.48</td><td>332.92</td><td>332.08</td><td>331.01</td><td>329.23</td><td>327.27</td><td>327.21</td><td>328.29</td><td>329.41</td></tr>\n",
              "\t<tr><th scope=row>1975</th><td>330.23</td><td>331.25</td><td>331.87</td><td>333.14</td><td>333.80</td><td>333.43</td><td>331.73</td><td>329.90</td><td>328.40</td><td>328.17</td><td>329.32</td><td>330.59</td></tr>\n",
              "\t<tr><th scope=row>1976</th><td>331.58</td><td>332.39</td><td>333.33</td><td>334.41</td><td>334.71</td><td>334.17</td><td>332.89</td><td>330.77</td><td>329.14</td><td>328.78</td><td>330.14</td><td>331.52</td></tr>\n",
              "\t<tr><th scope=row>1977</th><td>332.75</td><td>333.24</td><td>334.53</td><td>335.90</td><td>336.57</td><td>336.10</td><td>334.76</td><td>332.59</td><td>331.42</td><td>330.98</td><td>332.24</td><td>333.68</td></tr>\n",
              "\t<tr><th scope=row>1978</th><td>334.80</td><td>335.22</td><td>336.47</td><td>337.59</td><td>337.84</td><td>337.72</td><td>336.37</td><td>334.51</td><td>332.60</td><td>332.38</td><td>333.75</td><td>334.78</td></tr>\n",
              "\t<tr><th scope=row>1979</th><td>336.05</td><td>336.59</td><td>337.79</td><td>338.71</td><td>339.30</td><td>339.12</td><td>337.56</td><td>335.92</td><td>333.75</td><td>333.70</td><td>335.12</td><td>336.56</td></tr>\n",
              "\t<tr><th scope=row>1980</th><td>337.84</td><td>338.19</td><td>339.91</td><td>340.60</td><td>341.29</td><td>341.00</td><td>339.39</td><td>337.43</td><td>335.72</td><td>335.84</td><td>336.93</td><td>338.04</td></tr>\n",
              "\t<tr><th scope=row>1981</th><td>339.06</td><td>340.30</td><td>341.21</td><td>342.33</td><td>342.74</td><td>342.08</td><td>340.32</td><td>338.26</td><td>336.52</td><td>336.68</td><td>338.19</td><td>339.44</td></tr>\n",
              "\t<tr><th scope=row>1982</th><td>340.57</td><td>341.44</td><td>342.53</td><td>343.39</td><td>343.96</td><td>343.18</td><td>341.88</td><td>339.65</td><td>337.81</td><td>337.69</td><td>339.09</td><td>340.32</td></tr>\n",
              "\t<tr><th scope=row>1983</th><td>341.20</td><td>342.35</td><td>342.93</td><td>344.77</td><td>345.58</td><td>345.14</td><td>343.81</td><td>342.21</td><td>339.69</td><td>339.82</td><td>340.98</td><td>342.82</td></tr>\n",
              "\t<tr><th scope=row>1984</th><td>343.52</td><td>344.33</td><td>345.11</td><td>346.88</td><td>347.25</td><td>346.62</td><td>345.22</td><td>343.11</td><td>340.90</td><td>341.18</td><td>342.80</td><td>344.04</td></tr>\n",
              "\t<tr><th scope=row>1985</th><td>344.79</td><td>345.82</td><td>347.25</td><td>348.17</td><td>348.74</td><td>348.07</td><td>346.38</td><td>344.51</td><td>342.92</td><td>342.62</td><td>344.06</td><td>345.38</td></tr>\n",
              "\t<tr><th scope=row>1986</th><td>346.11</td><td>346.78</td><td>347.68</td><td>349.37</td><td>350.03</td><td>349.37</td><td>347.76</td><td>345.73</td><td>344.68</td><td>343.99</td><td>345.48</td><td>346.72</td></tr>\n",
              "\t<tr><th scope=row>1987</th><td>347.84</td><td>348.29</td><td>349.23</td><td>350.80</td><td>351.66</td><td>351.07</td><td>349.33</td><td>347.92</td><td>346.27</td><td>346.18</td><td>347.64</td><td>348.78</td></tr>\n",
              "\t<tr><th scope=row>1988</th><td>350.25</td><td>351.54</td><td>352.05</td><td>353.41</td><td>354.04</td><td>353.62</td><td>352.22</td><td>350.27</td><td>348.55</td><td>348.72</td><td>349.91</td><td>351.18</td></tr>\n",
              "\t<tr><th scope=row>1989</th><td>352.60</td><td>352.92</td><td>353.53</td><td>355.26</td><td>355.52</td><td>354.97</td><td>353.75</td><td>351.52</td><td>349.64</td><td>349.83</td><td>351.14</td><td>352.37</td></tr>\n",
              "\t<tr><th scope=row>1990</th><td>353.50</td><td>354.55</td><td>355.23</td><td>356.04</td><td>357.00</td><td>356.07</td><td>354.67</td><td>352.76</td><td>350.82</td><td>351.04</td><td>352.69</td><td>354.07</td></tr>\n",
              "\t<tr><th scope=row>1991</th><td>354.59</td><td>355.63</td><td>357.03</td><td>358.48</td><td>359.22</td><td>358.12</td><td>356.06</td><td>353.92</td><td>352.05</td><td>352.11</td><td>353.64</td><td>354.89</td></tr>\n",
              "\t<tr><th scope=row>1992</th><td>355.88</td><td>356.63</td><td>357.72</td><td>359.07</td><td>359.58</td><td>359.17</td><td>356.94</td><td>354.92</td><td>352.94</td><td>353.23</td><td>354.09</td><td>355.33</td></tr>\n",
              "\t<tr><th scope=row>1993</th><td>356.63</td><td>357.10</td><td>358.32</td><td>359.41</td><td>360.23</td><td>359.55</td><td>357.53</td><td>355.48</td><td>353.67</td><td>353.95</td><td>355.30</td><td>356.78</td></tr>\n",
              "\t<tr><th scope=row>1994</th><td>358.34</td><td>358.89</td><td>359.95</td><td>361.25</td><td>361.67</td><td>360.94</td><td>359.55</td><td>357.49</td><td>355.84</td><td>356.00</td><td>357.59</td><td>359.05</td></tr>\n",
              "\t<tr><th scope=row>1995</th><td>359.98</td><td>361.03</td><td>361.66</td><td>363.48</td><td>363.82</td><td>363.30</td><td>361.94</td><td>359.50</td><td>358.11</td><td>357.80</td><td>359.61</td><td>360.74</td></tr>\n",
              "\t<tr><th scope=row>1996</th><td>362.09</td><td>363.29</td><td>364.06</td><td>364.76</td><td>365.45</td><td>365.01</td><td>363.70</td><td>361.54</td><td>359.51</td><td>359.65</td><td>360.80</td><td>362.38</td></tr>\n",
              "\t<tr><th scope=row>1997</th><td>363.23</td><td>364.06</td><td>364.61</td><td>366.40</td><td>366.84</td><td>365.68</td><td>364.52</td><td>362.57</td><td>360.24</td><td>360.83</td><td>362.49</td><td>364.34</td></tr>\n",
              "</tbody>\n",
              "</table>\n"
            ],
            "text/latex": [
              "A Time Series: 39 × 12\n",
              "\\begin{tabular}{r|llllllllllll}\n",
              "  & Jan & Feb & Mar & Apr & May & Jun & Jul & Aug & Sep & Oct & Nov & Dec\\\\\n",
              "\\hline\n",
              "\t1959 & 315.42 & 316.31 & 316.50 & 317.56 & 318.13 & 318.00 & 316.39 & 314.65 & 313.68 & 313.18 & 314.66 & 315.43\\\\\n",
              "\t1960 & 316.27 & 316.81 & 317.42 & 318.87 & 319.87 & 319.43 & 318.01 & 315.74 & 314.00 & 313.68 & 314.84 & 316.03\\\\\n",
              "\t1961 & 316.73 & 317.54 & 318.38 & 319.31 & 320.42 & 319.61 & 318.42 & 316.63 & 314.83 & 315.16 & 315.94 & 316.85\\\\\n",
              "\t1962 & 317.78 & 318.40 & 319.53 & 320.42 & 320.85 & 320.45 & 319.45 & 317.25 & 316.11 & 315.27 & 316.53 & 317.53\\\\\n",
              "\t1963 & 318.58 & 318.92 & 319.70 & 321.22 & 322.08 & 321.31 & 319.58 & 317.61 & 316.05 & 315.83 & 316.91 & 318.20\\\\\n",
              "\t1964 & 319.41 & 320.07 & 320.74 & 321.40 & 322.06 & 321.73 & 320.27 & 318.54 & 316.54 & 316.71 & 317.53 & 318.55\\\\\n",
              "\t1965 & 319.27 & 320.28 & 320.73 & 321.97 & 322.00 & 321.71 & 321.05 & 318.71 & 317.66 & 317.14 & 318.70 & 319.25\\\\\n",
              "\t1966 & 320.46 & 321.43 & 322.23 & 323.54 & 323.91 & 323.59 & 322.24 & 320.20 & 318.48 & 317.94 & 319.63 & 320.87\\\\\n",
              "\t1967 & 322.17 & 322.34 & 322.88 & 324.25 & 324.83 & 323.93 & 322.38 & 320.76 & 319.10 & 319.24 & 320.56 & 321.80\\\\\n",
              "\t1968 & 322.40 & 322.99 & 323.73 & 324.86 & 325.40 & 325.20 & 323.98 & 321.95 & 320.18 & 320.09 & 321.16 & 322.74\\\\\n",
              "\t1969 & 323.83 & 324.26 & 325.47 & 326.50 & 327.21 & 326.54 & 325.72 & 323.50 & 322.22 & 321.62 & 322.69 & 323.95\\\\\n",
              "\t1970 & 324.89 & 325.82 & 326.77 & 327.97 & 327.91 & 327.50 & 326.18 & 324.53 & 322.93 & 322.90 & 323.85 & 324.96\\\\\n",
              "\t1971 & 326.01 & 326.51 & 327.01 & 327.62 & 328.76 & 328.40 & 327.20 & 325.27 & 323.20 & 323.40 & 324.63 & 325.85\\\\\n",
              "\t1972 & 326.60 & 327.47 & 327.58 & 329.56 & 329.90 & 328.92 & 327.88 & 326.16 & 324.68 & 325.04 & 326.34 & 327.39\\\\\n",
              "\t1973 & 328.37 & 329.40 & 330.14 & 331.33 & 332.31 & 331.90 & 330.70 & 329.15 & 327.35 & 327.02 & 327.99 & 328.48\\\\\n",
              "\t1974 & 329.18 & 330.55 & 331.32 & 332.48 & 332.92 & 332.08 & 331.01 & 329.23 & 327.27 & 327.21 & 328.29 & 329.41\\\\\n",
              "\t1975 & 330.23 & 331.25 & 331.87 & 333.14 & 333.80 & 333.43 & 331.73 & 329.90 & 328.40 & 328.17 & 329.32 & 330.59\\\\\n",
              "\t1976 & 331.58 & 332.39 & 333.33 & 334.41 & 334.71 & 334.17 & 332.89 & 330.77 & 329.14 & 328.78 & 330.14 & 331.52\\\\\n",
              "\t1977 & 332.75 & 333.24 & 334.53 & 335.90 & 336.57 & 336.10 & 334.76 & 332.59 & 331.42 & 330.98 & 332.24 & 333.68\\\\\n",
              "\t1978 & 334.80 & 335.22 & 336.47 & 337.59 & 337.84 & 337.72 & 336.37 & 334.51 & 332.60 & 332.38 & 333.75 & 334.78\\\\\n",
              "\t1979 & 336.05 & 336.59 & 337.79 & 338.71 & 339.30 & 339.12 & 337.56 & 335.92 & 333.75 & 333.70 & 335.12 & 336.56\\\\\n",
              "\t1980 & 337.84 & 338.19 & 339.91 & 340.60 & 341.29 & 341.00 & 339.39 & 337.43 & 335.72 & 335.84 & 336.93 & 338.04\\\\\n",
              "\t1981 & 339.06 & 340.30 & 341.21 & 342.33 & 342.74 & 342.08 & 340.32 & 338.26 & 336.52 & 336.68 & 338.19 & 339.44\\\\\n",
              "\t1982 & 340.57 & 341.44 & 342.53 & 343.39 & 343.96 & 343.18 & 341.88 & 339.65 & 337.81 & 337.69 & 339.09 & 340.32\\\\\n",
              "\t1983 & 341.20 & 342.35 & 342.93 & 344.77 & 345.58 & 345.14 & 343.81 & 342.21 & 339.69 & 339.82 & 340.98 & 342.82\\\\\n",
              "\t1984 & 343.52 & 344.33 & 345.11 & 346.88 & 347.25 & 346.62 & 345.22 & 343.11 & 340.90 & 341.18 & 342.80 & 344.04\\\\\n",
              "\t1985 & 344.79 & 345.82 & 347.25 & 348.17 & 348.74 & 348.07 & 346.38 & 344.51 & 342.92 & 342.62 & 344.06 & 345.38\\\\\n",
              "\t1986 & 346.11 & 346.78 & 347.68 & 349.37 & 350.03 & 349.37 & 347.76 & 345.73 & 344.68 & 343.99 & 345.48 & 346.72\\\\\n",
              "\t1987 & 347.84 & 348.29 & 349.23 & 350.80 & 351.66 & 351.07 & 349.33 & 347.92 & 346.27 & 346.18 & 347.64 & 348.78\\\\\n",
              "\t1988 & 350.25 & 351.54 & 352.05 & 353.41 & 354.04 & 353.62 & 352.22 & 350.27 & 348.55 & 348.72 & 349.91 & 351.18\\\\\n",
              "\t1989 & 352.60 & 352.92 & 353.53 & 355.26 & 355.52 & 354.97 & 353.75 & 351.52 & 349.64 & 349.83 & 351.14 & 352.37\\\\\n",
              "\t1990 & 353.50 & 354.55 & 355.23 & 356.04 & 357.00 & 356.07 & 354.67 & 352.76 & 350.82 & 351.04 & 352.69 & 354.07\\\\\n",
              "\t1991 & 354.59 & 355.63 & 357.03 & 358.48 & 359.22 & 358.12 & 356.06 & 353.92 & 352.05 & 352.11 & 353.64 & 354.89\\\\\n",
              "\t1992 & 355.88 & 356.63 & 357.72 & 359.07 & 359.58 & 359.17 & 356.94 & 354.92 & 352.94 & 353.23 & 354.09 & 355.33\\\\\n",
              "\t1993 & 356.63 & 357.10 & 358.32 & 359.41 & 360.23 & 359.55 & 357.53 & 355.48 & 353.67 & 353.95 & 355.30 & 356.78\\\\\n",
              "\t1994 & 358.34 & 358.89 & 359.95 & 361.25 & 361.67 & 360.94 & 359.55 & 357.49 & 355.84 & 356.00 & 357.59 & 359.05\\\\\n",
              "\t1995 & 359.98 & 361.03 & 361.66 & 363.48 & 363.82 & 363.30 & 361.94 & 359.50 & 358.11 & 357.80 & 359.61 & 360.74\\\\\n",
              "\t1996 & 362.09 & 363.29 & 364.06 & 364.76 & 365.45 & 365.01 & 363.70 & 361.54 & 359.51 & 359.65 & 360.80 & 362.38\\\\\n",
              "\t1997 & 363.23 & 364.06 & 364.61 & 366.40 & 366.84 & 365.68 & 364.52 & 362.57 & 360.24 & 360.83 & 362.49 & 364.34\\\\\n",
              "\\end{tabular}\n"
            ],
            "text/markdown": [
              "\n",
              "A Time Series: 39 × 12\n",
              "\n",
              "| <!--/--> | Jan | Feb | Mar | Apr | May | Jun | Jul | Aug | Sep | Oct | Nov | Dec |\n",
              "|---|---|---|---|---|---|---|---|---|---|---|---|---|\n",
              "| 1959 | 315.42 | 316.31 | 316.50 | 317.56 | 318.13 | 318.00 | 316.39 | 314.65 | 313.68 | 313.18 | 314.66 | 315.43 |\n",
              "| 1960 | 316.27 | 316.81 | 317.42 | 318.87 | 319.87 | 319.43 | 318.01 | 315.74 | 314.00 | 313.68 | 314.84 | 316.03 |\n",
              "| 1961 | 316.73 | 317.54 | 318.38 | 319.31 | 320.42 | 319.61 | 318.42 | 316.63 | 314.83 | 315.16 | 315.94 | 316.85 |\n",
              "| 1962 | 317.78 | 318.40 | 319.53 | 320.42 | 320.85 | 320.45 | 319.45 | 317.25 | 316.11 | 315.27 | 316.53 | 317.53 |\n",
              "| 1963 | 318.58 | 318.92 | 319.70 | 321.22 | 322.08 | 321.31 | 319.58 | 317.61 | 316.05 | 315.83 | 316.91 | 318.20 |\n",
              "| 1964 | 319.41 | 320.07 | 320.74 | 321.40 | 322.06 | 321.73 | 320.27 | 318.54 | 316.54 | 316.71 | 317.53 | 318.55 |\n",
              "| 1965 | 319.27 | 320.28 | 320.73 | 321.97 | 322.00 | 321.71 | 321.05 | 318.71 | 317.66 | 317.14 | 318.70 | 319.25 |\n",
              "| 1966 | 320.46 | 321.43 | 322.23 | 323.54 | 323.91 | 323.59 | 322.24 | 320.20 | 318.48 | 317.94 | 319.63 | 320.87 |\n",
              "| 1967 | 322.17 | 322.34 | 322.88 | 324.25 | 324.83 | 323.93 | 322.38 | 320.76 | 319.10 | 319.24 | 320.56 | 321.80 |\n",
              "| 1968 | 322.40 | 322.99 | 323.73 | 324.86 | 325.40 | 325.20 | 323.98 | 321.95 | 320.18 | 320.09 | 321.16 | 322.74 |\n",
              "| 1969 | 323.83 | 324.26 | 325.47 | 326.50 | 327.21 | 326.54 | 325.72 | 323.50 | 322.22 | 321.62 | 322.69 | 323.95 |\n",
              "| 1970 | 324.89 | 325.82 | 326.77 | 327.97 | 327.91 | 327.50 | 326.18 | 324.53 | 322.93 | 322.90 | 323.85 | 324.96 |\n",
              "| 1971 | 326.01 | 326.51 | 327.01 | 327.62 | 328.76 | 328.40 | 327.20 | 325.27 | 323.20 | 323.40 | 324.63 | 325.85 |\n",
              "| 1972 | 326.60 | 327.47 | 327.58 | 329.56 | 329.90 | 328.92 | 327.88 | 326.16 | 324.68 | 325.04 | 326.34 | 327.39 |\n",
              "| 1973 | 328.37 | 329.40 | 330.14 | 331.33 | 332.31 | 331.90 | 330.70 | 329.15 | 327.35 | 327.02 | 327.99 | 328.48 |\n",
              "| 1974 | 329.18 | 330.55 | 331.32 | 332.48 | 332.92 | 332.08 | 331.01 | 329.23 | 327.27 | 327.21 | 328.29 | 329.41 |\n",
              "| 1975 | 330.23 | 331.25 | 331.87 | 333.14 | 333.80 | 333.43 | 331.73 | 329.90 | 328.40 | 328.17 | 329.32 | 330.59 |\n",
              "| 1976 | 331.58 | 332.39 | 333.33 | 334.41 | 334.71 | 334.17 | 332.89 | 330.77 | 329.14 | 328.78 | 330.14 | 331.52 |\n",
              "| 1977 | 332.75 | 333.24 | 334.53 | 335.90 | 336.57 | 336.10 | 334.76 | 332.59 | 331.42 | 330.98 | 332.24 | 333.68 |\n",
              "| 1978 | 334.80 | 335.22 | 336.47 | 337.59 | 337.84 | 337.72 | 336.37 | 334.51 | 332.60 | 332.38 | 333.75 | 334.78 |\n",
              "| 1979 | 336.05 | 336.59 | 337.79 | 338.71 | 339.30 | 339.12 | 337.56 | 335.92 | 333.75 | 333.70 | 335.12 | 336.56 |\n",
              "| 1980 | 337.84 | 338.19 | 339.91 | 340.60 | 341.29 | 341.00 | 339.39 | 337.43 | 335.72 | 335.84 | 336.93 | 338.04 |\n",
              "| 1981 | 339.06 | 340.30 | 341.21 | 342.33 | 342.74 | 342.08 | 340.32 | 338.26 | 336.52 | 336.68 | 338.19 | 339.44 |\n",
              "| 1982 | 340.57 | 341.44 | 342.53 | 343.39 | 343.96 | 343.18 | 341.88 | 339.65 | 337.81 | 337.69 | 339.09 | 340.32 |\n",
              "| 1983 | 341.20 | 342.35 | 342.93 | 344.77 | 345.58 | 345.14 | 343.81 | 342.21 | 339.69 | 339.82 | 340.98 | 342.82 |\n",
              "| 1984 | 343.52 | 344.33 | 345.11 | 346.88 | 347.25 | 346.62 | 345.22 | 343.11 | 340.90 | 341.18 | 342.80 | 344.04 |\n",
              "| 1985 | 344.79 | 345.82 | 347.25 | 348.17 | 348.74 | 348.07 | 346.38 | 344.51 | 342.92 | 342.62 | 344.06 | 345.38 |\n",
              "| 1986 | 346.11 | 346.78 | 347.68 | 349.37 | 350.03 | 349.37 | 347.76 | 345.73 | 344.68 | 343.99 | 345.48 | 346.72 |\n",
              "| 1987 | 347.84 | 348.29 | 349.23 | 350.80 | 351.66 | 351.07 | 349.33 | 347.92 | 346.27 | 346.18 | 347.64 | 348.78 |\n",
              "| 1988 | 350.25 | 351.54 | 352.05 | 353.41 | 354.04 | 353.62 | 352.22 | 350.27 | 348.55 | 348.72 | 349.91 | 351.18 |\n",
              "| 1989 | 352.60 | 352.92 | 353.53 | 355.26 | 355.52 | 354.97 | 353.75 | 351.52 | 349.64 | 349.83 | 351.14 | 352.37 |\n",
              "| 1990 | 353.50 | 354.55 | 355.23 | 356.04 | 357.00 | 356.07 | 354.67 | 352.76 | 350.82 | 351.04 | 352.69 | 354.07 |\n",
              "| 1991 | 354.59 | 355.63 | 357.03 | 358.48 | 359.22 | 358.12 | 356.06 | 353.92 | 352.05 | 352.11 | 353.64 | 354.89 |\n",
              "| 1992 | 355.88 | 356.63 | 357.72 | 359.07 | 359.58 | 359.17 | 356.94 | 354.92 | 352.94 | 353.23 | 354.09 | 355.33 |\n",
              "| 1993 | 356.63 | 357.10 | 358.32 | 359.41 | 360.23 | 359.55 | 357.53 | 355.48 | 353.67 | 353.95 | 355.30 | 356.78 |\n",
              "| 1994 | 358.34 | 358.89 | 359.95 | 361.25 | 361.67 | 360.94 | 359.55 | 357.49 | 355.84 | 356.00 | 357.59 | 359.05 |\n",
              "| 1995 | 359.98 | 361.03 | 361.66 | 363.48 | 363.82 | 363.30 | 361.94 | 359.50 | 358.11 | 357.80 | 359.61 | 360.74 |\n",
              "| 1996 | 362.09 | 363.29 | 364.06 | 364.76 | 365.45 | 365.01 | 363.70 | 361.54 | 359.51 | 359.65 | 360.80 | 362.38 |\n",
              "| 1997 | 363.23 | 364.06 | 364.61 | 366.40 | 366.84 | 365.68 | 364.52 | 362.57 | 360.24 | 360.83 | 362.49 | 364.34 |\n",
              "\n"
            ],
            "text/plain": [
              "     Jan    Feb    Mar    Apr    May    Jun    Jul    Aug    Sep    Oct   \n",
              "1959 315.42 316.31 316.50 317.56 318.13 318.00 316.39 314.65 313.68 313.18\n",
              "1960 316.27 316.81 317.42 318.87 319.87 319.43 318.01 315.74 314.00 313.68\n",
              "1961 316.73 317.54 318.38 319.31 320.42 319.61 318.42 316.63 314.83 315.16\n",
              "1962 317.78 318.40 319.53 320.42 320.85 320.45 319.45 317.25 316.11 315.27\n",
              "1963 318.58 318.92 319.70 321.22 322.08 321.31 319.58 317.61 316.05 315.83\n",
              "1964 319.41 320.07 320.74 321.40 322.06 321.73 320.27 318.54 316.54 316.71\n",
              "1965 319.27 320.28 320.73 321.97 322.00 321.71 321.05 318.71 317.66 317.14\n",
              "1966 320.46 321.43 322.23 323.54 323.91 323.59 322.24 320.20 318.48 317.94\n",
              "1967 322.17 322.34 322.88 324.25 324.83 323.93 322.38 320.76 319.10 319.24\n",
              "1968 322.40 322.99 323.73 324.86 325.40 325.20 323.98 321.95 320.18 320.09\n",
              "1969 323.83 324.26 325.47 326.50 327.21 326.54 325.72 323.50 322.22 321.62\n",
              "1970 324.89 325.82 326.77 327.97 327.91 327.50 326.18 324.53 322.93 322.90\n",
              "1971 326.01 326.51 327.01 327.62 328.76 328.40 327.20 325.27 323.20 323.40\n",
              "1972 326.60 327.47 327.58 329.56 329.90 328.92 327.88 326.16 324.68 325.04\n",
              "1973 328.37 329.40 330.14 331.33 332.31 331.90 330.70 329.15 327.35 327.02\n",
              "1974 329.18 330.55 331.32 332.48 332.92 332.08 331.01 329.23 327.27 327.21\n",
              "1975 330.23 331.25 331.87 333.14 333.80 333.43 331.73 329.90 328.40 328.17\n",
              "1976 331.58 332.39 333.33 334.41 334.71 334.17 332.89 330.77 329.14 328.78\n",
              "1977 332.75 333.24 334.53 335.90 336.57 336.10 334.76 332.59 331.42 330.98\n",
              "1978 334.80 335.22 336.47 337.59 337.84 337.72 336.37 334.51 332.60 332.38\n",
              "1979 336.05 336.59 337.79 338.71 339.30 339.12 337.56 335.92 333.75 333.70\n",
              "1980 337.84 338.19 339.91 340.60 341.29 341.00 339.39 337.43 335.72 335.84\n",
              "1981 339.06 340.30 341.21 342.33 342.74 342.08 340.32 338.26 336.52 336.68\n",
              "1982 340.57 341.44 342.53 343.39 343.96 343.18 341.88 339.65 337.81 337.69\n",
              "1983 341.20 342.35 342.93 344.77 345.58 345.14 343.81 342.21 339.69 339.82\n",
              "1984 343.52 344.33 345.11 346.88 347.25 346.62 345.22 343.11 340.90 341.18\n",
              "1985 344.79 345.82 347.25 348.17 348.74 348.07 346.38 344.51 342.92 342.62\n",
              "1986 346.11 346.78 347.68 349.37 350.03 349.37 347.76 345.73 344.68 343.99\n",
              "1987 347.84 348.29 349.23 350.80 351.66 351.07 349.33 347.92 346.27 346.18\n",
              "1988 350.25 351.54 352.05 353.41 354.04 353.62 352.22 350.27 348.55 348.72\n",
              "1989 352.60 352.92 353.53 355.26 355.52 354.97 353.75 351.52 349.64 349.83\n",
              "1990 353.50 354.55 355.23 356.04 357.00 356.07 354.67 352.76 350.82 351.04\n",
              "1991 354.59 355.63 357.03 358.48 359.22 358.12 356.06 353.92 352.05 352.11\n",
              "1992 355.88 356.63 357.72 359.07 359.58 359.17 356.94 354.92 352.94 353.23\n",
              "1993 356.63 357.10 358.32 359.41 360.23 359.55 357.53 355.48 353.67 353.95\n",
              "1994 358.34 358.89 359.95 361.25 361.67 360.94 359.55 357.49 355.84 356.00\n",
              "1995 359.98 361.03 361.66 363.48 363.82 363.30 361.94 359.50 358.11 357.80\n",
              "1996 362.09 363.29 364.06 364.76 365.45 365.01 363.70 361.54 359.51 359.65\n",
              "1997 363.23 364.06 364.61 366.40 366.84 365.68 364.52 362.57 360.24 360.83\n",
              "     Nov    Dec   \n",
              "1959 314.66 315.43\n",
              "1960 314.84 316.03\n",
              "1961 315.94 316.85\n",
              "1962 316.53 317.53\n",
              "1963 316.91 318.20\n",
              "1964 317.53 318.55\n",
              "1965 318.70 319.25\n",
              "1966 319.63 320.87\n",
              "1967 320.56 321.80\n",
              "1968 321.16 322.74\n",
              "1969 322.69 323.95\n",
              "1970 323.85 324.96\n",
              "1971 324.63 325.85\n",
              "1972 326.34 327.39\n",
              "1973 327.99 328.48\n",
              "1974 328.29 329.41\n",
              "1975 329.32 330.59\n",
              "1976 330.14 331.52\n",
              "1977 332.24 333.68\n",
              "1978 333.75 334.78\n",
              "1979 335.12 336.56\n",
              "1980 336.93 338.04\n",
              "1981 338.19 339.44\n",
              "1982 339.09 340.32\n",
              "1983 340.98 342.82\n",
              "1984 342.80 344.04\n",
              "1985 344.06 345.38\n",
              "1986 345.48 346.72\n",
              "1987 347.64 348.78\n",
              "1988 349.91 351.18\n",
              "1989 351.14 352.37\n",
              "1990 352.69 354.07\n",
              "1991 353.64 354.89\n",
              "1992 354.09 355.33\n",
              "1993 355.30 356.78\n",
              "1994 357.59 359.05\n",
              "1995 359.61 360.74\n",
              "1996 360.80 362.38\n",
              "1997 362.49 364.34"
            ]
          },
          "metadata": {},
          "output_type": "display_data"
        }
      ],
      "source": [
        "data_co2 = co2\n",
        "data_co2"
      ]
    },
    {
      "cell_type": "code",
      "execution_count": 37,
      "id": "b0918286",
      "metadata": {
        "vscode": {
          "languageId": "r"
        }
      },
      "outputs": [
        {
          "data": {
            "image/png": "[encoded data removed]",
            "text/plain": [
              "plot without title"
            ]
          },
          "metadata": {
            "image/png": {
              "height": 420,
              "width": 420
            }
          },
          "output_type": "display_data"
        }
      ],
      "source": [
        "plot(data_co2, col = \"blue\")"
      ]
    },
    {
      "cell_type": "code",
      "execution_count": 38,
      "id": "368546b8",
      "metadata": {
        "vscode": {
          "languageId": "r"
        }
      },
      "outputs": [
        {
          "data": {
            "text/plain": [
              "Holt-Winters exponential smoothing with trend and additive seasonal component.\n",
              "\n",
              "Call:\n",
              "HoltWinters(x = data_co2)\n",
              "\n",
              "Smoothing parameters:\n",
              " alpha: 0.5126484\n",
              " beta : 0.009497669\n",
              " gamma: 0.4728868\n",
              "\n",
              "Coefficients:\n",
              "           [,1]\n",
              "a   364.7616237\n",
              "b     0.1247438\n",
              "s1    0.2215275\n",
              "s2    0.9552801\n",
              "s3    1.5984744\n",
              "s4    2.8758029\n",
              "s5    3.2820088\n",
              "s6    2.4406990\n",
              "s7    0.8969433\n",
              "s8   -1.3796428\n",
              "s9   -3.4112376\n",
              "s10  -3.2570163\n",
              "s11  -1.9134850\n",
              "s12  -0.5844250"
            ]
          },
          "metadata": {},
          "output_type": "display_data"
        }
      ],
      "source": [
        "model <- HoltWinters(data_co2)\n",
        "model"
      ]
    },
    {
      "cell_type": "code",
      "execution_count": 39,
      "id": "df193abb",
      "metadata": {
        "vscode": {
          "languageId": "r"
        }
      },
      "outputs": [
        {
          "data": {
            "text/html": [
              "<table class=\"dataframe\">\n",
              "<caption>A Time Series: 50 × 3</caption>\n",
              "<thead>\n",
              "\t<tr><th></th><th scope=col>fit</th><th scope=col>upr</th><th scope=col>lwr</th></tr>\n",
              "</thead>\n",
              "<tbody>\n",
              "\t<tr><th scope=row>Jan 1998</th><td>365.1079</td><td>365.7105</td><td>364.5053</td></tr>\n",
              "\t<tr><th scope=row>Feb 1998</th><td>365.9664</td><td>366.6449</td><td>365.2879</td></tr>\n",
              "\t<tr><th scope=row>Mar 1998</th><td>366.7343</td><td>367.4823</td><td>365.9864</td></tr>\n",
              "\t<tr><th scope=row>Apr 1998</th><td>368.1364</td><td>368.9490</td><td>367.3238</td></tr>\n",
              "\t<tr><th scope=row>May 1998</th><td>368.6674</td><td>369.5410</td><td>367.7937</td></tr>\n",
              "\t<tr><th scope=row>Jun 1998</th><td>367.9508</td><td>368.8824</td><td>367.0192</td></tr>\n",
              "\t<tr><th scope=row>Jul 1998</th><td>366.5318</td><td>367.5189</td><td>365.5446</td></tr>\n",
              "\t<tr><th scope=row>Aug 1998</th><td>364.3799</td><td>365.4206</td><td>363.3392</td></tr>\n",
              "\t<tr><th scope=row>Sep 1998</th><td>362.4731</td><td>363.5656</td><td>361.3806</td></tr>\n",
              "\t<tr><th scope=row>Oct 1998</th><td>362.7520</td><td>363.8948</td><td>361.6093</td></tr>\n",
              "\t<tr><th scope=row>Nov 1998</th><td>364.2203</td><td>365.4121</td><td>363.0285</td></tr>\n",
              "\t<tr><th scope=row>Dec 1998</th><td>365.6741</td><td>366.9138</td><td>364.4345</td></tr>\n",
              "\t<tr><th scope=row>Jan 1999</th><td>366.6048</td><td>367.9353</td><td>365.2744</td></tr>\n",
              "\t<tr><th scope=row>Feb 1999</th><td>367.4633</td><td>368.8383</td><td>366.0884</td></tr>\n",
              "\t<tr><th scope=row>Mar 1999</th><td>368.2313</td><td>369.6500</td><td>366.8125</td></tr>\n",
              "\t<tr><th scope=row>Apr 1999</th><td>369.6333</td><td>371.0954</td><td>368.1713</td></tr>\n",
              "\t<tr><th scope=row>May 1999</th><td>370.1643</td><td>371.6690</td><td>368.6596</td></tr>\n",
              "\t<tr><th scope=row>Jun 1999</th><td>369.4477</td><td>370.9946</td><td>367.9008</td></tr>\n",
              "\t<tr><th scope=row>Jul 1999</th><td>368.0287</td><td>369.6173</td><td>366.4401</td></tr>\n",
              "\t<tr><th scope=row>Aug 1999</th><td>365.8769</td><td>367.5068</td><td>364.2469</td></tr>\n",
              "\t<tr><th scope=row>Sep 1999</th><td>363.9700</td><td>365.6409</td><td>362.2991</td></tr>\n",
              "\t<tr><th scope=row>Oct 1999</th><td>364.2490</td><td>365.9604</td><td>362.5375</td></tr>\n",
              "\t<tr><th scope=row>Nov 1999</th><td>365.7172</td><td>367.4690</td><td>363.9655</td></tr>\n",
              "\t<tr><th scope=row>Dec 1999</th><td>367.1710</td><td>368.9628</td><td>365.3793</td></tr>\n",
              "\t<tr><th scope=row>Jan 2000</th><td>368.1017</td><td>369.9669</td><td>366.2366</td></tr>\n",
              "\t<tr><th scope=row>Feb 2000</th><td>368.9602</td><td>370.8642</td><td>367.0563</td></tr>\n",
              "\t<tr><th scope=row>Mar 2000</th><td>369.7282</td><td>371.6707</td><td>367.7857</td></tr>\n",
              "\t<tr><th scope=row>Apr 2000</th><td>371.1303</td><td>373.1111</td><td>369.1494</td></tr>\n",
              "\t<tr><th scope=row>May 2000</th><td>371.6612</td><td>373.6803</td><td>369.6421</td></tr>\n",
              "\t<tr><th scope=row>Jun 2000</th><td>370.9446</td><td>373.0018</td><td>368.8874</td></tr>\n",
              "\t<tr><th scope=row>Jul 2000</th><td>369.5256</td><td>371.6208</td><td>367.4305</td></tr>\n",
              "\t<tr><th scope=row>Aug 2000</th><td>367.3738</td><td>369.5067</td><td>365.2408</td></tr>\n",
              "\t<tr><th scope=row>Sep 2000</th><td>365.4669</td><td>367.6376</td><td>363.2963</td></tr>\n",
              "\t<tr><th scope=row>Oct 2000</th><td>365.7459</td><td>367.9541</td><td>363.5376</td></tr>\n",
              "\t<tr><th scope=row>Nov 2000</th><td>367.2142</td><td>369.4599</td><td>364.9684</td></tr>\n",
              "\t<tr><th scope=row>Dec 2000</th><td>368.6680</td><td>370.9511</td><td>366.3848</td></tr>\n",
              "\t<tr><th scope=row>Jan 2001</th><td>369.5987</td><td>371.9479</td><td>367.2494</td></tr>\n",
              "\t<tr><th scope=row>Feb 2001</th><td>370.4572</td><td>372.8432</td><td>368.0711</td></tr>\n",
              "\t<tr><th scope=row>Mar 2001</th><td>371.2251</td><td>373.6479</td><td>368.8023</td></tr>\n",
              "\t<tr><th scope=row>Apr 2001</th><td>372.6272</td><td>375.0867</td><td>370.1677</td></tr>\n",
              "\t<tr><th scope=row>May 2001</th><td>373.1581</td><td>375.6543</td><td>370.6619</td></tr>\n",
              "\t<tr><th scope=row>Jun 2001</th><td>372.4416</td><td>374.9744</td><td>369.9087</td></tr>\n",
              "\t<tr><th scope=row>Jul 2001</th><td>371.0226</td><td>373.5920</td><td>368.4531</td></tr>\n",
              "\t<tr><th scope=row>Aug 2001</th><td>368.8707</td><td>371.4767</td><td>366.2647</td></tr>\n",
              "\t<tr><th scope=row>Sep 2001</th><td>366.9639</td><td>369.6064</td><td>364.3213</td></tr>\n",
              "\t<tr><th scope=row>Oct 2001</th><td>367.2428</td><td>369.9219</td><td>364.5637</td></tr>\n",
              "\t<tr><th scope=row>Nov 2001</th><td>368.7111</td><td>371.4267</td><td>365.9955</td></tr>\n",
              "\t<tr><th scope=row>Dec 2001</th><td>370.1649</td><td>372.9170</td><td>367.4128</td></tr>\n",
              "\t<tr><th scope=row>Jan 2002</th><td>371.0956</td><td>373.9100</td><td>368.2812</td></tr>\n",
              "\t<tr><th scope=row>Feb 2002</th><td>371.9541</td><td>374.8046</td><td>369.1036</td></tr>\n",
              "</tbody>\n",
              "</table>\n"
            ],
            "text/latex": [
              "A Time Series: 50 × 3\n",
              "\\begin{tabular}{r|lll}\n",
              "  & fit & upr & lwr\\\\\n",
              "\\hline\n",
              "\tJan 1998 & 365.1079 & 365.7105 & 364.5053\\\\\n",
              "\tFeb 1998 & 365.9664 & 366.6449 & 365.2879\\\\\n",
              "\tMar 1998 & 366.7343 & 367.4823 & 365.9864\\\\\n",
              "\tApr 1998 & 368.1364 & 368.9490 & 367.3238\\\\\n",
              "\tMay 1998 & 368.6674 & 369.5410 & 367.7937\\\\\n",
              "\tJun 1998 & 367.9508 & 368.8824 & 367.0192\\\\\n",
              "\tJul 1998 & 366.5318 & 367.5189 & 365.5446\\\\\n",
              "\tAug 1998 & 364.3799 & 365.4206 & 363.3392\\\\\n",
              "\tSep 1998 & 362.4731 & 363.5656 & 361.3806\\\\\n",
              "\tOct 1998 & 362.7520 & 363.8948 & 361.6093\\\\\n",
              "\tNov 1998 & 364.2203 & 365.4121 & 363.0285\\\\\n",
              "\tDec 1998 & 365.6741 & 366.9138 & 364.4345\\\\\n",
              "\tJan 1999 & 366.6048 & 367.9353 & 365.2744\\\\\n",
              "\tFeb 1999 & 367.4633 & 368.8383 & 366.0884\\\\\n",
              "\tMar 1999 & 368.2313 & 369.6500 & 366.8125\\\\\n",
              "\tApr 1999 & 369.6333 & 371.0954 & 368.1713\\\\\n",
              "\tMay 1999 & 370.1643 & 371.6690 & 368.6596\\\\\n",
              "\tJun 1999 & 369.4477 & 370.9946 & 367.9008\\\\\n",
              "\tJul 1999 & 368.0287 & 369.6173 & 366.4401\\\\\n",
              "\tAug 1999 & 365.8769 & 367.5068 & 364.2469\\\\\n",
              "\tSep 1999 & 363.9700 & 365.6409 & 362.2991\\\\\n",
              "\tOct 1999 & 364.2490 & 365.9604 & 362.5375\\\\\n",
              "\tNov 1999 & 365.7172 & 367.4690 & 363.9655\\\\\n",
              "\tDec 1999 & 367.1710 & 368.9628 & 365.3793\\\\\n",
              "\tJan 2000 & 368.1017 & 369.9669 & 366.2366\\\\\n",
              "\tFeb 2000 & 368.9602 & 370.8642 & 367.0563\\\\\n",
              "\tMar 2000 & 369.7282 & 371.6707 & 367.7857\\\\\n",
              "\tApr 2000 & 371.1303 & 373.1111 & 369.1494\\\\\n",
              "\tMay 2000 & 371.6612 & 373.6803 & 369.6421\\\\\n",
              "\tJun 2000 & 370.9446 & 373.0018 & 368.8874\\\\\n",
              "\tJul 2000 & 369.5256 & 371.6208 & 367.4305\\\\\n",
              "\tAug 2000 & 367.3738 & 369.5067 & 365.2408\\\\\n",
              "\tSep 2000 & 365.4669 & 367.6376 & 363.2963\\\\\n",
              "\tOct 2000 & 365.7459 & 367.9541 & 363.5376\\\\\n",
              "\tNov 2000 & 367.2142 & 369.4599 & 364.9684\\\\\n",
              "\tDec 2000 & 368.6680 & 370.9511 & 366.3848\\\\\n",
              "\tJan 2001 & 369.5987 & 371.9479 & 367.2494\\\\\n",
              "\tFeb 2001 & 370.4572 & 372.8432 & 368.0711\\\\\n",
              "\tMar 2001 & 371.2251 & 373.6479 & 368.8023\\\\\n",
              "\tApr 2001 & 372.6272 & 375.0867 & 370.1677\\\\\n",
              "\tMay 2001 & 373.1581 & 375.6543 & 370.6619\\\\\n",
              "\tJun 2001 & 372.4416 & 374.9744 & 369.9087\\\\\n",
              "\tJul 2001 & 371.0226 & 373.5920 & 368.4531\\\\\n",
              "\tAug 2001 & 368.8707 & 371.4767 & 366.2647\\\\\n",
              "\tSep 2001 & 366.9639 & 369.6064 & 364.3213\\\\\n",
              "\tOct 2001 & 367.2428 & 369.9219 & 364.5637\\\\\n",
              "\tNov 2001 & 368.7111 & 371.4267 & 365.9955\\\\\n",
              "\tDec 2001 & 370.1649 & 372.9170 & 367.4128\\\\\n",
              "\tJan 2002 & 371.0956 & 373.9100 & 368.2812\\\\\n",
              "\tFeb 2002 & 371.9541 & 374.8046 & 369.1036\\\\\n",
              "\\end{tabular}\n"
            ],
            "text/markdown": [
              "\n",
              "A Time Series: 50 × 3\n",
              "\n",
              "| <!--/--> | fit | upr | lwr |\n",
              "|---|---|---|---|\n",
              "| Jan 1998 | 365.1079 | 365.7105 | 364.5053 |\n",
              "| Feb 1998 | 365.9664 | 366.6449 | 365.2879 |\n",
              "| Mar 1998 | 366.7343 | 367.4823 | 365.9864 |\n",
              "| Apr 1998 | 368.1364 | 368.9490 | 367.3238 |\n",
              "| May 1998 | 368.6674 | 369.5410 | 367.7937 |\n",
              "| Jun 1998 | 367.9508 | 368.8824 | 367.0192 |\n",
              "| Jul 1998 | 366.5318 | 367.5189 | 365.5446 |\n",
              "| Aug 1998 | 364.3799 | 365.4206 | 363.3392 |\n",
              "| Sep 1998 | 362.4731 | 363.5656 | 361.3806 |\n",
              "| Oct 1998 | 362.7520 | 363.8948 | 361.6093 |\n",
              "| Nov 1998 | 364.2203 | 365.4121 | 363.0285 |\n",
              "| Dec 1998 | 365.6741 | 366.9138 | 364.4345 |\n",
              "| Jan 1999 | 366.6048 | 367.9353 | 365.2744 |\n",
              "| Feb 1999 | 367.4633 | 368.8383 | 366.0884 |\n",
              "| Mar 1999 | 368.2313 | 369.6500 | 366.8125 |\n",
              "| Apr 1999 | 369.6333 | 371.0954 | 368.1713 |\n",
              "| May 1999 | 370.1643 | 371.6690 | 368.6596 |\n",
              "| Jun 1999 | 369.4477 | 370.9946 | 367.9008 |\n",
              "| Jul 1999 | 368.0287 | 369.6173 | 366.4401 |\n",
              "| Aug 1999 | 365.8769 | 367.5068 | 364.2469 |\n",
              "| Sep 1999 | 363.9700 | 365.6409 | 362.2991 |\n",
              "| Oct 1999 | 364.2490 | 365.9604 | 362.5375 |\n",
              "| Nov 1999 | 365.7172 | 367.4690 | 363.9655 |\n",
              "| Dec 1999 | 367.1710 | 368.9628 | 365.3793 |\n",
              "| Jan 2000 | 368.1017 | 369.9669 | 366.2366 |\n",
              "| Feb 2000 | 368.9602 | 370.8642 | 367.0563 |\n",
              "| Mar 2000 | 369.7282 | 371.6707 | 367.7857 |\n",
              "| Apr 2000 | 371.1303 | 373.1111 | 369.1494 |\n",
              "| May 2000 | 371.6612 | 373.6803 | 369.6421 |\n",
              "| Jun 2000 | 370.9446 | 373.0018 | 368.8874 |\n",
              "| Jul 2000 | 369.5256 | 371.6208 | 367.4305 |\n",
              "| Aug 2000 | 367.3738 | 369.5067 | 365.2408 |\n",
              "| Sep 2000 | 365.4669 | 367.6376 | 363.2963 |\n",
              "| Oct 2000 | 365.7459 | 367.9541 | 363.5376 |\n",
              "| Nov 2000 | 367.2142 | 369.4599 | 364.9684 |\n",
              "| Dec 2000 | 368.6680 | 370.9511 | 366.3848 |\n",
              "| Jan 2001 | 369.5987 | 371.9479 | 367.2494 |\n",
              "| Feb 2001 | 370.4572 | 372.8432 | 368.0711 |\n",
              "| Mar 2001 | 371.2251 | 373.6479 | 368.8023 |\n",
              "| Apr 2001 | 372.6272 | 375.0867 | 370.1677 |\n",
              "| May 2001 | 373.1581 | 375.6543 | 370.6619 |\n",
              "| Jun 2001 | 372.4416 | 374.9744 | 369.9087 |\n",
              "| Jul 2001 | 371.0226 | 373.5920 | 368.4531 |\n",
              "| Aug 2001 | 368.8707 | 371.4767 | 366.2647 |\n",
              "| Sep 2001 | 366.9639 | 369.6064 | 364.3213 |\n",
              "| Oct 2001 | 367.2428 | 369.9219 | 364.5637 |\n",
              "| Nov 2001 | 368.7111 | 371.4267 | 365.9955 |\n",
              "| Dec 2001 | 370.1649 | 372.9170 | 367.4128 |\n",
              "| Jan 2002 | 371.0956 | 373.9100 | 368.2812 |\n",
              "| Feb 2002 | 371.9541 | 374.8046 | 369.1036 |\n",
              "\n"
            ],
            "text/plain": [
              "         fit      upr      lwr     \n",
              "Jan 1998 365.1079 365.7105 364.5053\n",
              "Feb 1998 365.9664 366.6449 365.2879\n",
              "Mar 1998 366.7343 367.4823 365.9864\n",
              "Apr 1998 368.1364 368.9490 367.3238\n",
              "May 1998 368.6674 369.5410 367.7937\n",
              "Jun 1998 367.9508 368.8824 367.0192\n",
              "Jul 1998 366.5318 367.5189 365.5446\n",
              "Aug 1998 364.3799 365.4206 363.3392\n",
              "Sep 1998 362.4731 363.5656 361.3806\n",
              "Oct 1998 362.7520 363.8948 361.6093\n",
              "Nov 1998 364.2203 365.4121 363.0285\n",
              "Dec 1998 365.6741 366.9138 364.4345\n",
              "Jan 1999 366.6048 367.9353 365.2744\n",
              "Feb 1999 367.4633 368.8383 366.0884\n",
              "Mar 1999 368.2313 369.6500 366.8125\n",
              "Apr 1999 369.6333 371.0954 368.1713\n",
              "May 1999 370.1643 371.6690 368.6596\n",
              "Jun 1999 369.4477 370.9946 367.9008\n",
              "Jul 1999 368.0287 369.6173 366.4401\n",
              "Aug 1999 365.8769 367.5068 364.2469\n",
              "Sep 1999 363.9700 365.6409 362.2991\n",
              "Oct 1999 364.2490 365.9604 362.5375\n",
              "Nov 1999 365.7172 367.4690 363.9655\n",
              "Dec 1999 367.1710 368.9628 365.3793\n",
              "Jan 2000 368.1017 369.9669 366.2366\n",
              "Feb 2000 368.9602 370.8642 367.0563\n",
              "Mar 2000 369.7282 371.6707 367.7857\n",
              "Apr 2000 371.1303 373.1111 369.1494\n",
              "May 2000 371.6612 373.6803 369.6421\n",
              "Jun 2000 370.9446 373.0018 368.8874\n",
              "Jul 2000 369.5256 371.6208 367.4305\n",
              "Aug 2000 367.3738 369.5067 365.2408\n",
              "Sep 2000 365.4669 367.6376 363.2963\n",
              "Oct 2000 365.7459 367.9541 363.5376\n",
              "Nov 2000 367.2142 369.4599 364.9684\n",
              "Dec 2000 368.6680 370.9511 366.3848\n",
              "Jan 2001 369.5987 371.9479 367.2494\n",
              "Feb 2001 370.4572 372.8432 368.0711\n",
              "Mar 2001 371.2251 373.6479 368.8023\n",
              "Apr 2001 372.6272 375.0867 370.1677\n",
              "May 2001 373.1581 375.6543 370.6619\n",
              "Jun 2001 372.4416 374.9744 369.9087\n",
              "Jul 2001 371.0226 373.5920 368.4531\n",
              "Aug 2001 368.8707 371.4767 366.2647\n",
              "Sep 2001 366.9639 369.6064 364.3213\n",
              "Oct 2001 367.2428 369.9219 364.5637\n",
              "Nov 2001 368.7111 371.4267 365.9955\n",
              "Dec 2001 370.1649 372.9170 367.4128\n",
              "Jan 2002 371.0956 373.9100 368.2812\n",
              "Feb 2002 371.9541 374.8046 369.1036"
            ]
          },
          "metadata": {},
          "output_type": "display_data"
        }
      ],
      "source": [
        "fore <- predict(model, 50, prediction.interval = TRUE)\n",
        "fore"
      ]
    },
    {
      "cell_type": "code",
      "execution_count": 40,
      "id": "6f269b77",
      "metadata": {
        "vscode": {
          "languageId": "r"
        }
      },
      "outputs": [
        {
          "data": {
            "image/png": "[encoded data removed]",
            "text/plain": [
              "Plot with title \"Holt-Winters filtering\""
            ]
          },
          "metadata": {
            "image/png": {
              "height": 420,
              "width": 420
            }
          },
          "output_type": "display_data"
        }
      ],
      "source": [
        "plot(model,fore,col=\"red\")"
      ]
    },
    {
      "cell_type": "markdown",
      "id": "3aca0fa3",
      "metadata": {},
      "source": [
        "<div style=\"border-radius: 10px; border: #0ea5e9 solid; padding: 15px; background-color: #ffffff00; font-size: 100%; text-align: left;\">\n",
        "    <b>🖊️ Analisis :</b> Dataset merupakan pengukuran konsentrasi karbondioksida (CO2) di Mauna Loa, Hawai pada tahun 1959 hingga 1997. Hasil insight didapat pola trend dan seasonal dan terdapat kenaikan setiap tahunnya. Kemudian melakukan predict untuk model dengan interval 50 prediksi ke depan dengan menggunakan motode HoltWintres.\n",
        "</div>"
      ]
    },
    {
      "cell_type": "code",
      "execution_count": 41,
      "id": "4c7b37c9",
      "metadata": {
        "vscode": {
          "languageId": "r"
        }
      },
      "outputs": [
        {
          "data": {
            "image/png": "[encoded data removed]",
            "text/plain": [
              "plot without title"
            ]
          },
          "metadata": {
            "image/png": {
              "height": 420,
              "width": 420
            }
          },
          "output_type": "display_data"
        }
      ],
      "source": [
        "plot(fitted(model),col=\"blue\")"
      ]
    },
    {
      "cell_type": "markdown",
      "id": "9f87c597",
      "metadata": {},
      "source": [
        "<div style=\"border-radius: 10px; border: #0ea5e9 solid; padding: 15px; background-color: #ffffff00; font-size: 100%; text-align: left;\">\n",
        "    <b>🖊️ Analisis :</b> Model kemudian di fit kan. Dan dari hasil fitting model berhasil menangkap dan memvisualisasikan komponen-komponen penting dari data time series, yaitu level, trend, dan seasonality.\n",
        "</div>"
      ]
    },
    {
      "cell_type": "markdown",
      "id": "6fd9296e",
      "metadata": {},
      "source": [
        "## Percobaan ke-4: Studi Kasus 4"
      ]
    },
    {
      "cell_type": "code",
      "execution_count": 42,
      "id": "a010865c",
      "metadata": {
        "vscode": {
          "languageId": "r"
        }
      },
      "outputs": [
        {
          "data": {
            "text/html": [
              "<table class=\"dataframe\">\n",
              "<caption>A Time Series: 12 × 12</caption>\n",
              "<thead>\n",
              "\t<tr><th></th><th scope=col>Jan</th><th scope=col>Feb</th><th scope=col>Mar</th><th scope=col>Apr</th><th scope=col>May</th><th scope=col>Jun</th><th scope=col>Jul</th><th scope=col>Aug</th><th scope=col>Sep</th><th scope=col>Oct</th><th scope=col>Nov</th><th scope=col>Dec</th></tr>\n",
              "</thead>\n",
              "<tbody>\n",
              "\t<tr><th scope=row>1949</th><td>112</td><td>118</td><td>132</td><td>129</td><td>121</td><td>135</td><td>148</td><td>148</td><td>136</td><td>119</td><td>104</td><td>118</td></tr>\n",
              "\t<tr><th scope=row>1950</th><td>115</td><td>126</td><td>141</td><td>135</td><td>125</td><td>149</td><td>170</td><td>170</td><td>158</td><td>133</td><td>114</td><td>140</td></tr>\n",
              "\t<tr><th scope=row>1951</th><td>145</td><td>150</td><td>178</td><td>163</td><td>172</td><td>178</td><td>199</td><td>199</td><td>184</td><td>162</td><td>146</td><td>166</td></tr>\n",
              "\t<tr><th scope=row>1952</th><td>171</td><td>180</td><td>193</td><td>181</td><td>183</td><td>218</td><td>230</td><td>242</td><td>209</td><td>191</td><td>172</td><td>194</td></tr>\n",
              "\t<tr><th scope=row>1953</th><td>196</td><td>196</td><td>236</td><td>235</td><td>229</td><td>243</td><td>264</td><td>272</td><td>237</td><td>211</td><td>180</td><td>201</td></tr>\n",
              "\t<tr><th scope=row>1954</th><td>204</td><td>188</td><td>235</td><td>227</td><td>234</td><td>264</td><td>302</td><td>293</td><td>259</td><td>229</td><td>203</td><td>229</td></tr>\n",
              "\t<tr><th scope=row>1955</th><td>242</td><td>233</td><td>267</td><td>269</td><td>270</td><td>315</td><td>364</td><td>347</td><td>312</td><td>274</td><td>237</td><td>278</td></tr>\n",
              "\t<tr><th scope=row>1956</th><td>284</td><td>277</td><td>317</td><td>313</td><td>318</td><td>374</td><td>413</td><td>405</td><td>355</td><td>306</td><td>271</td><td>306</td></tr>\n",
              "\t<tr><th scope=row>1957</th><td>315</td><td>301</td><td>356</td><td>348</td><td>355</td><td>422</td><td>465</td><td>467</td><td>404</td><td>347</td><td>305</td><td>336</td></tr>\n",
              "\t<tr><th scope=row>1958</th><td>340</td><td>318</td><td>362</td><td>348</td><td>363</td><td>435</td><td>491</td><td>505</td><td>404</td><td>359</td><td>310</td><td>337</td></tr>\n",
              "\t<tr><th scope=row>1959</th><td>360</td><td>342</td><td>406</td><td>396</td><td>420</td><td>472</td><td>548</td><td>559</td><td>463</td><td>407</td><td>362</td><td>405</td></tr>\n",
              "\t<tr><th scope=row>1960</th><td>417</td><td>391</td><td>419</td><td>461</td><td>472</td><td>535</td><td>622</td><td>606</td><td>508</td><td>461</td><td>390</td><td>432</td></tr>\n",
              "</tbody>\n",
              "</table>\n"
            ],
            "text/latex": [
              "A Time Series: 12 × 12\n",
              "\\begin{tabular}{r|llllllllllll}\n",
              "  & Jan & Feb & Mar & Apr & May & Jun & Jul & Aug & Sep & Oct & Nov & Dec\\\\\n",
              "\\hline\n",
              "\t1949 & 112 & 118 & 132 & 129 & 121 & 135 & 148 & 148 & 136 & 119 & 104 & 118\\\\\n",
              "\t1950 & 115 & 126 & 141 & 135 & 125 & 149 & 170 & 170 & 158 & 133 & 114 & 140\\\\\n",
              "\t1951 & 145 & 150 & 178 & 163 & 172 & 178 & 199 & 199 & 184 & 162 & 146 & 166\\\\\n",
              "\t1952 & 171 & 180 & 193 & 181 & 183 & 218 & 230 & 242 & 209 & 191 & 172 & 194\\\\\n",
              "\t1953 & 196 & 196 & 236 & 235 & 229 & 243 & 264 & 272 & 237 & 211 & 180 & 201\\\\\n",
              "\t1954 & 204 & 188 & 235 & 227 & 234 & 264 & 302 & 293 & 259 & 229 & 203 & 229\\\\\n",
              "\t1955 & 242 & 233 & 267 & 269 & 270 & 315 & 364 & 347 & 312 & 274 & 237 & 278\\\\\n",
              "\t1956 & 284 & 277 & 317 & 313 & 318 & 374 & 413 & 405 & 355 & 306 & 271 & 306\\\\\n",
              "\t1957 & 315 & 301 & 356 & 348 & 355 & 422 & 465 & 467 & 404 & 347 & 305 & 336\\\\\n",
              "\t1958 & 340 & 318 & 362 & 348 & 363 & 435 & 491 & 505 & 404 & 359 & 310 & 337\\\\\n",
              "\t1959 & 360 & 342 & 406 & 396 & 420 & 472 & 548 & 559 & 463 & 407 & 362 & 405\\\\\n",
              "\t1960 & 417 & 391 & 419 & 461 & 472 & 535 & 622 & 606 & 508 & 461 & 390 & 432\\\\\n",
              "\\end{tabular}\n"
            ],
            "text/markdown": [
              "\n",
              "A Time Series: 12 × 12\n",
              "\n",
              "| <!--/--> | Jan | Feb | Mar | Apr | May | Jun | Jul | Aug | Sep | Oct | Nov | Dec |\n",
              "|---|---|---|---|---|---|---|---|---|---|---|---|---|\n",
              "| 1949 | 112 | 118 | 132 | 129 | 121 | 135 | 148 | 148 | 136 | 119 | 104 | 118 |\n",
              "| 1950 | 115 | 126 | 141 | 135 | 125 | 149 | 170 | 170 | 158 | 133 | 114 | 140 |\n",
              "| 1951 | 145 | 150 | 178 | 163 | 172 | 178 | 199 | 199 | 184 | 162 | 146 | 166 |\n",
              "| 1952 | 171 | 180 | 193 | 181 | 183 | 218 | 230 | 242 | 209 | 191 | 172 | 194 |\n",
              "| 1953 | 196 | 196 | 236 | 235 | 229 | 243 | 264 | 272 | 237 | 211 | 180 | 201 |\n",
              "| 1954 | 204 | 188 | 235 | 227 | 234 | 264 | 302 | 293 | 259 | 229 | 203 | 229 |\n",
              "| 1955 | 242 | 233 | 267 | 269 | 270 | 315 | 364 | 347 | 312 | 274 | 237 | 278 |\n",
              "| 1956 | 284 | 277 | 317 | 313 | 318 | 374 | 413 | 405 | 355 | 306 | 271 | 306 |\n",
              "| 1957 | 315 | 301 | 356 | 348 | 355 | 422 | 465 | 467 | 404 | 347 | 305 | 336 |\n",
              "| 1958 | 340 | 318 | 362 | 348 | 363 | 435 | 491 | 505 | 404 | 359 | 310 | 337 |\n",
              "| 1959 | 360 | 342 | 406 | 396 | 420 | 472 | 548 | 559 | 463 | 407 | 362 | 405 |\n",
              "| 1960 | 417 | 391 | 419 | 461 | 472 | 535 | 622 | 606 | 508 | 461 | 390 | 432 |\n",
              "\n"
            ],
            "text/plain": [
              "     Jan Feb Mar Apr May Jun Jul Aug Sep Oct Nov Dec\n",
              "1949 112 118 132 129 121 135 148 148 136 119 104 118\n",
              "1950 115 126 141 135 125 149 170 170 158 133 114 140\n",
              "1951 145 150 178 163 172 178 199 199 184 162 146 166\n",
              "1952 171 180 193 181 183 218 230 242 209 191 172 194\n",
              "1953 196 196 236 235 229 243 264 272 237 211 180 201\n",
              "1954 204 188 235 227 234 264 302 293 259 229 203 229\n",
              "1955 242 233 267 269 270 315 364 347 312 274 237 278\n",
              "1956 284 277 317 313 318 374 413 405 355 306 271 306\n",
              "1957 315 301 356 348 355 422 465 467 404 347 305 336\n",
              "1958 340 318 362 348 363 435 491 505 404 359 310 337\n",
              "1959 360 342 406 396 420 472 548 559 463 407 362 405\n",
              "1960 417 391 419 461 472 535 622 606 508 461 390 432"
            ]
          },
          "metadata": {},
          "output_type": "display_data"
        }
      ],
      "source": [
        "AirPassengers"
      ]
    },
    {
      "cell_type": "code",
      "execution_count": 43,
      "id": "f3c9d34c",
      "metadata": {
        "vscode": {
          "languageId": "r"
        }
      },
      "outputs": [
        {
          "data": {
            "image/png": "[encoded data removed]",
            "text/plain": [
              "plot without title"
            ]
          },
          "metadata": {
            "image/png": {
              "height": 420,
              "width": 420
            }
          },
          "output_type": "display_data"
        }
      ],
      "source": [
        "plot(AirPassengers, col = \"purple\")"
      ]
    },
    {
      "cell_type": "code",
      "execution_count": 44,
      "id": "aa21dade",
      "metadata": {
        "vscode": {
          "languageId": "r"
        }
      },
      "outputs": [
        {
          "data": {
            "text/plain": [
              "Holt-Winters exponential smoothing with trend and multiplicative seasonal component.\n",
              "\n",
              "Call:\n",
              "HoltWinters(x = AirPassengers, seasonal = \"mult\")\n",
              "\n",
              "Smoothing parameters:\n",
              " alpha: 0.2755925\n",
              " beta : 0.03269295\n",
              " gamma: 0.8707292\n",
              "\n",
              "Coefficients:\n",
              "           [,1]\n",
              "a   469.3232206\n",
              "b     3.0215391\n",
              "s1    0.9464611\n",
              "s2    0.8829239\n",
              "s3    0.9717369\n",
              "s4    1.0304825\n",
              "s5    1.0476884\n",
              "s6    1.1805272\n",
              "s7    1.3590778\n",
              "s8    1.3331706\n",
              "s9    1.1083381\n",
              "s10   0.9868813\n",
              "s11   0.8361333\n",
              "s12   0.9209877"
            ]
          },
          "metadata": {},
          "output_type": "display_data"
        }
      ],
      "source": [
        "model <- HoltWinters(AirPassengers, seasonal=\"mult\")\n",
        "model"
      ]
    },
    {
      "cell_type": "code",
      "execution_count": 45,
      "id": "178efd40",
      "metadata": {
        "vscode": {
          "languageId": "r"
        }
      },
      "outputs": [
        {
          "data": {
            "text/html": [
              "<table class=\"dataframe\">\n",
              "<caption>A Time Series: 24 × 3</caption>\n",
              "<thead>\n",
              "\t<tr><th></th><th scope=col>fit</th><th scope=col>upr</th><th scope=col>lwr</th></tr>\n",
              "</thead>\n",
              "<tbody>\n",
              "\t<tr><th scope=row>Jan 1961</th><td>447.0559</td><td>466.8057</td><td>427.3061</td></tr>\n",
              "\t<tr><th scope=row>Feb 1961</th><td>419.7123</td><td>440.2920</td><td>399.1326</td></tr>\n",
              "\t<tr><th scope=row>Mar 1961</th><td>464.8671</td><td>486.7712</td><td>442.9630</td></tr>\n",
              "\t<tr><th scope=row>Apr 1961</th><td>496.0839</td><td>519.3350</td><td>472.8329</td></tr>\n",
              "\t<tr><th scope=row>May 1961</th><td>507.5326</td><td>531.9278</td><td>483.1375</td></tr>\n",
              "\t<tr><th scope=row>Jun 1961</th><td>575.4509</td><td>602.1935</td><td>548.7083</td></tr>\n",
              "\t<tr><th scope=row>Jul 1961</th><td>666.5923</td><td>696.5558</td><td>636.6288</td></tr>\n",
              "\t<tr><th scope=row>Aug 1961</th><td>657.9137</td><td>688.6454</td><td>627.1821</td></tr>\n",
              "\t<tr><th scope=row>Sep 1961</th><td>550.3088</td><td>578.9777</td><td>521.6398</td></tr>\n",
              "\t<tr><th scope=row>Oct 1961</th><td>492.9853</td><td>520.9553</td><td>465.0153</td></tr>\n",
              "\t<tr><th scope=row>Nov 1961</th><td>420.2073</td><td>446.9458</td><td>393.4688</td></tr>\n",
              "\t<tr><th scope=row>Dec 1961</th><td>465.6345</td><td>487.9686</td><td>443.3004</td></tr>\n",
              "\t<tr><th scope=row>Jan 1962</th><td>481.3732</td><td>517.8126</td><td>444.9337</td></tr>\n",
              "\t<tr><th scope=row>Feb 1962</th><td>451.7258</td><td>488.0308</td><td>415.4207</td></tr>\n",
              "\t<tr><th scope=row>Mar 1962</th><td>500.1008</td><td>538.8928</td><td>461.3088</td></tr>\n",
              "\t<tr><th scope=row>Apr 1962</th><td>533.4477</td><td>574.3831</td><td>492.5122</td></tr>\n",
              "\t<tr><th scope=row>May 1962</th><td>545.5202</td><td>587.8399</td><td>503.2005</td></tr>\n",
              "\t<tr><th scope=row>Jun 1962</th><td>618.2550</td><td>664.8185</td><td>571.6915</td></tr>\n",
              "\t<tr><th scope=row>Jul 1962</th><td>715.8704</td><td>768.3289</td><td>663.4118</td></tr>\n",
              "\t<tr><th scope=row>Aug 1962</th><td>706.2524</td><td>759.2423</td><td>653.2626</td></tr>\n",
              "\t<tr><th scope=row>Sep 1962</th><td>590.4954</td><td>638.2882</td><td>542.7027</td></tr>\n",
              "\t<tr><th scope=row>Oct 1962</th><td>528.7681</td><td>574.2084</td><td>483.3279</td></tr>\n",
              "\t<tr><th scope=row>Nov 1962</th><td>450.5242</td><td>492.7194</td><td>408.3290</td></tr>\n",
              "\t<tr><th scope=row>Dec 1962</th><td>499.0281</td><td>535.8450</td><td>462.2112</td></tr>\n",
              "</tbody>\n",
              "</table>\n"
            ],
            "text/latex": [
              "A Time Series: 24 × 3\n",
              "\\begin{tabular}{r|lll}\n",
              "  & fit & upr & lwr\\\\\n",
              "\\hline\n",
              "\tJan 1961 & 447.0559 & 466.8057 & 427.3061\\\\\n",
              "\tFeb 1961 & 419.7123 & 440.2920 & 399.1326\\\\\n",
              "\tMar 1961 & 464.8671 & 486.7712 & 442.9630\\\\\n",
              "\tApr 1961 & 496.0839 & 519.3350 & 472.8329\\\\\n",
              "\tMay 1961 & 507.5326 & 531.9278 & 483.1375\\\\\n",
              "\tJun 1961 & 575.4509 & 602.1935 & 548.7083\\\\\n",
              "\tJul 1961 & 666.5923 & 696.5558 & 636.6288\\\\\n",
              "\tAug 1961 & 657.9137 & 688.6454 & 627.1821\\\\\n",
              "\tSep 1961 & 550.3088 & 578.9777 & 521.6398\\\\\n",
              "\tOct 1961 & 492.9853 & 520.9553 & 465.0153\\\\\n",
              "\tNov 1961 & 420.2073 & 446.9458 & 393.4688\\\\\n",
              "\tDec 1961 & 465.6345 & 487.9686 & 443.3004\\\\\n",
              "\tJan 1962 & 481.3732 & 517.8126 & 444.9337\\\\\n",
              "\tFeb 1962 & 451.7258 & 488.0308 & 415.4207\\\\\n",
              "\tMar 1962 & 500.1008 & 538.8928 & 461.3088\\\\\n",
              "\tApr 1962 & 533.4477 & 574.3831 & 492.5122\\\\\n",
              "\tMay 1962 & 545.5202 & 587.8399 & 503.2005\\\\\n",
              "\tJun 1962 & 618.2550 & 664.8185 & 571.6915\\\\\n",
              "\tJul 1962 & 715.8704 & 768.3289 & 663.4118\\\\\n",
              "\tAug 1962 & 706.2524 & 759.2423 & 653.2626\\\\\n",
              "\tSep 1962 & 590.4954 & 638.2882 & 542.7027\\\\\n",
              "\tOct 1962 & 528.7681 & 574.2084 & 483.3279\\\\\n",
              "\tNov 1962 & 450.5242 & 492.7194 & 408.3290\\\\\n",
              "\tDec 1962 & 499.0281 & 535.8450 & 462.2112\\\\\n",
              "\\end{tabular}\n"
            ],
            "text/markdown": [
              "\n",
              "A Time Series: 24 × 3\n",
              "\n",
              "| <!--/--> | fit | upr | lwr |\n",
              "|---|---|---|---|\n",
              "| Jan 1961 | 447.0559 | 466.8057 | 427.3061 |\n",
              "| Feb 1961 | 419.7123 | 440.2920 | 399.1326 |\n",
              "| Mar 1961 | 464.8671 | 486.7712 | 442.9630 |\n",
              "| Apr 1961 | 496.0839 | 519.3350 | 472.8329 |\n",
              "| May 1961 | 507.5326 | 531.9278 | 483.1375 |\n",
              "| Jun 1961 | 575.4509 | 602.1935 | 548.7083 |\n",
              "| Jul 1961 | 666.5923 | 696.5558 | 636.6288 |\n",
              "| Aug 1961 | 657.9137 | 688.6454 | 627.1821 |\n",
              "| Sep 1961 | 550.3088 | 578.9777 | 521.6398 |\n",
              "| Oct 1961 | 492.9853 | 520.9553 | 465.0153 |\n",
              "| Nov 1961 | 420.2073 | 446.9458 | 393.4688 |\n",
              "| Dec 1961 | 465.6345 | 487.9686 | 443.3004 |\n",
              "| Jan 1962 | 481.3732 | 517.8126 | 444.9337 |\n",
              "| Feb 1962 | 451.7258 | 488.0308 | 415.4207 |\n",
              "| Mar 1962 | 500.1008 | 538.8928 | 461.3088 |\n",
              "| Apr 1962 | 533.4477 | 574.3831 | 492.5122 |\n",
              "| May 1962 | 545.5202 | 587.8399 | 503.2005 |\n",
              "| Jun 1962 | 618.2550 | 664.8185 | 571.6915 |\n",
              "| Jul 1962 | 715.8704 | 768.3289 | 663.4118 |\n",
              "| Aug 1962 | 706.2524 | 759.2423 | 653.2626 |\n",
              "| Sep 1962 | 590.4954 | 638.2882 | 542.7027 |\n",
              "| Oct 1962 | 528.7681 | 574.2084 | 483.3279 |\n",
              "| Nov 1962 | 450.5242 | 492.7194 | 408.3290 |\n",
              "| Dec 1962 | 499.0281 | 535.8450 | 462.2112 |\n",
              "\n"
            ],
            "text/plain": [
              "         fit      upr      lwr     \n",
              "Jan 1961 447.0559 466.8057 427.3061\n",
              "Feb 1961 419.7123 440.2920 399.1326\n",
              "Mar 1961 464.8671 486.7712 442.9630\n",
              "Apr 1961 496.0839 519.3350 472.8329\n",
              "May 1961 507.5326 531.9278 483.1375\n",
              "Jun 1961 575.4509 602.1935 548.7083\n",
              "Jul 1961 666.5923 696.5558 636.6288\n",
              "Aug 1961 657.9137 688.6454 627.1821\n",
              "Sep 1961 550.3088 578.9777 521.6398\n",
              "Oct 1961 492.9853 520.9553 465.0153\n",
              "Nov 1961 420.2073 446.9458 393.4688\n",
              "Dec 1961 465.6345 487.9686 443.3004\n",
              "Jan 1962 481.3732 517.8126 444.9337\n",
              "Feb 1962 451.7258 488.0308 415.4207\n",
              "Mar 1962 500.1008 538.8928 461.3088\n",
              "Apr 1962 533.4477 574.3831 492.5122\n",
              "May 1962 545.5202 587.8399 503.2005\n",
              "Jun 1962 618.2550 664.8185 571.6915\n",
              "Jul 1962 715.8704 768.3289 663.4118\n",
              "Aug 1962 706.2524 759.2423 653.2626\n",
              "Sep 1962 590.4954 638.2882 542.7027\n",
              "Oct 1962 528.7681 574.2084 483.3279\n",
              "Nov 1962 450.5242 492.7194 408.3290\n",
              "Dec 1962 499.0281 535.8450 462.2112"
            ]
          },
          "metadata": {},
          "output_type": "display_data"
        }
      ],
      "source": [
        "fore <- predict(model, 24, prediction.interval = TRUE)\n",
        "fore"
      ]
    },
    {
      "cell_type": "code",
      "execution_count": 46,
      "id": "ee440d3c",
      "metadata": {
        "vscode": {
          "languageId": "r"
        }
      },
      "outputs": [
        {
          "data": {
            "image/png": "[encoded data removed]",
            "text/plain": [
              "Plot with title \"Holt-Winters filtering\""
            ]
          },
          "metadata": {
            "image/png": {
              "height": 420,
              "width": 420
            }
          },
          "output_type": "display_data"
        }
      ],
      "source": [
        "plot(model,fore,col=\"darkred\")"
      ]
    },
    {
      "cell_type": "markdown",
      "id": "56df6361",
      "metadata": {},
      "source": [
        "<div style=\"border-radius: 10px; border: #0ea5e9 solid; padding: 15px; background-color: #ffffff00; font-size: 100%; text-align: left;\">\n",
        "    <b>🖊️ Analisis :</b> Regresi multinomial memprediksi probabilitas pengamatan tertentu untuk menjadi bagian dari kelas tertentu. Kolom mewakili tingkat klasifikasi dan baris mewakili pengamatan. 20 baris pertama terklasifikasi sebagai carsinoma dan 20 baris terakhir tergolong sebagai adipose\n",
        "</div>"
      ]
    },
    {
      "cell_type": "code",
      "execution_count": 47,
      "id": "f2c21108",
      "metadata": {
        "vscode": {
          "languageId": "r"
        }
      },
      "outputs": [
        {
          "data": {
            "image/png": "[encoded data removed]",
            "text/plain": [
              "plot without title"
            ]
          },
          "metadata": {
            "image/png": {
              "height": 420,
              "width": 420
            }
          },
          "output_type": "display_data"
        }
      ],
      "source": [
        "plot(fitted(model),col=\"darkblue\")"
      ]
    },
    {
      "cell_type": "markdown",
      "id": "c0999ba5",
      "metadata": {},
      "source": [
        "<div style=\"border-radius: 10px; border: #0ea5e9 solid; padding: 15px; background-color: #ffffff00; font-size: 100%; text-align: left;\">\n",
        "    <b>🖊️ Analisis :</b> Sama seperti percobaan sebelumnya model menangkap sass sangat ingin melakuan percobaan dan seterusaknya\n",
        "</div>"
      ]
    },
    {
      "cell_type": "markdown",
      "id": "f26e1d14",
      "metadata": {},
      "source": []
    }
  ],
  "metadata": {
    "colab": {
      "provenance": []
    },
    "kernelspec": {
      "display_name": "R",
      "language": "R",
      "name": "ir"
    },
    "language_info": {
      "codemirror_mode": "r",
      "file_extension": ".r",
      "mimetype": "text/x-r-source",
      "name": "R",
      "pygments_lexer": "r",
      "version": "4.3.1"
    }
  },
  "nbformat": 4,
  "nbformat_minor": 5
}
