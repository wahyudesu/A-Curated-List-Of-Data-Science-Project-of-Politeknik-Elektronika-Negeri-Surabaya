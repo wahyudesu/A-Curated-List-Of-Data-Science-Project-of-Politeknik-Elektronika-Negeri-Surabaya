{
  "cells": [
    {
      "cell_type": "markdown",
      "id": "TPHpozd-o-z1",
      "metadata": {
        "id": "TPHpozd-o-z1"
      },
      "source": [
        "<h1><center>Praktikum Pemrosesan Data</center></h1>\n",
        "<h2><center>Dosen Pengampu Edi Satriyanto S.Si., M.Si\t</center></h2>"
      ]
    },
    {
      "cell_type": "markdown",
      "id": "b14843c5",
      "metadata": {},
      "source": [
        "#"
      ]
    },
    {
      "cell_type": "markdown",
      "id": "1e43020c",
      "metadata": {},
      "source": [
        "#"
      ]
    },
    {
      "cell_type": "markdown",
      "id": "3001cc80",
      "metadata": {},
      "source": [
        "<img src=\"logo pens.png\" \n",
        "        alt=\"Picture\" \n",
        "        width=\"380\" \n",
        "        height=\"380\" \n",
        "        style=\"display: block; margin: 0 auto\" />"
      ]
    },
    {
      "cell_type": "markdown",
      "id": "09b62cfb",
      "metadata": {},
      "source": [
        "#"
      ]
    },
    {
      "cell_type": "markdown",
      "id": "50301ba9",
      "metadata": {},
      "source": [
        "#"
      ]
    },
    {
      "cell_type": "markdown",
      "id": "465d6440",
      "metadata": {},
      "source": [
        "#"
      ]
    },
    {
      "cell_type": "markdown",
      "id": "7887b656",
      "metadata": {},
      "source": [
        "#"
      ]
    },
    {
      "cell_type": "markdown",
      "id": "oc8Pzy5CpE76",
      "metadata": {
        "id": "oc8Pzy5CpE76"
      },
      "source": [
        "<h4><center>Wahyu Ikbal Maulana</center></h4>\n",
        "\n",
        "<h4><center>3323600056</center></h4>\n",
        "\n",
        "<h4><center>D4 SDT B</center></h4>\n",
        "\n",
        "<h2><center>Politeknik Elektronika Negeri Surabaya</center></h2>\n",
        "  ‎ \n"
      ]
    },
    {
      "cell_type": "markdown",
      "id": "196f473c",
      "metadata": {},
      "source": []
    },
    {
      "cell_type": "markdown",
      "id": "74a7c7d8",
      "metadata": {},
      "source": []
    },
    {
      "cell_type": "markdown",
      "id": "085e2d88",
      "metadata": {},
      "source": []
    },
    {
      "cell_type": "markdown",
      "id": "f0e8af47",
      "metadata": {},
      "source": [
        "# Tutorial"
      ]
    },
    {
      "cell_type": "markdown",
      "id": "3e30c83f",
      "metadata": {},
      "source": [
        "### Speech to Text"
      ]
    },
    {
      "cell_type": "code",
      "execution_count": 42,
      "id": "a4619557",
      "metadata": {},
      "outputs": [],
      "source": [
        "import speech_recognition as sr\n",
        "recognizer = sr.Recognizer()\n",
        "\n",
        "def capture_voice_input():\n",
        "    with sr.Microphone() as source:\n",
        "        print(\"Listening...\")\n",
        "    audio = recognizer.listen(source)\n",
        "    return audio"
      ]
    },
    {
      "cell_type": "code",
      "execution_count": 43,
      "id": "dbbd25a5",
      "metadata": {},
      "outputs": [],
      "source": [
        "def convert_voice_to_text(audio):\n",
        "    try:\n",
        "        text = recognizer.recognize_google(audio)\n",
        "        print(\"You said: \" + text)\n",
        "    except sr.UnknownValueError:\n",
        "        text = \"\"\n",
        "        print(\"Sorry, I didn't understand that.\")\n",
        "    except sr.RequestError as e:\n",
        "        text = \"\"\n",
        "        print(\"Error; {0}\".format(e))\n",
        "    return text"
      ]
    },
    {
      "cell_type": "code",
      "execution_count": 44,
      "id": "82f23371",
      "metadata": {},
      "outputs": [],
      "source": [
        "def process_voice_command(text):\n",
        "    if \"hello\" in text.lower():\n",
        "        print(\"Hello! How can I help you?\")\n",
        "    elif \"goodbye\" in text.lower():\n",
        "        print(\"Goodbye! Have a great day!\")\n",
        "        return True\n",
        "    else:\n",
        "        print(\"I didn't understand that command. Please try again.\")\n",
        "        return False"
      ]
    },
    {
      "cell_type": "code",
      "execution_count": 45,
      "id": "f59513f0",
      "metadata": {},
      "outputs": [],
      "source": [
        "def main():\n",
        "    end_program = False\n",
        "    while not end_program:\n",
        "        audio = capture_voice_input()\n",
        "        text = convert_voice_to_text(audio)\n",
        "        end_program = process_voice_command(text)\n",
        "    if __name__ == \"__main__\":\n",
        "        main()"
      ]
    },
    {
      "cell_type": "code",
      "execution_count": 48,
      "id": "61f1f4e8",
      "metadata": {},
      "outputs": [],
      "source": [
        "import pyttsx3\n",
        "engine=pyttsx3.init()\n",
        "while True:\n",
        "    answer=input(\"Masukan Text=\")\n",
        "    engine.say(answer)\n",
        "    engine.runAndWait()"
      ]
    },
    {
      "cell_type": "markdown",
      "id": "3007f997",
      "metadata": {},
      "source": [
        "### Text to Speech"
      ]
    },
    {
      "cell_type": "code",
      "execution_count": 3,
      "id": "5d9d4cd5",
      "metadata": {},
      "outputs": [
        {
          "name": "stdout",
          "output_type": "stream",
          "text": [
            "Text: thank you for contacting us all lines are currently busy your call is very important to us\n"
          ]
        }
      ],
      "source": [
        "import speech_recognition as sr\n",
        "\n",
        "# Buat objek Recognizer\n",
        "recognizer = sr.Recognizer()\n",
        "\n",
        "# Buka file audio\n",
        "with sr.AudioFile(\"Thank you for contac.wav\") as source:\n",
        "    audio_data = recognizer.record(source)  # Merekam data audio dari file\n",
        "\n",
        "    # Gunakan recognizer untuk melakukan speech-to-text\n",
        "    try:\n",
        "        text = recognizer.recognize_google(audio_data)\n",
        "        print(\"Text:\", text)\n",
        "    except sr.UnknownValueError:\n",
        "        print(\"Speech Recognition could not understand audio\")\n",
        "    except sr.RequestError as e:\n",
        "        print(\"Could not request results from Google Speech Recognition service; {0}\".format(e))\n"
      ]
    },
    {
      "cell_type": "code",
      "execution_count": 4,
      "id": "219d436c",
      "metadata": {},
      "outputs": [],
      "source": [
        "import pyttsx3\n",
        "\n",
        "# Teks yang ingin Anda konversi menjadi suara\n",
        "text = \"Halo, selamat datang! Saya adalah asisten AI.\"\n",
        "\n",
        "# Inisialisasi engine TTS\n",
        "engine = pyttsx3.init()\n",
        "\n",
        "# Set properti suara (opsional)\n",
        "# engine.setProperty('rate', 150)  # Ubah kecepatan bicara\n",
        "# engine.setProperty('volume', 0.9)  # Ubah volume suara\n",
        "\n",
        "# Konversi teks menjadi suara dan putar\n",
        "engine.say(text)\n",
        "engine.runAndWait()\n"
      ]
    },
    {
      "cell_type": "markdown",
      "id": "6844bf6b",
      "metadata": {},
      "source": [
        "## Speech to Text Translate"
      ]
    },
    {
      "cell_type": "code",
      "execution_count": null,
      "id": "b7b0d878",
      "metadata": {},
      "outputs": [],
      "source": [
        "import speech_recognition as sr\n",
        "from googletrans import Translator\n",
        "\n",
        "# Fungsi untuk melakukan speech-to-text menggunakan library speech_recognition\n",
        "def speech_to_text():\n",
        "    recognizer = sr.Recognizer()\n",
        "    with sr.Microphone() as source:\n",
        "        print(\"Silakan mulai berbicara...\")\n",
        "        audio_data = recognizer.listen(source)\n",
        "        try:\n",
        "            text = recognizer.recognize_google(audio_data)\n",
        "            print(\"Text:\", text)\n",
        "            return text\n",
        "        except sr.UnknownValueError:\n",
        "            print(\"Maaf, Speech Recognition tidak bisa memahami audio.\")\n",
        "        except sr.RequestError as e:\n",
        "            print(\"Maaf, tidak ada respon dari Google Speech Recognition service; {0}\".format(e))\n",
        "            return None\n",
        "\n",
        "# Fungsi untuk menerjemahkan teks menggunakan Google Translate\n",
        "def translate_text(text, target_language='en'):\n",
        "    translator = Translator()\n",
        "    translated_text = translator.translate(text, dest=target_language)\n",
        "    print(\"Translated Text:\", translated_text.text)\n",
        "    return translated_text.text\n",
        "\n",
        "# Contoh penggunaan:\n",
        "# Merekam suara dari mikrofon, mentranskripsi teks, dan kemudian menerjemahkan ke bahasa lain\n",
        "input_text = speech_to_text()\n",
        "if input_text:\n",
        "    translated_text = translate_text(input_text, target_language='en')\n"
      ]
    },
    {
      "cell_type": "markdown",
      "id": "b3e9544c",
      "metadata": {},
      "source": [
        "# Program"
      ]
    },
    {
      "cell_type": "code",
      "execution_count": 6,
      "id": "7ebd322d",
      "metadata": {},
      "outputs": [
        {
          "name": "stdout",
          "output_type": "stream",
          "text": [
            "File saved as 'output.mp3'.\n"
          ]
        }
      ],
      "source": [
        "import speech_recognition as sr\n",
        "from gtts import gTTS\n",
        "from googletrans import Translator\n",
        "\n",
        "recognizer = sr.Recognizer()\n",
        "\n",
        "def text_to_speech(text):\n",
        "    tts = gTTS(text=text, lang='en')\n",
        "    audio_file = 'output.mp3'  # Ganti ke MP3 agar dapat digunakan oleh semua platform\n",
        "    tts.save(audio_file)\n",
        "    print(\"File saved as 'output.mp3'.\")\n",
        "\n",
        "def record_audio(timeout=None):\n",
        "    with sr.Microphone() as source:\n",
        "        print(\"Listening...\")\n",
        "        try:\n",
        "            audio = recognizer.listen(source, timeout=timeout)\n",
        "            print(\"Audio recorded successfully.\")\n",
        "            return audio\n",
        "        except sr.WaitTimeoutError:\n",
        "            print(\"Timeout occurred. No speech detected.\")\n",
        "            return None\n",
        "\n",
        "def recognize_speech(audio):\n",
        "    try:\n",
        "        text = recognizer.recognize_google(audio)\n",
        "        print(f\"You said: {text}\")\n",
        "        return text\n",
        "    except sr.UnknownValueError:\n",
        "        print(\"Sorry, I couldn't understand that.\")\n",
        "    except sr.RequestError:\n",
        "        print(\"Sorry, there was an error processing your request.\")\n",
        "    return None\n",
        "\n",
        "def save_to_text_file(text):\n",
        "    if text:\n",
        "        with open(\"recognized_text.txt\", \"w\") as file:\n",
        "            file.write(text)\n",
        "        print(\"Recognized text saved to 'recognized_text.txt'.\")\n",
        "\n",
        "def speech_to_text_and_translate(target_language='en'):\n",
        "    translator = Translator()\n",
        "\n",
        "    with sr.Microphone() as source:\n",
        "        print(\"Please start speaking...\")\n",
        "        audio_data = recognizer.listen(source)\n",
        "\n",
        "    try:\n",
        "        text = recognizer.recognize_google(audio_data)\n",
        "        print(\"Original Text:\", text)\n",
        "        translated_text = translator.translate(text, dest=target_language)\n",
        "        print(\"Translated Text:\", translated_text.text)\n",
        "        return translated_text.text\n",
        "    except sr.UnknownValueError:\n",
        "        print(\"Sorry, Speech Recognition could not understand the audio.\")\n",
        "        return None\n",
        "    except sr.RequestError as e:\n",
        "        print(\"Sorry, there was no response from the Google Speech Recognition service; {0}\".format(e))\n",
        "        return None\n",
        "\n",
        "if __name__ == \"__main__\":\n",
        "    choice = input(\"1=Speech to text, 2=Text to speech, 3=Speech to translate. Choose [1/2/3]: \")\n",
        "    if choice == \"1\":\n",
        "        audio = record_audio(timeout=5)\n",
        "        if audio:\n",
        "            recognized_text = recognize_speech(audio)\n",
        "            save_to_text_file(recognized_text)\n",
        "        print(\"selesai \")\n",
        "    elif choice == \"2\":\n",
        "        text = input(\"Enter text to convert to speech: \")\n",
        "        text_to_speech(text)\n",
        "        print(\"selesai \")\n",
        "    elif choice == \"3\":\n",
        "        target_language = input(\"Enter target language (e.g., 'en' for English): \")\n",
        "        translated_text = speech_to_text_and_translate(target_language=target_language)\n",
        "        print(\"selesai \")\n",
        "    else:\n",
        "        print(\"Invalid choice.\")"
      ]
    }
  ],
  "metadata": {
    "colab": {
      "provenance": []
    },
    "kernelspec": {
      "display_name": "Python 3",
      "language": "python",
      "name": "python3"
    },
    "language_info": {
      "codemirror_mode": {
        "name": "ipython",
        "version": 3
      },
      "file_extension": ".py",
      "mimetype": "text/x-python",
      "name": "python",
      "nbconvert_exporter": "python",
      "pygments_lexer": "ipython3",
      "version": "3.10.7"
    }
  },
  "nbformat": 4,
  "nbformat_minor": 5
}
