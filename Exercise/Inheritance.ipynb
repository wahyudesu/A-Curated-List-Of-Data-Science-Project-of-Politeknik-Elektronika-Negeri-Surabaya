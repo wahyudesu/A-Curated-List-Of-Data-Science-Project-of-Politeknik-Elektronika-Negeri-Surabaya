{
 "cells": [
  {
   "cell_type": "markdown",
   "metadata": {},
   "source": [
    "<h1><center>Praktikum Pemrograman 13</center></h1>\n",
    "<h2><center>Inheritance</center></h2>\n",
    "<h3><center>Dosen Pengampu Tri Hadiah Mulia</center></h3>"
   ]
  },
  {
   "cell_type": "markdown",
   "metadata": {},
   "source": []
  },
  {
   "cell_type": "markdown",
   "metadata": {},
   "source": []
  },
  {
   "cell_type": "markdown",
   "metadata": {},
   "source": []
  },
  {
   "cell_type": "markdown",
   "metadata": {},
   "source": [
    "<img src=\"logo pens.png\" \n",
    "        alt=\"Picture\" \n",
    "        width=\"380\" \n",
    "        height=\"380\" \n",
    "        style=\"display: block; margin: 0 auto\" />"
   ]
  },
  {
   "cell_type": "markdown",
   "metadata": {},
   "source": []
  },
  {
   "cell_type": "markdown",
   "metadata": {},
   "source": []
  },
  {
   "cell_type": "markdown",
   "metadata": {},
   "source": []
  },
  {
   "cell_type": "markdown",
   "metadata": {},
   "source": [
    "<h3><center>Wahyu Ikbal Maulana</center></h3>\n",
    "\n",
    "<h3><center>3323600056</center></h3>\n",
    "\n",
    "<h3><center>D3 SDT B</center></h3>\n",
    "\n",
    "<h1><center>Politeknik Elektronika Negeri Surabaya</center></h1>\n"
   ]
  },
  {
   "cell_type": "markdown",
   "metadata": {},
   "source": [
    "## <b><span style='color:#FA5E3C'>|</span> Latihan 1</b> \n",
    "- Buatlah class Restaurant dengan dua atribut, yakni name dan cuisine_type.\n",
    "- Lengkapi class tersebut dengan method describe_restaurant() yang berfungsi untuk mencetak informasi terkait dua atribut di atas.\n",
    "- Lengkapi pula class tersebut dengan method open_restaurant() yang mencetak pesan ke layar bahwa restoran telah dibuka.\n",
    "- Buatlah 2 obyek dari class Restaurant\n",
    "- Lakukan pemanggilan method describe_restaurant() untuk semua obyek yang sudah dibuat."
   ]
  },
  {
   "cell_type": "code",
   "execution_count": 19,
   "metadata": {},
   "outputs": [
    {
     "name": "stdout",
     "output_type": "stream",
     "text": [
      "Restaurant name: KFC\n",
      "Cuisine type: Ayam goreng\n",
      "Restaurant name: Nasi padang\n",
      "Cuisine type: Payakumbuah\n",
      "The restaurant KFC is now open.\n",
      "The restaurant Nasi padang is now open.\n"
     ]
    }
   ],
   "source": [
    "class Restaurant:\n",
    "    def __init__(self, name, cuisine_type):\n",
    "        self.name = name\n",
    "        self.cuisine_type = cuisine_type\n",
    "    \n",
    "    def describe_restaurant(self):\n",
    "        print(f\"Restaurant name: {self.name}\")\n",
    "        print(f\"Cuisine type: {self.cuisine_type}\")\n",
    "    \n",
    "    def open_restaurant(self):\n",
    "        print(f\"The restaurant {self.name} is now open.\")\n",
    "\n",
    "# Membuat dua objek\n",
    "restaurant1 = Restaurant(\"KFC\", \"Ayam goreng\")\n",
    "restaurant2 = Restaurant(\"Nasi padang\", \"Payakumbuah\")\n",
    "\n",
    "# Pemanggilan method\n",
    "restaurant1.describe_restaurant()\n",
    "restaurant2.describe_restaurant()\n",
    "restaurant1.open_restaurant()\n",
    "restaurant2.open_restaurant()"
   ]
  },
  {
   "cell_type": "markdown",
   "metadata": {},
   "source": [
    "## <b><span style='color:#FA5E3C'>|</span> Latihan 2</b> \n",
    "- Buatlah class IceCreamStall yang merupakan anak dari class  Restaurant.\n",
    "- Lengkapi class tersebut dengan atribut flavors yang berisi daftar rasa es krim yang tersedia.\n",
    "- Lengkapi pula class tersebut dengan method show_flavors() yang bertugas untuk menampilkan ke layar daftar rasa yang tersedia.\n",
    "- Buat obyek dari class IceCreamStall dan Restaurant. Lakukan uji coba untuk mengakses semua method dan atribut yang ada pada kedua class tersebut."
   ]
  },
  {
   "cell_type": "code",
   "execution_count": 20,
   "metadata": {},
   "outputs": [
    {
     "name": "stdout",
     "output_type": "stream",
     "text": [
      "Restaurant name: KFC\n",
      "Cuisine type: Ayam goreng\n",
      "Available Flavors:\n",
      "Vanilla\n",
      "Chocolate\n",
      "Strawberry\n",
      "Restaurant name: KFC\n",
      "Cuisine type: Ayam goreng\n"
     ]
    }
   ],
   "source": [
    "class Restaurant:\n",
    "    def __init__(self, name, cuisine_type):\n",
    "        self.name = name\n",
    "        self.cuisine_type = cuisine_type\n",
    "    \n",
    "    def describe_restaurant(self):\n",
    "        print(f\"Restaurant name: {self.name}\")\n",
    "        print(f\"Cuisine type: {self.cuisine_type}\")\n",
    "    \n",
    "    def open_restaurant(self):\n",
    "        print(f\"The restaurant {self.name} is now open.\")\n",
    "\n",
    "class IceCreamStall(Restaurant):\n",
    "    def __init__(self, name, cuisine_type, flavors):\n",
    "        super().__init__(name, cuisine_type)\n",
    "        self.flavors = flavors\n",
    "        \n",
    "    # Method baru untuk menampilkan daftar rasa yang tersedia\n",
    "    def show_flavors(self):\n",
    "        print(\"Available Flavors:\")\n",
    "        for flavor in self.flavors:\n",
    "            print(flavor)\n",
    "\n",
    "# Buat obyek dan mengakses semua method dan atribut\n",
    "restaurant = Restaurant(\"KFC\", \"Ayam goreng\")\n",
    "ice_cream_stall = IceCreamStall(\"Es krim\", \"Mangkok\", [\"Vanilla\", \"Chocolate\", \"Strawberry\"])\n",
    "\n",
    "# Pemanggilan method\n",
    "restaurant.describe_restaurant()\n",
    "ice_cream_stall.show_flavors()\n",
    "restaurant1.describe_restaurant()"
   ]
  },
  {
   "cell_type": "markdown",
   "metadata": {},
   "source": [
    "## <b><span style='color:#FA5E3C'>|</span> Latihan 3</b> \n",
    "- Modifikasi method describe_restaurant() pada class IceCreamStall agar menampilkan informasi spesifik tentang kios es krim.\n",
    "- Lakukan uji coba ulang untuk mengakses method describe_restaurant() menggunakan obyek dari class Restaurant dan IceCreamStall"
   ]
  },
  {
   "cell_type": "code",
   "execution_count": 21,
   "metadata": {},
   "outputs": [
    {
     "name": "stdout",
     "output_type": "stream",
     "text": [
      "Restaurant name: Es krim\n",
      "Cuisine type: Mangkok\n",
      "Available Flavors:\n",
      "- Vanilla\n",
      "- Chocolate\n",
      "- Strawberry\n"
     ]
    }
   ],
   "source": [
    "class IceCreamStall(Restaurant):\n",
    "    def __init__(self, restaurant_name, cuisine_type):\n",
    "        super().__init__(restaurant_name, cuisine_type)\n",
    "        self.flavors = []\n",
    "    \n",
    "    def add_flavor(self, flavor):\n",
    "        self.flavors.append(flavor)\n",
    "    \n",
    "    def describe_restaurant(self):\n",
    "        super().describe_restaurant()\n",
    "        print(\"Available Flavors:\")\n",
    "        for flavor in self.flavors:\n",
    "            print(\"- \" + flavor)\n",
    "\n",
    "# Buat obyek dan panggil method\n",
    "ice_cream_stall = IceCreamStall(\"Es krim\", \"Mangkok\")\n",
    "ice_cream_stall.add_flavor(\"Vanilla\")\n",
    "ice_cream_stall.add_flavor(\"Chocolate\")\n",
    "ice_cream_stall.add_flavor(\"Strawberry\")\n",
    "ice_cream_stall.describe_restaurant()"
   ]
  },
  {
   "cell_type": "markdown",
   "metadata": {},
   "source": [
    "## <b><span style='color:#FA5E3C'>|</span> Latihan 4</b> \n",
    "- Buatlah class User dengan atribut first_name, last_name, dan atribut lain yang umumnya ada pada profil user.\n",
    "- Lengkapi class tersebut dengan method describe_user() yang berfungsi untuk mencetak informasi terkait user.\n",
    "- Lengkapi pula class tersebut dengan method greet_user() yang mencetak sapaan dengan nama user.\n",
    "- Buatlah 2 obyek dari class User\n",
    "- Lakukan pemanggilan method describe_user() dan greet_user()untuk semua obyek yang sudah dibuat."
   ]
  },
  {
   "cell_type": "code",
   "execution_count": 22,
   "metadata": {},
   "outputs": [
    {
     "name": "stdout",
     "output_type": "stream",
     "text": [
      "User Information:\n",
      "First Name: Wahyu\n",
      "Last Name: Ikbal\n",
      "Age: 18\n",
      "User Information:\n",
      "First Name: Mau\n",
      "Last Name: Lana\n",
      "Age: 20\n"
     ]
    }
   ],
   "source": [
    "class User:\n",
    "    def __init__(self, first_name, last_name, age):\n",
    "        self.first_name = first_name\n",
    "        self.last_name = last_name\n",
    "        self.age = age\n",
    "    \n",
    "    def describe_user(self):\n",
    "        print(f\"User Information:\")\n",
    "        print(f\"First Name: {self.first_name}\")\n",
    "        print(f\"Last Name: {self.last_name}\")\n",
    "        print(f\"Age: {self.age}\")\n",
    "    \n",
    "    def greet_user(self):\n",
    "        print(f\"Hello, {self.first_name} {self.last_name}!\")\n",
    "\n",
    "# Membuat 2 objek dari class User\n",
    "user1 = User(\"Wahyu\", \"Ikbal\", 18)\n",
    "user2 = User(\"Mau\", \"Lana\", 20)\n",
    "\n",
    "# Memanggil method describe_user() dan greet_user() untuk semua objek\n",
    "user1.describe_user()\n",
    "user2.describe_user()"
   ]
  },
  {
   "cell_type": "markdown",
   "metadata": {},
   "source": [
    "## <b><span style='color:#FA5E3C'>|</span> Latihan 5 dan 6</b> \n",
    "- Buatlah class Admin yang menuruni sifat dari class User.\n",
    "- Tambahkan atribut privileges pada class tersebut yang berisi daftar privilege, antara lain: “dapat menambahkan post”, “dapat menghapus post”, “dapat melarang user”.\n",
    "- Tambahkan method show_privileges() untuk menampilkan daftar privileges yang dimiliki oleh admin.\n",
    "- Buat obyek dari class User dan Admin. Lakukan uji coba untuk mengakses semua method dan atribut yang ada pada kedua class tersebut.\n",
    "- Modifikasi method describe_user() pada class Admin yang berfungsi untuk mencetak informasi terkait user, termasuk daftar privilege yang dimiliki oleh objek dari class Admin .\n"
   ]
  },
  {
   "cell_type": "code",
   "execution_count": 24,
   "metadata": {},
   "outputs": [
    {
     "name": "stdout",
     "output_type": "stream",
     "text": [
      "Username: WahyuIkbal\n",
      "Umur: 18\n",
      "Username: MauLana\n",
      "Umur: 19\n",
      "Privileges:\n",
      "- dapat menambahkan post\n",
      "- dapat menghapus post\n",
      "- dapat melarang user\n",
      "Privileges:\n",
      "- dapat menambahkan post\n",
      "- dapat menghapus post\n",
      "- dapat melarang user\n"
     ]
    }
   ],
   "source": [
    "class User:\n",
    "    def __init__(self, first_name, last_name, age):\n",
    "        self.first_name = first_name\n",
    "        self.last_name = last_name\n",
    "        self.age = age\n",
    "\n",
    "    def display_user_info(self):\n",
    "        print(f\"Username: {self.first_name + self.last_name}\")\n",
    "        print(f\"Umur: {self.age}\")\n",
    "\n",
    "class Admin(User):\n",
    "    def __init__(self, first_name, last_name, age):\n",
    "        super().__init__(first_name, last_name, age)\n",
    "        self.privileges = [\"dapat menambahkan post\", \"dapat menghapus post\", \"dapat melarang user\"]\n",
    "\n",
    "    def show_privileges(self):\n",
    "        print(\"Privileges:\")\n",
    "        for privilege in self.privileges:\n",
    "            print(f\"- {privilege}\")\n",
    "            \n",
    "    # Modif display user pada class admin\n",
    "    def display_user(self):\n",
    "        super().display_user_info()\n",
    "        self.show_privileges()\n",
    "\n",
    "user1 = User(\"Wahyu\", \"Ikbal\", 18)\n",
    "user2 = Admin(\"Mau\", \"Lana\", 19)\n",
    "\n",
    "user1.display_user_info()\n",
    "# Mencetak informasi admin dan privileges\n",
    "user2.display_user()\n",
    "user2.show_privileges()\n"
   ]
  }
 ],
 "metadata": {
  "kernelspec": {
   "display_name": "Python 3",
   "language": "python",
   "name": "python3"
  },
  "language_info": {
   "codemirror_mode": {
    "name": "ipython",
    "version": 3
   },
   "file_extension": ".py",
   "mimetype": "text/x-python",
   "name": "python",
   "nbconvert_exporter": "python",
   "pygments_lexer": "ipython3",
   "version": "3.10.7"
  }
 },
 "nbformat": 4,
 "nbformat_minor": 2
}
