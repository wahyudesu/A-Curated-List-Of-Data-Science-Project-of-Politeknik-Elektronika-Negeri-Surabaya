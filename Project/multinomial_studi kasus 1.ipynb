{
  "cells": [
    {
      "cell_type": "markdown",
      "id": "TPHpozd-o-z1",
      "metadata": {
        "id": "TPHpozd-o-z1"
      },
      "source": [
        "  ‎\n",
        "<h1><center>Praktikum Pemodelan Statistika terapan</center></h1>\n",
        "<h2><center>Dosen Pengampu Ronny Sutsetyoko\t</center></h2>\n",
        "  ‎\n",
        "  ‎\n",
        "  ‎\n",
        "  ‎"
      ]
    },
    {
      "cell_type": "markdown",
      "id": "b14843c5",
      "metadata": {},
      "source": [
        "#"
      ]
    },
    {
      "cell_type": "markdown",
      "id": "3001cc80",
      "metadata": {},
      "source": [
        "<img src=\"logo pens.png\" \n",
        "        alt=\"Picture\" \n",
        "        width=\"380\" \n",
        "        height=\"380\" \n",
        "        style=\"display: block; margin: 0 auto\" />"
      ]
    },
    {
      "cell_type": "markdown",
      "id": "09b62cfb",
      "metadata": {},
      "source": [
        "#"
      ]
    },
    {
      "cell_type": "markdown",
      "id": "50301ba9",
      "metadata": {},
      "source": [
        "#"
      ]
    },
    {
      "cell_type": "markdown",
      "id": "465d6440",
      "metadata": {},
      "source": [
        "#"
      ]
    },
    {
      "cell_type": "markdown",
      "id": "7887b656",
      "metadata": {},
      "source": [
        "#"
      ]
    },
    {
      "cell_type": "markdown",
      "id": "oc8Pzy5CpE76",
      "metadata": {
        "id": "oc8Pzy5CpE76"
      },
      "source": [
        "<h4><center>Wahyu Ikbal Maulana</center></h4>\n",
        "\n",
        "<h4><center>3323600056</center></h4>\n",
        "\n",
        "<h4><center>D4 SDT B</center></h4>\n",
        "\n",
        "<h2><center>Politeknik Elektronika Negeri Surabaya</center></h2>\n",
        "  ‎ \n"
      ]
    },
    {
      "cell_type": "markdown",
      "id": "196f473c",
      "metadata": {},
      "source": []
    },
    {
      "cell_type": "markdown",
      "id": "74a7c7d8",
      "metadata": {},
      "source": []
    },
    {
      "cell_type": "markdown",
      "id": "085e2d88",
      "metadata": {},
      "source": []
    },
    {
      "cell_type": "markdown",
      "id": "f0e8af47",
      "metadata": {},
      "source": [
        "## Percobaan ke-1: Studi Kasus 1"
      ]
    },
    {
      "cell_type": "code",
      "execution_count": 1,
      "id": "65c2e063",
      "metadata": {},
      "outputs": [
        {
          "ename": "NameError",
          "evalue": "name 'library' is not defined",
          "output_type": "error",
          "traceback": [
            "\u001b[1;31m---------------------------------------------------------------------------\u001b[0m",
            "\u001b[1;31mNameError\u001b[0m                                 Traceback (most recent call last)",
            "Cell \u001b[1;32mIn [1], line 1\u001b[0m\n\u001b[1;32m----> 1\u001b[0m \u001b[43mlibrary\u001b[49m(readr)\n\u001b[0;32m      2\u001b[0m tissue \u001b[38;5;241m<\u001b[39m\u001b[38;5;241m-\u001b[39m read_csv(\u001b[38;5;124m\"\u001b[39m\u001b[38;5;124mbreast_tissue.csv\u001b[39m\u001b[38;5;124m\"\u001b[39m) \u001b[38;5;66;03m# Checking the structure of adult data\u001b[39;00m\n\u001b[0;32m      3\u001b[0m \u001b[38;5;28mstr\u001b[39m(tissue)\n",
            "\u001b[1;31mNameError\u001b[0m: name 'library' is not defined"
          ]
        }
      ],
      "source": [
        "library(readr)\n",
        "tissue <- read_csv(\"breast_tissue.csv\") # Checking the structure of adult data\n",
        "str(tissue)"
      ]
    },
    {
      "cell_type": "code",
      "execution_count": 12,
      "id": "33400b7f",
      "metadata": {},
      "outputs": [
        {
          "data": {
            "text/html": [
              "<style>\n",
              ".list-inline {list-style: none; margin:0; padding: 0}\n",
              ".list-inline>li {display: inline-block}\n",
              ".list-inline>li:not(:last-child)::after {content: \"\\00b7\"; padding: 0 .5ex}\n",
              "</style>\n",
              "<ol class=list-inline><li>'adi'</li><li>'car'</li><li>'con'</li><li>'other'</li></ol>\n"
            ],
            "text/latex": [
              "\\begin{enumerate*}\n",
              "\\item 'adi'\n",
              "\\item 'car'\n",
              "\\item 'con'\n",
              "\\item 'other'\n",
              "\\end{enumerate*}\n"
            ],
            "text/markdown": [
              "1. 'adi'\n",
              "2. 'car'\n",
              "3. 'con'\n",
              "4. 'other'\n",
              "\n",
              "\n"
            ],
            "text/plain": [
              "[1] \"adi\"   \"car\"   \"con\"   \"other\""
            ]
          },
          "metadata": {},
          "output_type": "display_data"
        }
      ],
      "source": [
        "tissue <- tissue[, -1]\n",
        "tissue$Class <- as.factor(tissue$Class)\n",
        "levels(tissue$Class)[levels(tissue$Class)   %in%   c(\"fad\",   \"gla\", \"mas\")] <- \"other\"\n",
        "levels(tissue$Class)"
      ]
    },
    {
      "cell_type": "markdown",
      "id": "3966a2ef",
      "metadata": {},
      "source": [
        "<div style=\"border-radius: 10px; border: #0ea5e9 solid; padding: 15px; background-color: #ffffff00; font-size: 100%; text-align: left;\">\n",
        "    <b>🖊️ Analisis :</b> Dari dataset BreastTissue, kemudian direduksi kelas dimana fibro-adenoma, mastopati, dan glandular dijadikan satu kelas diberi nama ‘others’.\n",
        "</div>"
      ]
    },
    {
      "cell_type": "code",
      "execution_count": 13,
      "id": "a141548b",
      "metadata": {},
      "outputs": [],
      "source": [
        "#Splitting the data using a function from dplyr package\n",
        "library(caret)\n",
        "library(ggplot2)\n",
        "index <- createDataPartition(tissue$Class, p = .70, list = FALSE)\n",
        "train <- tissue[index,]\n",
        "test <- tissue[-index,]"
      ]
    },
    {
      "cell_type": "code",
      "execution_count": 14,
      "id": "37d08292",
      "metadata": {},
      "outputs": [],
      "source": [
        "# Setting the reference\n",
        "train$Class <- relevel(train$Class, ref = \"adi\")"
      ]
    },
    {
      "cell_type": "code",
      "execution_count": 21,
      "id": "00f936ed",
      "metadata": {},
      "outputs": [
        {
          "name": "stdout",
          "output_type": "stream",
          "text": [
            "# weights:  44 (30 variable)\n",
            "initial  value 146.947202 \n",
            "iter  10 value 107.785951\n",
            "iter  20 value 71.796827\n",
            "iter  30 value 17.709626\n",
            "iter  40 value 11.374947\n",
            "iter  50 value 6.775080\n",
            "iter  60 value 5.795296\n",
            "iter  70 value 5.581882\n",
            "iter  80 value 4.879180\n",
            "iter  90 value 4.199680\n",
            "iter 100 value 4.160692\n",
            "final  value 4.160692 \n",
            "stopped after 100 iterations\n"
          ]
        },
        {
          "data": {
            "text/plain": [
              "Call:\n",
              "multinom(formula = Class ~ ., data = tissue)\n",
              "\n",
              "Coefficients:\n",
              "      (Intercept)          I0      PA500        HFS         DA         Area\n",
              "car      86.45689 -0.92420610  35.426343 -28.995689 -2.7614791 -0.009627356\n",
              "con      65.29309 -0.02131995   3.507425   5.180119  0.3799671 -0.006557466\n",
              "other    94.35136 -0.44817721 -10.573482  45.314817 -0.2506004 -0.011107358\n",
              "          `A/DA`  `Max IP`         DR           P\n",
              "car   -0.6522402 2.3039134  3.0645844  0.67990594\n",
              "con    1.3401948 0.2354590 -0.1683327 -0.07552706\n",
              "other  1.5460282 0.1120201  0.6247094  0.29486854\n",
              "\n",
              "Std. Errors:\n",
              "      (Intercept)        I0        PA500         HFS        DA        Area\n",
              "car    0.03476847 0.1066177 0.0177918233 0.037347078 0.6130240 0.029524661\n",
              "con    0.00246189 0.5774913 0.0003169089 0.002276567 0.3423545 0.005154037\n",
              "other  0.03434195 0.1013918 0.0176815177 0.037334873 0.6274376 0.029559302\n",
              "         `A/DA`  `Max IP`        DR         P\n",
              "car   0.5424341 0.4562191 0.5804292 0.1709975\n",
              "con   0.2034479 0.6789553 0.2860865 0.4041700\n",
              "other 0.5335004 0.4787424 0.5696903 0.1633894\n",
              "\n",
              "Residual Deviance: 8.321383 \n",
              "AIC: 68.32138 "
            ]
          },
          "metadata": {},
          "output_type": "display_data"
        }
      ],
      "source": [
        "library(nnet)\n",
        "# Training the multinomial model\n",
        "multinom_model <- multinom(Class ~ ., data = tissue)\n",
        "# Checking the model\n",
        "summary(multinom_model)"
      ]
    },
    {
      "cell_type": "markdown",
      "id": "5d246266",
      "metadata": {},
      "source": [
        "<div style=\"border-radius: 10px; border: #0ea5e9 solid; padding: 15px; background-color: #ffffff00; font-size: 100%; text-align: left;\">\n",
        "    <b>🖊️ Analisis :</b> Dalam regresi logistik multinomial memakai library nnet, menghasilkan model training yang mengiterasi optimisasi train model. Optimisasi tersebut bertujual untuk meminimalkan fungsi objektivitas untuk menemukan model parameter yang optimal. Optimisasi terhenti setelah mencapai kriteria convergence, saat dimana improvisasi objek sudah kecil dan maksimum iterasi tercapai. Nilai AIC yang cenderung rendah menunjukkan bahwa model memiliki kualitas yang baik.\n",
        "</div>"
      ]
    },
    {
      "cell_type": "code",
      "execution_count": 16,
      "id": "7f286c3d",
      "metadata": {},
      "outputs": [
        {
          "data": {
            "text/html": [
              "<table class=\"dataframe\">\n",
              "<caption>A matrix: 3 × 10 of type dbl</caption>\n",
              "<thead>\n",
              "\t<tr><th></th><th scope=col>(Intercept)</th><th scope=col>I0</th><th scope=col>PA500</th><th scope=col>HFS</th><th scope=col>DA</th><th scope=col>Area</th><th scope=col>`A/DA`</th><th scope=col>`Max IP`</th><th scope=col>DR</th><th scope=col>P</th></tr>\n",
              "</thead>\n",
              "<tbody>\n",
              "\t<tr><th scope=row>car</th><td>3.529816e+37</td><td>0.3968464</td><td>2.429210e+15</td><td>2.554656e-13</td><td>0.06319822</td><td>0.9904188</td><td>0.5208776</td><td>10.013292</td><td>21.4255565</td><td>1.9736921</td></tr>\n",
              "\t<tr><th scope=row>con</th><td>2.272107e+28</td><td>0.9789057</td><td>3.336224e+01</td><td>1.777040e+02</td><td>1.46223641</td><td>0.9934640</td><td>3.8197877</td><td> 1.265489</td><td> 0.8450727</td><td>0.9272546</td></tr>\n",
              "\t<tr><th scope=row>other</th><td>9.468380e+40</td><td>0.6387915</td><td>2.558557e-05</td><td>4.786024e+19</td><td>0.77833332</td><td>0.9889541</td><td>4.6927944</td><td> 1.118535</td><td> 1.8677032</td><td>1.3429498</td></tr>\n",
              "</tbody>\n",
              "</table>\n"
            ],
            "text/latex": [
              "A matrix: 3 × 10 of type dbl\n",
              "\\begin{tabular}{r|llllllllll}\n",
              "  & (Intercept) & I0 & PA500 & HFS & DA & Area & `A/DA` & `Max IP` & DR & P\\\\\n",
              "\\hline\n",
              "\tcar & 3.529816e+37 & 0.3968464 & 2.429210e+15 & 2.554656e-13 & 0.06319822 & 0.9904188 & 0.5208776 & 10.013292 & 21.4255565 & 1.9736921\\\\\n",
              "\tcon & 2.272107e+28 & 0.9789057 & 3.336224e+01 & 1.777040e+02 & 1.46223641 & 0.9934640 & 3.8197877 &  1.265489 &  0.8450727 & 0.9272546\\\\\n",
              "\tother & 9.468380e+40 & 0.6387915 & 2.558557e-05 & 4.786024e+19 & 0.77833332 & 0.9889541 & 4.6927944 &  1.118535 &  1.8677032 & 1.3429498\\\\\n",
              "\\end{tabular}\n"
            ],
            "text/markdown": [
              "\n",
              "A matrix: 3 × 10 of type dbl\n",
              "\n",
              "| <!--/--> | (Intercept) | I0 | PA500 | HFS | DA | Area | `A/DA` | `Max IP` | DR | P |\n",
              "|---|---|---|---|---|---|---|---|---|---|---|\n",
              "| car | 3.529816e+37 | 0.3968464 | 2.429210e+15 | 2.554656e-13 | 0.06319822 | 0.9904188 | 0.5208776 | 10.013292 | 21.4255565 | 1.9736921 |\n",
              "| con | 2.272107e+28 | 0.9789057 | 3.336224e+01 | 1.777040e+02 | 1.46223641 | 0.9934640 | 3.8197877 |  1.265489 |  0.8450727 | 0.9272546 |\n",
              "| other | 9.468380e+40 | 0.6387915 | 2.558557e-05 | 4.786024e+19 | 0.77833332 | 0.9889541 | 4.6927944 |  1.118535 |  1.8677032 | 1.3429498 |\n",
              "\n"
            ],
            "text/plain": [
              "      (Intercept)  I0        PA500        HFS          DA         Area     \n",
              "car   3.529816e+37 0.3968464 2.429210e+15 2.554656e-13 0.06319822 0.9904188\n",
              "con   2.272107e+28 0.9789057 3.336224e+01 1.777040e+02 1.46223641 0.9934640\n",
              "other 9.468380e+40 0.6387915 2.558557e-05 4.786024e+19 0.77833332 0.9889541\n",
              "      `A/DA`    `Max IP`  DR         P        \n",
              "car   0.5208776 10.013292 21.4255565 1.9736921\n",
              "con   3.8197877  1.265489  0.8450727 0.9272546\n",
              "other 4.6927944  1.118535  1.8677032 1.3429498"
            ]
          },
          "metadata": {},
          "output_type": "display_data"
        }
      ],
      "source": [
        "exp(coef(multinom_model))"
      ]
    },
    {
      "cell_type": "code",
      "execution_count": 17,
      "id": "76efc451",
      "metadata": {},
      "outputs": [
        {
          "data": {
            "text/html": [
              "<table class=\"dataframe\">\n",
              "<caption>A matrix: 20 × 4 of type dbl</caption>\n",
              "<thead>\n",
              "\t<tr><th></th><th scope=col>adi</th><th scope=col>car</th><th scope=col>con</th><th scope=col>other</th></tr>\n",
              "</thead>\n",
              "<tbody>\n",
              "\t<tr><th scope=row>1</th><td>0</td><td>0.97</td><td>0</td><td>0.03</td></tr>\n",
              "\t<tr><th scope=row>2</th><td>0</td><td>1.00</td><td>0</td><td>0.00</td></tr>\n",
              "\t<tr><th scope=row>3</th><td>0</td><td>1.00</td><td>0</td><td>0.00</td></tr>\n",
              "\t<tr><th scope=row>4</th><td>0</td><td>1.00</td><td>0</td><td>0.00</td></tr>\n",
              "\t<tr><th scope=row>5</th><td>0</td><td>1.00</td><td>0</td><td>0.00</td></tr>\n",
              "\t<tr><th scope=row>6</th><td>0</td><td>0.96</td><td>0</td><td>0.04</td></tr>\n",
              "\t<tr><th scope=row>7</th><td>0</td><td>0.77</td><td>0</td><td>0.23</td></tr>\n",
              "\t<tr><th scope=row>8</th><td>0</td><td>0.53</td><td>0</td><td>0.47</td></tr>\n",
              "\t<tr><th scope=row>9</th><td>0</td><td>1.00</td><td>0</td><td>0.00</td></tr>\n",
              "\t<tr><th scope=row>10</th><td>0</td><td>1.00</td><td>0</td><td>0.00</td></tr>\n",
              "\t<tr><th scope=row>11</th><td>0</td><td>1.00</td><td>0</td><td>0.00</td></tr>\n",
              "\t<tr><th scope=row>12</th><td>0</td><td>1.00</td><td>0</td><td>0.00</td></tr>\n",
              "\t<tr><th scope=row>13</th><td>0</td><td>0.91</td><td>0</td><td>0.09</td></tr>\n",
              "\t<tr><th scope=row>14</th><td>0</td><td>1.00</td><td>0</td><td>0.00</td></tr>\n",
              "\t<tr><th scope=row>15</th><td>0</td><td>1.00</td><td>0</td><td>0.00</td></tr>\n",
              "\t<tr><th scope=row>16</th><td>0</td><td>1.00</td><td>0</td><td>0.00</td></tr>\n",
              "\t<tr><th scope=row>17</th><td>0</td><td>1.00</td><td>0</td><td>0.00</td></tr>\n",
              "\t<tr><th scope=row>18</th><td>0</td><td>0.55</td><td>0</td><td>0.45</td></tr>\n",
              "\t<tr><th scope=row>19</th><td>0</td><td>1.00</td><td>0</td><td>0.00</td></tr>\n",
              "\t<tr><th scope=row>20</th><td>0</td><td>0.96</td><td>0</td><td>0.04</td></tr>\n",
              "</tbody>\n",
              "</table>\n"
            ],
            "text/latex": [
              "A matrix: 20 × 4 of type dbl\n",
              "\\begin{tabular}{r|llll}\n",
              "  & adi & car & con & other\\\\\n",
              "\\hline\n",
              "\t1 & 0 & 0.97 & 0 & 0.03\\\\\n",
              "\t2 & 0 & 1.00 & 0 & 0.00\\\\\n",
              "\t3 & 0 & 1.00 & 0 & 0.00\\\\\n",
              "\t4 & 0 & 1.00 & 0 & 0.00\\\\\n",
              "\t5 & 0 & 1.00 & 0 & 0.00\\\\\n",
              "\t6 & 0 & 0.96 & 0 & 0.04\\\\\n",
              "\t7 & 0 & 0.77 & 0 & 0.23\\\\\n",
              "\t8 & 0 & 0.53 & 0 & 0.47\\\\\n",
              "\t9 & 0 & 1.00 & 0 & 0.00\\\\\n",
              "\t10 & 0 & 1.00 & 0 & 0.00\\\\\n",
              "\t11 & 0 & 1.00 & 0 & 0.00\\\\\n",
              "\t12 & 0 & 1.00 & 0 & 0.00\\\\\n",
              "\t13 & 0 & 0.91 & 0 & 0.09\\\\\n",
              "\t14 & 0 & 1.00 & 0 & 0.00\\\\\n",
              "\t15 & 0 & 1.00 & 0 & 0.00\\\\\n",
              "\t16 & 0 & 1.00 & 0 & 0.00\\\\\n",
              "\t17 & 0 & 1.00 & 0 & 0.00\\\\\n",
              "\t18 & 0 & 0.55 & 0 & 0.45\\\\\n",
              "\t19 & 0 & 1.00 & 0 & 0.00\\\\\n",
              "\t20 & 0 & 0.96 & 0 & 0.04\\\\\n",
              "\\end{tabular}\n"
            ],
            "text/markdown": [
              "\n",
              "A matrix: 20 × 4 of type dbl\n",
              "\n",
              "| <!--/--> | adi | car | con | other |\n",
              "|---|---|---|---|---|\n",
              "| 1 | 0 | 0.97 | 0 | 0.03 |\n",
              "| 2 | 0 | 1.00 | 0 | 0.00 |\n",
              "| 3 | 0 | 1.00 | 0 | 0.00 |\n",
              "| 4 | 0 | 1.00 | 0 | 0.00 |\n",
              "| 5 | 0 | 1.00 | 0 | 0.00 |\n",
              "| 6 | 0 | 0.96 | 0 | 0.04 |\n",
              "| 7 | 0 | 0.77 | 0 | 0.23 |\n",
              "| 8 | 0 | 0.53 | 0 | 0.47 |\n",
              "| 9 | 0 | 1.00 | 0 | 0.00 |\n",
              "| 10 | 0 | 1.00 | 0 | 0.00 |\n",
              "| 11 | 0 | 1.00 | 0 | 0.00 |\n",
              "| 12 | 0 | 1.00 | 0 | 0.00 |\n",
              "| 13 | 0 | 0.91 | 0 | 0.09 |\n",
              "| 14 | 0 | 1.00 | 0 | 0.00 |\n",
              "| 15 | 0 | 1.00 | 0 | 0.00 |\n",
              "| 16 | 0 | 1.00 | 0 | 0.00 |\n",
              "| 17 | 0 | 1.00 | 0 | 0.00 |\n",
              "| 18 | 0 | 0.55 | 0 | 0.45 |\n",
              "| 19 | 0 | 1.00 | 0 | 0.00 |\n",
              "| 20 | 0 | 0.96 | 0 | 0.04 |\n",
              "\n"
            ],
            "text/plain": [
              "   adi car  con other\n",
              "1  0   0.97 0   0.03 \n",
              "2  0   1.00 0   0.00 \n",
              "3  0   1.00 0   0.00 \n",
              "4  0   1.00 0   0.00 \n",
              "5  0   1.00 0   0.00 \n",
              "6  0   0.96 0   0.04 \n",
              "7  0   0.77 0   0.23 \n",
              "8  0   0.53 0   0.47 \n",
              "9  0   1.00 0   0.00 \n",
              "10 0   1.00 0   0.00 \n",
              "11 0   1.00 0   0.00 \n",
              "12 0   1.00 0   0.00 \n",
              "13 0   0.91 0   0.09 \n",
              "14 0   1.00 0   0.00 \n",
              "15 0   1.00 0   0.00 \n",
              "16 0   1.00 0   0.00 \n",
              "17 0   1.00 0   0.00 \n",
              "18 0   0.55 0   0.45 \n",
              "19 0   1.00 0   0.00 \n",
              "20 0   0.96 0   0.04 "
            ]
          },
          "metadata": {},
          "output_type": "display_data"
        }
      ],
      "source": [
        "head(round(fitted(multinom_model), 2),20)"
      ]
    },
    {
      "cell_type": "code",
      "execution_count": 18,
      "id": "a9154139",
      "metadata": {},
      "outputs": [
        {
          "data": {
            "text/html": [
              "<table class=\"dataframe\">\n",
              "<caption>A matrix: 20 × 4 of type dbl</caption>\n",
              "<thead>\n",
              "\t<tr><th></th><th scope=col>adi</th><th scope=col>car</th><th scope=col>con</th><th scope=col>other</th></tr>\n",
              "</thead>\n",
              "<tbody>\n",
              "\t<tr><th scope=row>87</th><td>1</td><td>0</td><td>0</td><td>0</td></tr>\n",
              "\t<tr><th scope=row>88</th><td>1</td><td>0</td><td>0</td><td>0</td></tr>\n",
              "\t<tr><th scope=row>89</th><td>1</td><td>0</td><td>0</td><td>0</td></tr>\n",
              "\t<tr><th scope=row>90</th><td>1</td><td>0</td><td>0</td><td>0</td></tr>\n",
              "\t<tr><th scope=row>91</th><td>1</td><td>0</td><td>0</td><td>0</td></tr>\n",
              "\t<tr><th scope=row>92</th><td>1</td><td>0</td><td>0</td><td>0</td></tr>\n",
              "\t<tr><th scope=row>93</th><td>1</td><td>0</td><td>0</td><td>0</td></tr>\n",
              "\t<tr><th scope=row>94</th><td>1</td><td>0</td><td>0</td><td>0</td></tr>\n",
              "\t<tr><th scope=row>95</th><td>1</td><td>0</td><td>0</td><td>0</td></tr>\n",
              "\t<tr><th scope=row>96</th><td>1</td><td>0</td><td>0</td><td>0</td></tr>\n",
              "\t<tr><th scope=row>97</th><td>1</td><td>0</td><td>0</td><td>0</td></tr>\n",
              "\t<tr><th scope=row>98</th><td>1</td><td>0</td><td>0</td><td>0</td></tr>\n",
              "\t<tr><th scope=row>99</th><td>1</td><td>0</td><td>0</td><td>0</td></tr>\n",
              "\t<tr><th scope=row>100</th><td>1</td><td>0</td><td>0</td><td>0</td></tr>\n",
              "\t<tr><th scope=row>101</th><td>1</td><td>0</td><td>0</td><td>0</td></tr>\n",
              "\t<tr><th scope=row>102</th><td>1</td><td>0</td><td>0</td><td>0</td></tr>\n",
              "\t<tr><th scope=row>103</th><td>1</td><td>0</td><td>0</td><td>0</td></tr>\n",
              "\t<tr><th scope=row>104</th><td>1</td><td>0</td><td>0</td><td>0</td></tr>\n",
              "\t<tr><th scope=row>105</th><td>1</td><td>0</td><td>0</td><td>0</td></tr>\n",
              "\t<tr><th scope=row>106</th><td>1</td><td>0</td><td>0</td><td>0</td></tr>\n",
              "</tbody>\n",
              "</table>\n"
            ],
            "text/latex": [
              "A matrix: 20 × 4 of type dbl\n",
              "\\begin{tabular}{r|llll}\n",
              "  & adi & car & con & other\\\\\n",
              "\\hline\n",
              "\t87 & 1 & 0 & 0 & 0\\\\\n",
              "\t88 & 1 & 0 & 0 & 0\\\\\n",
              "\t89 & 1 & 0 & 0 & 0\\\\\n",
              "\t90 & 1 & 0 & 0 & 0\\\\\n",
              "\t91 & 1 & 0 & 0 & 0\\\\\n",
              "\t92 & 1 & 0 & 0 & 0\\\\\n",
              "\t93 & 1 & 0 & 0 & 0\\\\\n",
              "\t94 & 1 & 0 & 0 & 0\\\\\n",
              "\t95 & 1 & 0 & 0 & 0\\\\\n",
              "\t96 & 1 & 0 & 0 & 0\\\\\n",
              "\t97 & 1 & 0 & 0 & 0\\\\\n",
              "\t98 & 1 & 0 & 0 & 0\\\\\n",
              "\t99 & 1 & 0 & 0 & 0\\\\\n",
              "\t100 & 1 & 0 & 0 & 0\\\\\n",
              "\t101 & 1 & 0 & 0 & 0\\\\\n",
              "\t102 & 1 & 0 & 0 & 0\\\\\n",
              "\t103 & 1 & 0 & 0 & 0\\\\\n",
              "\t104 & 1 & 0 & 0 & 0\\\\\n",
              "\t105 & 1 & 0 & 0 & 0\\\\\n",
              "\t106 & 1 & 0 & 0 & 0\\\\\n",
              "\\end{tabular}\n"
            ],
            "text/markdown": [
              "\n",
              "A matrix: 20 × 4 of type dbl\n",
              "\n",
              "| <!--/--> | adi | car | con | other |\n",
              "|---|---|---|---|---|\n",
              "| 87 | 1 | 0 | 0 | 0 |\n",
              "| 88 | 1 | 0 | 0 | 0 |\n",
              "| 89 | 1 | 0 | 0 | 0 |\n",
              "| 90 | 1 | 0 | 0 | 0 |\n",
              "| 91 | 1 | 0 | 0 | 0 |\n",
              "| 92 | 1 | 0 | 0 | 0 |\n",
              "| 93 | 1 | 0 | 0 | 0 |\n",
              "| 94 | 1 | 0 | 0 | 0 |\n",
              "| 95 | 1 | 0 | 0 | 0 |\n",
              "| 96 | 1 | 0 | 0 | 0 |\n",
              "| 97 | 1 | 0 | 0 | 0 |\n",
              "| 98 | 1 | 0 | 0 | 0 |\n",
              "| 99 | 1 | 0 | 0 | 0 |\n",
              "| 100 | 1 | 0 | 0 | 0 |\n",
              "| 101 | 1 | 0 | 0 | 0 |\n",
              "| 102 | 1 | 0 | 0 | 0 |\n",
              "| 103 | 1 | 0 | 0 | 0 |\n",
              "| 104 | 1 | 0 | 0 | 0 |\n",
              "| 105 | 1 | 0 | 0 | 0 |\n",
              "| 106 | 1 | 0 | 0 | 0 |\n",
              "\n"
            ],
            "text/plain": [
              "    adi car con other\n",
              "87  1   0   0   0    \n",
              "88  1   0   0   0    \n",
              "89  1   0   0   0    \n",
              "90  1   0   0   0    \n",
              "91  1   0   0   0    \n",
              "92  1   0   0   0    \n",
              "93  1   0   0   0    \n",
              "94  1   0   0   0    \n",
              "95  1   0   0   0    \n",
              "96  1   0   0   0    \n",
              "97  1   0   0   0    \n",
              "98  1   0   0   0    \n",
              "99  1   0   0   0    \n",
              "100 1   0   0   0    \n",
              "101 1   0   0   0    \n",
              "102 1   0   0   0    \n",
              "103 1   0   0   0    \n",
              "104 1   0   0   0    \n",
              "105 1   0   0   0    \n",
              "106 1   0   0   0    "
            ]
          },
          "metadata": {},
          "output_type": "display_data"
        }
      ],
      "source": [
        "tail(round(fitted(multinom_model), 2),20)"
      ]
    },
    {
      "cell_type": "markdown",
      "id": "b67fd9b5",
      "metadata": {},
      "source": [
        "<div style=\"border-radius: 10px; border: #0ea5e9 solid; padding: 15px; background-color: #ffffff00; font-size: 100%; text-align: left;\">\n",
        "    <b>🖊️ Analisis :</b> Regresi multinomial memprediksi probabilitas pengamatan tertentu untuk menjadi bagian dari kelas tertentu. Kolom mewakili tingkat klasifikasi dan baris mewakili pengamatan. 20 baris pertama terklasifikasi sebagai carsinoma dan 20 baris terakhir tergolong sebagai adipose\n",
        "</div>"
      ]
    },
    {
      "cell_type": "code",
      "execution_count": 19,
      "id": "35c17946",
      "metadata": {},
      "outputs": [
        {
          "data": {
            "text/html": [
              "98.68"
            ],
            "text/latex": [
              "98.68"
            ],
            "text/markdown": [
              "98.68"
            ],
            "text/plain": [
              "[1] 98.68"
            ]
          },
          "metadata": {},
          "output_type": "display_data"
        }
      ],
      "source": [
        "# Predicting the values for train dataset\n",
        "train$ClassPredicted <- predict(multinom_model, newdata = train, \"class\")\n",
        "# Building classification table\n",
        "tab <- table(train$Class, train$ClassPredicted)\n",
        "# Calculating accuracy - sum of diagonal elements divided by total obs\n",
        "round((sum(diag(tab))/sum(tab))*100,2)"
      ]
    },
    {
      "cell_type": "code",
      "execution_count": 20,
      "id": "07179de4",
      "metadata": {},
      "outputs": [
        {
          "data": {
            "text/plain": [
              "       \n",
              "        adi car con other\n",
              "  adi     6   0   0     0\n",
              "  car     0   6   0     0\n",
              "  con     0   0   4     0\n",
              "  other   0   0   0    14"
            ]
          },
          "metadata": {},
          "output_type": "display_data"
        }
      ],
      "source": [
        "# Predicting the class for test dataset\n",
        "test$ClassPredicted  <-  predict(multinom_model,  newdata  =  test, \"class\")\n",
        "# Building classification table\n",
        "tab <- table(test$Class, test$ClassPredicted)\n",
        "tab"
      ]
    },
    {
      "cell_type": "markdown",
      "id": "30979cbe",
      "metadata": {},
      "source": [
        "<div style=\"border-radius: 10px; border: #0ea5e9 solid; padding: 15px; background-color: #ffffff00; font-size: 100%; text-align: left;\">\n",
        "    <b>🖊️ Analisis :</b> Didapat untuk akurasi skor dari tiap tiap konfigurasi dan semua plot yang. Didapat bahwa akurasinya sangat tinggi yaitu 98.68%. Disimpulkan bahwa model bagus dan stabil.\n",
        "</div>"
      ]
    }
  ],
  "metadata": {
    "colab": {
      "provenance": []
    },
    "kernelspec": {
      "display_name": "Python 3",
      "language": "python",
      "name": "python3"
    },
    "language_info": {
      "codemirror_mode": {
        "name": "ipython",
        "version": 3
      },
      "file_extension": ".py",
      "mimetype": "text/x-python",
      "name": "python",
      "nbconvert_exporter": "python",
      "pygments_lexer": "ipython3",
      "version": "3.10.7"
    }
  },
  "nbformat": 4,
  "nbformat_minor": 5
}
