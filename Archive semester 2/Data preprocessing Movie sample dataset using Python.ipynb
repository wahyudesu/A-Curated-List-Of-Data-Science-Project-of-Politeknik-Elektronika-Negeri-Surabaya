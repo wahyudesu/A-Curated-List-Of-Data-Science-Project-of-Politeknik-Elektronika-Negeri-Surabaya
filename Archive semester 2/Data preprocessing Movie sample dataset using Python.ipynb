{
 "cells": [
  {
   "cell_type": "markdown",
   "metadata": {},
   "source": [
    "# Data preprocessing Movie_sample_dataset using Python"
   ]
  },
  {
   "cell_type": "markdown",
   "metadata": {},
   "source": [
    "## mengimport library"
   ]
  },
  {
   "cell_type": "markdown",
   "metadata": {},
   "source": [
    "disini kita mengimport beberapa library yang dibutuhkan untuk melakukan preprocessing data"
   ]
  },
  {
   "cell_type": "code",
   "execution_count": 1,
   "metadata": {},
   "outputs": [],
   "source": [
    "import pandas as pd\n",
    "import numpy as np\n",
    "import matplotlib.pyplot as plt"
   ]
  },
  {
   "cell_type": "markdown",
   "metadata": {},
   "source": [
    "## mengimport the Dataset untuk kemudian dianalisa"
   ]
  },
  {
   "cell_type": "markdown",
   "metadata": {},
   "source": [
    "disini kita mengimport untuk membaca dataset movie sample dataset yang kemudian selanjutnya kita prepreocessing"
   ]
  },
  {
   "cell_type": "code",
   "execution_count": 11,
   "metadata": {},
   "outputs": [
    {
     "data": {
      "text/html": [
       "<div><div id=798bcb19-00b1-4741-b259-c9032f37af16 style=\"display:none; background-color:#9D6CFF; color:white; width:200px; height:30px; padding-left:5px; border-radius:4px; flex-direction:row; justify-content:space-around; align-items:center;\" onmouseover=\"this.style.backgroundColor='#BA9BF8'\" onmouseout=\"this.style.backgroundColor='#9D6CFF'\" onclick=\"window.commands?.execute('create-mitosheet-from-dataframe-output');\">See Full Dataframe in Mito</div> <script> if (window.commands?.hasCommand('create-mitosheet-from-dataframe-output')) document.getElementById('798bcb19-00b1-4741-b259-c9032f37af16').style.display = 'flex' </script> <table border=\"1\" class=\"dataframe\">\n",
       "  <thead>\n",
       "    <tr style=\"text-align: right;\">\n",
       "      <th></th>\n",
       "      <th>color</th>\n",
       "      <th>director_name</th>\n",
       "      <th>duration</th>\n",
       "      <th>gross</th>\n",
       "      <th>genres</th>\n",
       "      <th>movie_title</th>\n",
       "      <th>title_year</th>\n",
       "      <th>language</th>\n",
       "      <th>country</th>\n",
       "      <th>budget</th>\n",
       "      <th>imdb_score</th>\n",
       "      <th>actors</th>\n",
       "      <th>movie_facebook_likes</th>\n",
       "    </tr>\n",
       "  </thead>\n",
       "  <tbody>\n",
       "    <tr>\n",
       "      <th>0</th>\n",
       "      <td>Color</td>\n",
       "      <td>Martin Scorsese</td>\n",
       "      <td>240</td>\n",
       "      <td>116866727.0</td>\n",
       "      <td>Biography|Comedy|Crime|Drama</td>\n",
       "      <td>The Wolf of Wall Street</td>\n",
       "      <td>2013</td>\n",
       "      <td>English</td>\n",
       "      <td>USA</td>\n",
       "      <td>100000000.0</td>\n",
       "      <td>8.2</td>\n",
       "      <td>Leonardo DiCaprio,Matthew McConaughey,Jon Favreau</td>\n",
       "      <td>138000</td>\n",
       "    </tr>\n",
       "    <tr>\n",
       "      <th>1</th>\n",
       "      <td>Color</td>\n",
       "      <td>Shane Black</td>\n",
       "      <td>195</td>\n",
       "      <td>408992272.0</td>\n",
       "      <td>Action|Adventure|Sci-Fi</td>\n",
       "      <td>Iron Man 3</td>\n",
       "      <td>2013</td>\n",
       "      <td>English</td>\n",
       "      <td>USA</td>\n",
       "      <td>200000000.0</td>\n",
       "      <td>7.2</td>\n",
       "      <td>Robert Downey Jr.,Jon Favreau,Don Cheadle</td>\n",
       "      <td>95000</td>\n",
       "    </tr>\n",
       "    <tr>\n",
       "      <th>2</th>\n",
       "      <td>color</td>\n",
       "      <td>Quentin Tarantino</td>\n",
       "      <td>187</td>\n",
       "      <td>54116191.0</td>\n",
       "      <td>Crime|Drama|Mystery|Thriller|Western</td>\n",
       "      <td>The Hateful Eight</td>\n",
       "      <td>2015</td>\n",
       "      <td>English</td>\n",
       "      <td>USA</td>\n",
       "      <td>44000000.0</td>\n",
       "      <td>7.9</td>\n",
       "      <td>Craig Stark,Jennifer Jason Leigh,Zoë Bell</td>\n",
       "      <td>114000</td>\n",
       "    </tr>\n",
       "    <tr>\n",
       "      <th>3</th>\n",
       "      <td>Color</td>\n",
       "      <td>Kenneth Lonergan</td>\n",
       "      <td>186</td>\n",
       "      <td>46495.0</td>\n",
       "      <td>Drama</td>\n",
       "      <td>Margaret</td>\n",
       "      <td>2011</td>\n",
       "      <td>English</td>\n",
       "      <td>usa</td>\n",
       "      <td>14000000.0</td>\n",
       "      <td>6.5</td>\n",
       "      <td>Matt Damon,Kieran Culkin,John Gallagher Jr.</td>\n",
       "      <td>0</td>\n",
       "    </tr>\n",
       "    <tr>\n",
       "      <th>4</th>\n",
       "      <td>Color</td>\n",
       "      <td>Peter Jackson</td>\n",
       "      <td>186</td>\n",
       "      <td>258355354.0</td>\n",
       "      <td>Adventure|Fantasy</td>\n",
       "      <td>The Hobbit: The Desolation of Smaug</td>\n",
       "      <td>2013</td>\n",
       "      <td>English</td>\n",
       "      <td>USA</td>\n",
       "      <td>225000000.0</td>\n",
       "      <td>7.9</td>\n",
       "      <td>Aidan Turner,Adam Brown,James Nesbitt</td>\n",
       "      <td>83000</td>\n",
       "    </tr>\n",
       "  </tbody>\n",
       "</table></div>"
      ],
      "text/plain": [
       "    color      director_name  duration        gross  \\\n",
       "0   Color    Martin Scorsese       240  116866727.0   \n",
       "1   Color        Shane Black       195  408992272.0   \n",
       "2  color   Quentin Tarantino       187   54116191.0   \n",
       "3   Color   Kenneth Lonergan       186      46495.0   \n",
       "4   Color      Peter Jackson       186  258355354.0   \n",
       "\n",
       "                                 genres                          movie_title  \\\n",
       "0          Biography|Comedy|Crime|Drama              The Wolf of Wall Street   \n",
       "1               Action|Adventure|Sci-Fi                           Iron Man 3   \n",
       "2  Crime|Drama|Mystery|Thriller|Western                    The Hateful Eight   \n",
       "3                                 Drama                             Margaret   \n",
       "4                     Adventure|Fantasy  The Hobbit: The Desolation of Smaug   \n",
       "\n",
       "   title_year language country       budget  imdb_score  \\\n",
       "0        2013  English     USA  100000000.0         8.2   \n",
       "1        2013  English     USA  200000000.0         7.2   \n",
       "2        2015  English     USA   44000000.0         7.9   \n",
       "3        2011  English     usa   14000000.0         6.5   \n",
       "4        2013  English     USA  225000000.0         7.9   \n",
       "\n",
       "                                              actors  movie_facebook_likes  \n",
       "0  Leonardo DiCaprio,Matthew McConaughey,Jon Favreau                138000  \n",
       "1          Robert Downey Jr.,Jon Favreau,Don Cheadle                 95000  \n",
       "2          Craig Stark,Jennifer Jason Leigh,Zoë Bell                114000  \n",
       "3        Matt Damon,Kieran Culkin,John Gallagher Jr.                     0  \n",
       "4              Aidan Turner,Adam Brown,James Nesbitt                 83000  "
      ]
     },
     "execution_count": 11,
     "metadata": {},
     "output_type": "execute_result"
    }
   ],
   "source": [
    "df = pd.read_csv('movie_sample_dataset.csv', encoding='utf-8')\n",
    "df.head()"
   ]
  },
  {
   "cell_type": "markdown",
   "metadata": {},
   "source": [
    "## Menjabarkan dataset"
   ]
  },
  {
   "cell_type": "code",
   "execution_count": 12,
   "metadata": {},
   "outputs": [
    {
     "data": {
      "text/html": [
       "<div><div id=04f37a4c-4572-4373-9c21-92ec5d351df2 style=\"display:none; background-color:#9D6CFF; color:white; width:200px; height:30px; padding-left:5px; border-radius:4px; flex-direction:row; justify-content:space-around; align-items:center;\" onmouseover=\"this.style.backgroundColor='#BA9BF8'\" onmouseout=\"this.style.backgroundColor='#9D6CFF'\" onclick=\"window.commands?.execute('create-mitosheet-from-dataframe-output');\">See Full Dataframe in Mito</div> <script> if (window.commands?.hasCommand('create-mitosheet-from-dataframe-output')) document.getElementById('04f37a4c-4572-4373-9c21-92ec5d351df2').style.display = 'flex' </script> <table border=\"1\" class=\"dataframe\">\n",
       "  <thead>\n",
       "    <tr style=\"text-align: right;\">\n",
       "      <th></th>\n",
       "      <th>director_name</th>\n",
       "      <th>duration</th>\n",
       "      <th>gross</th>\n",
       "      <th>genres</th>\n",
       "      <th>movie_title</th>\n",
       "      <th>title_year</th>\n",
       "      <th>country</th>\n",
       "      <th>budget</th>\n",
       "      <th>imdb_score</th>\n",
       "      <th>actors</th>\n",
       "      <th>movie_facebook_likes</th>\n",
       "    </tr>\n",
       "  </thead>\n",
       "  <tbody>\n",
       "    <tr>\n",
       "      <th>0</th>\n",
       "      <td>Martin Scorsese</td>\n",
       "      <td>240</td>\n",
       "      <td>116866727.0</td>\n",
       "      <td>Biography|Comedy|Crime|Drama</td>\n",
       "      <td>The Wolf of Wall Street</td>\n",
       "      <td>2013</td>\n",
       "      <td>USA</td>\n",
       "      <td>100000000.0</td>\n",
       "      <td>8.2</td>\n",
       "      <td>Leonardo DiCaprio,Matthew McConaughey,Jon Favreau</td>\n",
       "      <td>138000</td>\n",
       "    </tr>\n",
       "    <tr>\n",
       "      <th>1</th>\n",
       "      <td>Shane Black</td>\n",
       "      <td>195</td>\n",
       "      <td>408992272.0</td>\n",
       "      <td>Action|Adventure|Sci-Fi</td>\n",
       "      <td>Iron Man 3</td>\n",
       "      <td>2013</td>\n",
       "      <td>USA</td>\n",
       "      <td>200000000.0</td>\n",
       "      <td>7.2</td>\n",
       "      <td>Robert Downey Jr.,Jon Favreau,Don Cheadle</td>\n",
       "      <td>95000</td>\n",
       "    </tr>\n",
       "    <tr>\n",
       "      <th>2</th>\n",
       "      <td>Quentin Tarantino</td>\n",
       "      <td>187</td>\n",
       "      <td>54116191.0</td>\n",
       "      <td>Crime|Drama|Mystery|Thriller|Western</td>\n",
       "      <td>The Hateful Eight</td>\n",
       "      <td>2015</td>\n",
       "      <td>USA</td>\n",
       "      <td>44000000.0</td>\n",
       "      <td>7.9</td>\n",
       "      <td>Craig Stark,Jennifer Jason Leigh,Zoë Bell</td>\n",
       "      <td>114000</td>\n",
       "    </tr>\n",
       "    <tr>\n",
       "      <th>3</th>\n",
       "      <td>Kenneth Lonergan</td>\n",
       "      <td>186</td>\n",
       "      <td>46495.0</td>\n",
       "      <td>Drama</td>\n",
       "      <td>Margaret</td>\n",
       "      <td>2011</td>\n",
       "      <td>usa</td>\n",
       "      <td>14000000.0</td>\n",
       "      <td>6.5</td>\n",
       "      <td>Matt Damon,Kieran Culkin,John Gallagher Jr.</td>\n",
       "      <td>0</td>\n",
       "    </tr>\n",
       "    <tr>\n",
       "      <th>4</th>\n",
       "      <td>Peter Jackson</td>\n",
       "      <td>186</td>\n",
       "      <td>258355354.0</td>\n",
       "      <td>Adventure|Fantasy</td>\n",
       "      <td>The Hobbit: The Desolation of Smaug</td>\n",
       "      <td>2013</td>\n",
       "      <td>USA</td>\n",
       "      <td>225000000.0</td>\n",
       "      <td>7.9</td>\n",
       "      <td>Aidan Turner,Adam Brown,James Nesbitt</td>\n",
       "      <td>83000</td>\n",
       "    </tr>\n",
       "  </tbody>\n",
       "</table></div>"
      ],
      "text/plain": [
       "       director_name  duration        gross  \\\n",
       "0    Martin Scorsese       240  116866727.0   \n",
       "1        Shane Black       195  408992272.0   \n",
       "2  Quentin Tarantino       187   54116191.0   \n",
       "3   Kenneth Lonergan       186      46495.0   \n",
       "4      Peter Jackson       186  258355354.0   \n",
       "\n",
       "                                 genres                          movie_title  \\\n",
       "0          Biography|Comedy|Crime|Drama              The Wolf of Wall Street   \n",
       "1               Action|Adventure|Sci-Fi                           Iron Man 3   \n",
       "2  Crime|Drama|Mystery|Thriller|Western                    The Hateful Eight   \n",
       "3                                 Drama                             Margaret   \n",
       "4                     Adventure|Fantasy  The Hobbit: The Desolation of Smaug   \n",
       "\n",
       "   title_year country       budget  imdb_score  \\\n",
       "0        2013     USA  100000000.0         8.2   \n",
       "1        2013     USA  200000000.0         7.2   \n",
       "2        2015     USA   44000000.0         7.9   \n",
       "3        2011     usa   14000000.0         6.5   \n",
       "4        2013     USA  225000000.0         7.9   \n",
       "\n",
       "                                              actors  movie_facebook_likes  \n",
       "0  Leonardo DiCaprio,Matthew McConaughey,Jon Favreau                138000  \n",
       "1          Robert Downey Jr.,Jon Favreau,Don Cheadle                 95000  \n",
       "2          Craig Stark,Jennifer Jason Leigh,Zoë Bell                114000  \n",
       "3        Matt Damon,Kieran Culkin,John Gallagher Jr.                     0  \n",
       "4              Aidan Turner,Adam Brown,James Nesbitt                 83000  "
      ]
     },
     "execution_count": 12,
     "metadata": {},
     "output_type": "execute_result"
    }
   ],
   "source": [
    "df.drop(['color','language'], axis=1, inplace=True)\n",
    "df.head()"
   ]
  },
  {
   "cell_type": "markdown",
   "metadata": {},
   "source": [
    "## Mencari missing Values"
   ]
  },
  {
   "cell_type": "code",
   "execution_count": 13,
   "metadata": {},
   "outputs": [
    {
     "name": "stdout",
     "output_type": "stream",
     "text": [
      "<class 'pandas.core.frame.DataFrame'>\n",
      "RangeIndex: 99 entries, 0 to 98\n",
      "Data columns (total 11 columns):\n",
      " #   Column                Non-Null Count  Dtype  \n",
      "---  ------                --------------  -----  \n",
      " 0   director_name         88 non-null     object \n",
      " 1   duration              99 non-null     int64  \n",
      " 2   gross                 91 non-null     float64\n",
      " 3   genres                98 non-null     object \n",
      " 4   movie_title           99 non-null     object \n",
      " 5   title_year            99 non-null     int64  \n",
      " 6   country               99 non-null     object \n",
      " 7   budget                95 non-null     float64\n",
      " 8   imdb_score            99 non-null     float64\n",
      " 9   actors                99 non-null     object \n",
      " 10  movie_facebook_likes  99 non-null     int64  \n",
      "dtypes: float64(3), int64(3), object(5)\n",
      "memory usage: 8.6+ KB\n"
     ]
    }
   ],
   "source": [
    "df.info()"
   ]
  },
  {
   "cell_type": "markdown",
   "metadata": {},
   "source": [
    "## Menangani error dan missing Values"
   ]
  },
  {
   "cell_type": "markdown",
   "metadata": {},
   "source": [
    "Mengekstrack nilai kosong pada tiap tiap variabel yang ada pada dataset"
   ]
  },
  {
   "cell_type": "markdown",
   "metadata": {},
   "source": [
    "### 1. director_name (11 Missing Values)"
   ]
  },
  {
   "cell_type": "code",
   "execution_count": 15,
   "metadata": {},
   "outputs": [
    {
     "name": "stdout",
     "output_type": "stream",
     "text": [
      "director_name           11\n",
      "duration                 0\n",
      "gross                    8\n",
      "genres                   1\n",
      "movie_title              0\n",
      "title_year               0\n",
      "country                  0\n",
      "budget                   4\n",
      "imdb_score               0\n",
      "actors                   0\n",
      "movie_facebook_likes     0\n",
      "dtype: int64\n"
     ]
    }
   ],
   "source": [
    "#Total Number of Missing NA\n",
    "print(df.isnull().sum())"
   ]
  },
  {
   "cell_type": "markdown",
   "metadata": {},
   "source": [
    "### 2. Duration (Outliers)"
   ]
  },
  {
   "cell_type": "code",
   "execution_count": 16,
   "metadata": {},
   "outputs": [
    {
     "data": {
      "text/plain": [
       "array(['Martin Scorsese', 'Shane Black', 'Quentin Tarantino',\n",
       "       'Kenneth Lonergan', 'Peter Jackson', nan, 'Edward Hall',\n",
       "       'Joss Whedon', 'Tom Tykwer', 'Null', 'Christopher Spencer',\n",
       "       'Christopher Nolan', 'F. Gary Gray', 'Richard Linklater',\n",
       "       'Michael Bay', 'Tom Hooper', 'Kathryn Bigelow', 'Ridley Scott',\n",
       "       'Denis Villeneuve', 'Gnana Rajasekaran', 'Marc Webb', 'Nan',\n",
       "       'Mike Leigh', 'Gore Verbinski', 'David Fincher', 'Bryan Singer',\n",
       "       'Jay Oliva', 'Paul Thomas Anderson', 'Sam Mendes',\n",
       "       'Michael Patrick King', 'Tate Taylor', 'Francis Lawrence',\n",
       "       'Steven Spielberg', 'Guillaume Canet', 'Adam McKay', 'Zack Snyder',\n",
       "       'Baz Luhrmann', 'Timur Bekmambetov', 'Justin Chadwick',\n",
       "       'Oliver Stone', 'David Dobkin', 'Ryan Murphy', 'James Wan',\n",
       "       'Derek Cianfrance', \"Gavin O'Connor\", 'Gary Ross',\n",
       "       'Terrence Malick', 'Robert Zemeckis', 'Darren Aronofsky',\n",
       "       'James Mangold', 'Daniel Espinosa', 'Walter Salles',\n",
       "       'Angelina Jolie Pitt', 'Seth MacFarlane', 'Anthony Russo',\n",
       "       'Rob Marshall', 'Adam Shankman', 'Sadyk Sher-Niyaz', 'Tony Gilroy',\n",
       "       'Steve McQueen', 'Richard J. Lewis', 'Paul Greengrass',\n",
       "       'David Ayer', 'Clint Eastwood'], dtype=object)"
      ]
     },
     "execution_count": 16,
     "metadata": {},
     "output_type": "execute_result"
    }
   ],
   "source": [
    "df['director_name'].unique()"
   ]
  },
  {
   "cell_type": "markdown",
   "metadata": {},
   "source": [
    "### 3. Gross (8 Missing Values)"
   ]
  },
  {
   "cell_type": "code",
   "execution_count": 18,
   "metadata": {},
   "outputs": [
    {
     "data": {
      "text/plain": [
       "array([240, 195, 187, 186, 183, -50, 180, 173, 172, 158, 170, 169, 167,\n",
       "       165, 580, 164, 157, 156, 154, 153, 151, 150, 650, 149, 148, 147,\n",
       "       146, 144, 143, 142, 141, 140, 139, 138, 137, 136, 135, 134,   5],\n",
       "      dtype=int64)"
      ]
     },
     "execution_count": 18,
     "metadata": {},
     "output_type": "execute_result"
    }
   ],
   "source": [
    "df['duration'].unique()"
   ]
  },
  {
   "cell_type": "markdown",
   "metadata": {},
   "source": [
    "### 4. genres (1 Missing Values)"
   ]
  },
  {
   "cell_type": "code",
   "execution_count": 19,
   "metadata": {},
   "outputs": [
    {
     "data": {
      "text/plain": [
       "array([1.16866727e+08, 4.08992272e+08, 5.41161910e+07, 4.64950000e+04,\n",
       "       2.58355354e+08, 3.30249062e+08, 3.03001229e+08,            nan,\n",
       "       6.23279547e+08, 2.70985800e+07, 1.02515793e+08, 5.96961760e+07,\n",
       "       1.87991439e+08, 1.61029270e+08, 2.53592000e+07, 1.62804648e+08,\n",
       "       2.45428137e+08, 4.48130642e+08, 2.55108370e+08, 1.48775460e+08,\n",
       "       9.57207160e+07, 1.05219735e+08, 1.83635922e+08, 3.52358779e+08,\n",
       "       6.09628780e+07, 2.62030663e+08, 2.28430993e+08, 6.50070450e+07,\n",
       "       1.82204440e+08, 3.95850000e+06, 8.92899100e+07, 1.67735396e+08,\n",
       "       2.33914986e+08, 2.92568851e+08, 8.09331800e+06, 2.00074175e+08,\n",
       "       4.07197282e+08, 9.53289370e+07, 1.69705587e+08, 4.24645577e+08,\n",
       "       7.98833590e+07, 5.28224180e+07, 4.12290000e+04, 1.63772740e+07,\n",
       "       1.54985087e+08, 2.17531200e+06, 2.91021565e+08, 3.04360277e+08,\n",
       "       1.44812796e+08, 7.23060650e+07, 2.02853933e+08, 4.07999255e+08,\n",
       "       4.58991599e+08, 8.32474800e+06, 4.73075500e+07, 4.71050850e+07,\n",
       "       8.05740100e+07, 3.50034110e+08, 2.13832980e+07, 1.36516620e+07,\n",
       "       1.50832203e+08, 2.03899670e+07, 3.05139400e+07, 1.33033190e+07,\n",
       "       1.50117807e+08, 9.37492030e+07, 1.01160529e+08, 1.27968405e+08,\n",
       "       1.69693900e+07, 1.32550960e+08, 1.20613500e+06, 3.73049500e+07,\n",
       "       7.17753000e+05, 2.81666058e+08, 1.15603980e+08, 4.26156850e+07,\n",
       "       2.59746958e+08, 2.41063875e+08, 3.85093420e+07, 5.24746160e+07,\n",
       "       1.13165635e+08, 5.66678700e+07, 7.50140400e+06, 1.07100855e+08,\n",
       "       8.57071160e+07, 4.70342720e+07])"
      ]
     },
     "execution_count": 19,
     "metadata": {},
     "output_type": "execute_result"
    }
   ],
   "source": [
    "df['gross'].unique()"
   ]
  },
  {
   "cell_type": "markdown",
   "metadata": {},
   "source": [
    "### 5. title_year (Outliers)"
   ]
  },
  {
   "cell_type": "code",
   "execution_count": 20,
   "metadata": {},
   "outputs": [],
   "source": [
    "df['gross'].fillna(0, inplace=True)"
   ]
  },
  {
   "cell_type": "markdown",
   "metadata": {},
   "source": [
    "### 6. Country (Uppercase, Different Format)"
   ]
  },
  {
   "cell_type": "code",
   "execution_count": 21,
   "metadata": {},
   "outputs": [
    {
     "data": {
      "text/plain": [
       "array(['Biography|Comedy|Crime|Drama', 'Action|Adventure|Sci-Fi',\n",
       "       'Crime|Drama|Mystery|Thriller|Western', 'Drama',\n",
       "       'Adventure|Fantasy', 'Drama|Romance', 'Drama|Sci-Fi',\n",
       "       'Crime|Drama|Mystery|Thriller', nan, 'Adventure|Drama|Sci-Fi',\n",
       "       'Biography|Crime|Drama|History|Music', 'Drama|Western',\n",
       "       'Action|Thriller', 'Drama|Musical|Romance',\n",
       "       'Drama|History|Thriller', 'Action|Adventure|Drama|History',\n",
       "       'Adventure|Drama|Thriller|Western', 'Biography|Drama|History',\n",
       "       'Action|Adventure|Fantasy', 'Action|Adventure|Drama',\n",
       "       'Biography|Drama|History|War', 'Action|Adventure|Western',\n",
       "       'Action|Adventure|Fantasy|Sci-Fi|Thriller',\n",
       "       'Action|Animation|Crime|Sci-Fi|Thriller',\n",
       "       'Action|Adventure|Sci-Fi|Thriller',\n",
       "       'Comedy|Crime|Drama|Mystery|Romance', 'Action|Adventure|Thriller',\n",
       "       'Comedy|Drama|Romance', 'Adventure|Sci-Fi|Thriller', 'Drama|War',\n",
       "       'Action|Drama|Thriller|War', 'Crime|Drama|Thriller', 'Comedy',\n",
       "       'Action|Adventure|Fantasy|Sci-Fi', 'Drama|Horror|Thriller',\n",
       "       'Adventure|Drama|Sci-Fi|Thriller', 'Adventure|Drama|History',\n",
       "       'Crime|Drama', 'Action|Crime|Thriller', 'Drama|Sport',\n",
       "       'Adventure|Mystery|Sci-Fi', 'Action|Biography|Drama|History|War',\n",
       "       'Biography|Drama|Music', 'Drama|Fantasy', 'Drama|Thriller',\n",
       "       'Mystery|Thriller', 'Biography|Crime|Drama', 'Adventure|Drama',\n",
       "       'Adventure|Sci-Fi', 'Biography|Drama|Sport|War', 'Comedy|Western',\n",
       "       'Comedy|Drama|Musical|Romance', 'Action|Biography|Drama|History',\n",
       "       'Comedy|Drama', 'Biography|Drama|Thriller', 'Action|Drama|War',\n",
       "       'Biography|Drama|Music|Musical'], dtype=object)"
      ]
     },
     "execution_count": 21,
     "metadata": {},
     "output_type": "execute_result"
    }
   ],
   "source": [
    "df['genres'].unique()"
   ]
  },
  {
   "cell_type": "code",
   "execution_count": 23,
   "metadata": {},
   "outputs": [
    {
     "data": {
      "text/plain": [
       "0                 Biography|Comedy|Crime|Drama\n",
       "1                      Action|Adventure|Sci-Fi\n",
       "2         Crime|Drama|Mystery|Thriller|Western\n",
       "3                                        Drama\n",
       "4                            Adventure|Fantasy\n",
       "5                      Action|Adventure|Sci-Fi\n",
       "6                            Adventure|Fantasy\n",
       "7                                Drama|Romance\n",
       "8                      Action|Adventure|Sci-Fi\n",
       "9                      Action|Adventure|Sci-Fi\n",
       "10                                Drama|Sci-Fi\n",
       "11                Crime|Drama|Mystery|Thriller\n",
       "12                                         NaN\n",
       "13                      Adventure|Drama|Sci-Fi\n",
       "14         Biography|Crime|Drama|History|Music\n",
       "15                                       Drama\n",
       "16                               Drama|Western\n",
       "17                     Action|Adventure|Sci-Fi\n",
       "18                             Action|Thriller\n",
       "19                           Adventure|Fantasy\n",
       "20                       Drama|Musical|Romance\n",
       "21                       Drama|Musical|Romance\n",
       "22                      Drama|History|Thriller\n",
       "23              Action|Adventure|Drama|History\n",
       "24            Adventure|Drama|Thriller|Western\n",
       "25                     Action|Adventure|Sci-Fi\n",
       "26                Crime|Drama|Mystery|Thriller\n",
       "27                     Biography|Drama|History\n",
       "28                    Action|Adventure|Fantasy\n",
       "29                      Adventure|Drama|Sci-Fi\n",
       "30                      Action|Adventure|Drama\n",
       "31                      Action|Adventure|Drama\n",
       "32                 Biography|Drama|History|War\n",
       "33                     Biography|Drama|History\n",
       "34                    Action|Adventure|Western\n",
       "35                Crime|Drama|Mystery|Thriller\n",
       "36    Action|Adventure|Fantasy|Sci-Fi|Thriller\n",
       "37      Action|Animation|Crime|Sci-Fi|Thriller\n",
       "38            Action|Adventure|Sci-Fi|Thriller\n",
       "39          Comedy|Crime|Drama|Mystery|Romance\n",
       "40                   Action|Adventure|Thriller\n",
       "41                     Action|Adventure|Sci-Fi\n",
       "42                        Comedy|Drama|Romance\n",
       "43                                       Drama\n",
       "44                   Adventure|Sci-Fi|Thriller\n",
       "45                                   Drama|War\n",
       "46                   Action|Drama|Thriller|War\n",
       "47                        Crime|Drama|Thriller\n",
       "48                                       Drama\n",
       "49                     Action|Adventure|Sci-Fi\n",
       "50                                      Comedy\n",
       "51             Action|Adventure|Fantasy|Sci-Fi\n",
       "52                   Action|Adventure|Thriller\n",
       "53                   Action|Adventure|Thriller\n",
       "54                               Drama|Romance\n",
       "55                               Drama|Romance\n",
       "56                       Drama|Horror|Thriller\n",
       "57                      Drama|History|Thriller\n",
       "58             Action|Adventure|Fantasy|Sci-Fi\n",
       "59             Adventure|Drama|Sci-Fi|Thriller\n",
       "60                     Action|Adventure|Sci-Fi\n",
       "61                     Adventure|Drama|History\n",
       "62                     Adventure|Drama|History\n",
       "63                     Adventure|Drama|History\n",
       "64                     Biography|Drama|History\n",
       "65                        Crime|Drama|Thriller\n",
       "66                                 Crime|Drama\n",
       "67                               Drama|Romance\n",
       "68                       Action|Crime|Thriller\n",
       "69                        Crime|Drama|Thriller\n",
       "70                                 Drama|Sport\n",
       "71                    Adventure|Mystery|Sci-Fi\n",
       "72          Action|Biography|Drama|History|War\n",
       "73                       Biography|Drama|Music\n",
       "74                               Drama|Fantasy\n",
       "75                                 Crime|Drama\n",
       "76                              Drama|Thriller\n",
       "77                      Action|Adventure|Drama\n",
       "78                            Mystery|Thriller\n",
       "79                        Crime|Drama|Thriller\n",
       "80            Action|Adventure|Sci-Fi|Thriller\n",
       "81                        Crime|Drama|Thriller\n",
       "82                       Biography|Crime|Drama\n",
       "83                             Adventure|Drama\n",
       "84                            Adventure|Sci-Fi\n",
       "85                   Biography|Drama|Sport|War\n",
       "86                   Biography|Drama|Sport|War\n",
       "87                              Comedy|Western\n",
       "88                     Action|Adventure|Sci-Fi\n",
       "89                    Action|Adventure|Fantasy\n",
       "90                Comedy|Drama|Musical|Romance\n",
       "91                                       Drama\n",
       "92              Action|Biography|Drama|History\n",
       "93                   Action|Adventure|Thriller\n",
       "94                     Biography|Drama|History\n",
       "95                                Comedy|Drama\n",
       "96                    Biography|Drama|Thriller\n",
       "97                            Action|Drama|War\n",
       "98               Biography|Drama|Music|Musical\n",
       "Name: genres, dtype: object"
      ]
     },
     "execution_count": 23,
     "metadata": {},
     "output_type": "execute_result"
    }
   ],
   "source": [
    "pd.set_option('display.max_rows', None)\n",
    "df['genres']"
   ]
  },
  {
   "cell_type": "code",
   "execution_count": 24,
   "metadata": {},
   "outputs": [
    {
     "data": {
      "text/plain": [
       "array([2013, 2015, 2011,  202, 2012, 2014, 2010, 2016,  205], dtype=int64)"
      ]
     },
     "execution_count": 24,
     "metadata": {},
     "output_type": "execute_result"
    }
   ],
   "source": [
    "df['title_year'].unique()"
   ]
  },
  {
   "cell_type": "code",
   "execution_count": 25,
   "metadata": {},
   "outputs": [
    {
     "data": {
      "text/plain": [
       "array(['USA', 'usa', 'UK', 'Germany', 'New Zealand', 'India',\n",
       "       'United States', 'France', 'Australia', 'Czech Republic',\n",
       "       'Kyrgyzstan', 'Canada'], dtype=object)"
      ]
     },
     "execution_count": 25,
     "metadata": {},
     "output_type": "execute_result"
    }
   ],
   "source": [
    "df['country'].unique()"
   ]
  },
  {
   "cell_type": "code",
   "execution_count": 26,
   "metadata": {},
   "outputs": [
    {
     "data": {
      "text/plain": [
       "array(['USA', 'usa', 'UK', 'Germany', 'New Zealand', 'India',\n",
       "       'United States', 'France', 'Australia', 'Czech Republic',\n",
       "       'Kyrgyzstan', 'Canada'], dtype=object)"
      ]
     },
     "execution_count": 26,
     "metadata": {},
     "output_type": "execute_result"
    }
   ],
   "source": [
    "df['country'].unique()"
   ]
  },
  {
   "cell_type": "markdown",
   "metadata": {},
   "source": [
    "### 7. Budget (Outlier)"
   ]
  },
  {
   "cell_type": "markdown",
   "metadata": {},
   "source": [
    "Disini kita melihat garis besar outlier dari rentang dari budget"
   ]
  },
  {
   "cell_type": "code",
   "execution_count": 27,
   "metadata": {},
   "outputs": [
    {
     "data": {
      "text/plain": [
       "array([1.000e+08, 2.000e+08, 4.400e+07, 1.400e+07, 2.250e+08, 2.500e+08,\n",
       "       1.800e+08,       nan, 2.200e+08, 1.020e+08, 9.000e+07, 2.200e+07,\n",
       "       1.650e+08, 2.800e+07, 4.000e+06, 2.100e+08, 6.100e+07, 4.000e+07,\n",
       "       1.350e+08, 1.950e+08, 4.600e+07, 2.300e+08, 1.080e+08, 1.400e+08,\n",
       "       6.500e+07, 2.150e+08, 3.500e+06, 1.600e+08, 2.000e+07, 2.450e+08,\n",
       "       2.500e+07, 1.300e+08, 6.600e+07, 5.000e+07, 2.550e+07, 3.200e+07,\n",
       "       1.780e+08, 1.050e+08, 1.735e+04, 7.800e+07, 3.500e+07, 4.500e+07,\n",
       "       6.000e+07, 1.900e+08, 1.500e+07, 8.500e+07, 3.000e+07, 3.100e+07,\n",
       "       1.250e+08, 8.000e+07, 1.200e+08, 1.700e+08, 7.500e+07, 7.000e+07,\n",
       "       1.400e+06, 5.500e+07, 6.800e+07])"
      ]
     },
     "execution_count": 27,
     "metadata": {},
     "output_type": "execute_result"
    }
   ],
   "source": [
    "df['budget'].unique()"
   ]
  },
  {
   "cell_type": "markdown",
   "metadata": {},
   "source": [
    "### 8. Imdb_score (Outlier)"
   ]
  },
  {
   "cell_type": "markdown",
   "metadata": {},
   "source": [
    "Disini kita melihat garis besar outlier dari rentang dari imdb_score"
   ]
  },
  {
   "cell_type": "code",
   "execution_count": 28,
   "metadata": {},
   "outputs": [
    {
     "data": {
      "text/plain": [
       "array([ 8.2,  7.2,  7.9,  6.5,  6.9,  8.1, -7.5,  7.8,  5.6,  8.6,  8. ,\n",
       "        8.5,  5.7,  7.5,  7.6,  7.4,  6.7,  6.3,  7. ,  6.1,  6.8,  8.4,\n",
       "        8.8,  4.3,  7.1,  7.3,  3. ,  6. ,  5.8,  5.3,  6.4,  6.6, -1.2,\n",
       "        5.9,  8.7])"
      ]
     },
     "execution_count": 28,
     "metadata": {},
     "output_type": "execute_result"
    }
   ],
   "source": [
    "df['imdb_score'].unique()"
   ]
  },
  {
   "cell_type": "code",
   "execution_count": 29,
   "metadata": {},
   "outputs": [
    {
     "data": {
      "text/plain": [
       "array([ 8.2,  7.2,  7.9,  6.5,  6.9,  8.1, -7.5,  7.8,  5.6,  8.6,  8. ,\n",
       "        8.5,  5.7,  7.5,  7.6,  7.4,  6.7,  6.3,  7. ,  6.1,  6.8,  8.4,\n",
       "        8.8,  4.3,  7.1,  7.3,  3. ,  6. ,  5.8,  5.3,  6.4,  6.6, -1.2,\n",
       "        5.9,  8.7])"
      ]
     },
     "execution_count": 29,
     "metadata": {},
     "output_type": "execute_result"
    }
   ],
   "source": [
    "df['imdb_score'].unique()"
   ]
  }
 ],
 "metadata": {
  "kernelspec": {
   "display_name": "Python 3",
   "language": "python",
   "name": "python3"
  },
  "language_info": {
   "codemirror_mode": {
    "name": "ipython",
    "version": 3
   },
   "file_extension": ".py",
   "mimetype": "text/x-python",
   "name": "python",
   "nbconvert_exporter": "python",
   "pygments_lexer": "ipython3",
   "version": "3.10.7"
  }
 },
 "nbformat": 4,
 "nbformat_minor": 2
}
