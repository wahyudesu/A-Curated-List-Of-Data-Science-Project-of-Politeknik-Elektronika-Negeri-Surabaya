{
 "cells": [
  {
   "cell_type": "markdown",
   "metadata": {},
   "source": []
  },
  {
   "cell_type": "markdown",
   "metadata": {},
   "source": [
    "<h1><center>UAS Praktikum Pemrograman II</center></h1>\n",
    "<h2><center>Dosen Pengampu Tri Hadiah S.Kom, M.Kom</center></h2>"
   ]
  },
  {
   "cell_type": "markdown",
   "metadata": {},
   "source": []
  },
  {
   "cell_type": "markdown",
   "metadata": {},
   "source": []
  },
  {
   "cell_type": "markdown",
   "metadata": {},
   "source": []
  },
  {
   "cell_type": "markdown",
   "metadata": {},
   "source": [
    "<img src=\"logo pens.png\" \n",
    "        alt=\"Picture\" \n",
    "        width=\"380\" \n",
    "        height=\"380\" \n",
    "        style=\"display: block; margin: 0 auto\" />"
   ]
  },
  {
   "cell_type": "markdown",
   "metadata": {},
   "source": []
  },
  {
   "cell_type": "markdown",
   "metadata": {},
   "source": []
  },
  {
   "cell_type": "markdown",
   "metadata": {},
   "source": []
  },
  {
   "cell_type": "markdown",
   "metadata": {},
   "source": []
  },
  {
   "cell_type": "markdown",
   "metadata": {},
   "source": []
  },
  {
   "cell_type": "markdown",
   "metadata": {},
   "source": [
    "<h3><center>Wahyu Ikbal Maulana</center></h3>\n",
    "\n",
    "<h3><center>3323600056</center></h3>\n",
    "\n",
    "<h3><center>D3 SDT B</center></h3>\n",
    "\n",
    "<h1><center>Politeknik Elektronika Negeri Surabaya</center></h1>"
   ]
  },
  {
   "cell_type": "markdown",
   "metadata": {},
   "source": []
  },
  {
   "cell_type": "markdown",
   "metadata": {},
   "source": []
  },
  {
   "cell_type": "markdown",
   "metadata": {},
   "source": [
    "## <b><span style='color:#FA5E3C'>|</span> Overview</b> \n",
    "Buatlah program dengan topik bebas dengan ketentuan:\n",
    "1. Program yang menggunakan 4 class, dengan penamaan method, atribut, dan class\n",
    "2. Dengan penerapan konsep OOP(Inheritance, encapsulation, dan polymorphism)"
   ]
  },
  {
   "cell_type": "code",
   "execution_count": null,
   "metadata": {},
   "outputs": [],
   "source": [
    "\n",
    "import tensorflow as tf\n",
    "from tensorflow.keras import layers, models\n",
    "\n",
    "class DeepLearningModel:\n",
    "    def __init__(self):\n",
    "        self.model = models.Sequential()\n",
    "\n",
    "    def add_layer(self, layer):\n",
    "        self.model.add(layer)\n",
    "\n",
    "    def compile_model(self, optimizer, loss, metrics):\n",
    "        self.model.compile(optimizer=optimizer, loss=loss, metrics=metrics)\n",
    "\n",
    "    def fit_model(self, x, y, epochs, batch_size):\n",
    "        self.model.fit(x, y, epochs=epochs, batch_size=batch_size)\n",
    "\n",
    "class DenseLayer(layers.Dense):\n",
    "    def __init__(self, units, activation):\n",
    "        super().__init__(units=units, activation=activation)\n",
    "\n",
    "class Conv2DLayer(layers.Conv2D):\n",
    "    def __init__(self, filters, kernel_size, activation):\n",
    "        super().__init__(filters=filters, kernel_size=kernel_size, activation=activation)\n",
    "\n",
    "class DeepLearningModelWithDropout(DeepLearningModel):\n",
    "    def __init__(self, dropout_rate):\n",
    "        super().__init__()\n",
    "        self.dropout = layers.Dropout(dropout_rate)\n",
    "\n",
    "    def add_layer(self, layer):\n",
    "        super().add_layer(layer)\n",
    "        self.model.add(self.dropout)\n",
    "\n",
    "class DeepLearningModelWithPooling(DeepLearningModel):\n",
    "    def __init__(self, pool_size):\n",
    "        super().__init__()\n",
    "        self.pooling = layers.MaxPooling2D(pool_size=pool_size)\n",
    "\n",
    "    def add_layer(self, layer):\n",
    "        super().add_layer(layer)\n",
    "        self.model.add(self.pooling)\n",
    "\n"
   ]
  },
  {
   "cell_type": "code",
   "execution_count": 16,
   "metadata": {},
   "outputs": [
    {
     "name": "stdout",
     "output_type": "stream",
     "text": [
      "Generation: 1\tString: Tzt1OpI4BXnxMV\"LEv{\tFitness: 15\n",
      "Generation: 2\tString: TmtY=lI4B{LjMV\"LE8{\tFitness: 13\n",
      "Generation: 3\tString: Y.-,U IKBPL MAUGYzp\tFitness: 9\n"
     ]
    },
    {
     "name": "stdout",
     "output_type": "stream",
     "text": [
      "Generation: 4\tString: Y.zYU IKBPL MADLAzA\tFitness: 6\n",
      "Generation: 5\tString: WAHYUVIKBrL MAULA7A\tFitness: 3\n",
      "Generation: 6\tString: WAHYU IKBAL MAULANA\tFitness: 0\n"
     ]
    }
   ],
   "source": [
    "if __name__ == '__main__':\n",
    "  main()"
   ]
  },
  {
   "cell_type": "markdown",
   "metadata": {},
   "source": [
    "<div style=\"border-radius: 10px; border: #0ea5e9 solid; padding: 15px; background-color: #ffffff00; font-size: 100%; text-align: left;\">\n",
    "    <b>🖊️ Analisis :</b> \n",
    "Hasil yang terjadi adalah terjadinya perubahan kemampuan yang lebih cepat untuk emncapai string untuk solusi dari target. Jadi hal ini menunjukkan bahwa penyesuaian probabilitas dapat mempengaruhi algoritma genetika\n",
    "</div>"
   ]
  }
 ],
 "metadata": {
  "kernelspec": {
   "display_name": "Python 3",
   "language": "python",
   "name": "python3"
  },
  "language_info": {
   "codemirror_mode": {
    "name": "ipython",
    "version": 3
   },
   "file_extension": ".py",
   "mimetype": "text/x-python",
   "name": "python",
   "nbconvert_exporter": "python",
   "pygments_lexer": "ipython3",
   "version": "3.10.7"
  }
 },
 "nbformat": 4,
 "nbformat_minor": 2
}
