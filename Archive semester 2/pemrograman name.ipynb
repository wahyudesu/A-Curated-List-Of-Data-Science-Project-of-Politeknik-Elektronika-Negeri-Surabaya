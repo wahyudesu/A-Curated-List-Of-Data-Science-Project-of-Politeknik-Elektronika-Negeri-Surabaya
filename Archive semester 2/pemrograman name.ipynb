{
  "cells": [
    {
      "cell_type": "markdown",
      "id": "TPHpozd-o-z1",
      "metadata": {
        "id": "TPHpozd-o-z1"
      },
      "source": [
        "<h1><center>Praktikum Pemrograman 2</center></h1>\n",
        "<h2><center>Dosen Pengampu Bu Tri Hadiah Muliawati S.ST., M. Kom\t</center></h2>"
      ]
    },
    {
      "cell_type": "markdown",
      "id": "b31de9f2",
      "metadata": {},
      "source": [
        "#"
      ]
    },
    {
      "cell_type": "markdown",
      "id": "3414283c",
      "metadata": {},
      "source": [
        "# "
      ]
    },
    {
      "cell_type": "markdown",
      "id": "ee05f350",
      "metadata": {},
      "source": [
        "#"
      ]
    },
    {
      "cell_type": "markdown",
      "id": "3001cc80",
      "metadata": {},
      "source": [
        "<img src=\"logo pens.png\" \n",
        "        alt=\"Picture\" \n",
        "        width=\"380\" \n",
        "        height=\"380\" \n",
        "        style=\"display: block; margin: 0 auto\" />"
      ]
    },
    {
      "cell_type": "markdown",
      "id": "09b62cfb",
      "metadata": {},
      "source": [
        "#"
      ]
    },
    {
      "cell_type": "markdown",
      "id": "6451940d",
      "metadata": {},
      "source": [
        "#"
      ]
    },
    {
      "cell_type": "markdown",
      "id": "e3d8a4e1",
      "metadata": {},
      "source": [
        "#"
      ]
    },
    {
      "cell_type": "markdown",
      "id": "ef79066c",
      "metadata": {},
      "source": [
        "# "
      ]
    },
    {
      "cell_type": "markdown",
      "id": "50301ba9",
      "metadata": {},
      "source": [
        "#"
      ]
    },
    {
      "cell_type": "markdown",
      "id": "oc8Pzy5CpE76",
      "metadata": {
        "id": "oc8Pzy5CpE76"
      },
      "source": [
        "<h4><center>Wahyu Ikbal Maulana</center></h4>\n",
        "\n",
        "<h4><center>3323600056</center></h4>\n",
        "\n",
        "<h4><center>D4 SDT B</center></h4>\n",
        "\n",
        "<h2><center>Politeknik Elektronika Negeri Surabaya</center></h2>\n",
        "  ‎ \n"
      ]
    },
    {
      "cell_type": "markdown",
      "id": "196f473c",
      "metadata": {},
      "source": []
    },
    {
      "cell_type": "markdown",
      "id": "815048eb",
      "metadata": {},
      "source": [
        "# Exercise 2"
      ]
    },
    {
      "cell_type": "markdown",
      "id": "6ef5b10d",
      "metadata": {
        "vscode": {
          "languageId": "python"
        }
      },
      "source": [
        "### Kode yang salah"
      ]
    },
    {
      "cell_type": "code",
      "execution_count": 1,
      "id": "bc5253fd",
      "metadata": {},
      "outputs": [
        {
          "name": "stdout",
          "output_type": "stream",
          "text": [
            "PERPUSTAKAAN MILIK KITA SEMUA\n",
            "=*=*=*=*=*=*=*=*=*=*=*=*=*=*=*=*=*=*=*=*=*=*=*=*=*=*=*=*=*=*\n",
            "\n",
            "1. Tambah buku\n",
            "2. Cetak daftar buku\n",
            "3. Keluar\n",
            "Buku berjudul \" 2 \" berhasil ditambahkan\n",
            "\n",
            "1. Tambah buku\n",
            "2. Cetak daftar buku\n",
            "3. Keluar\n"
          ]
        },
        {
          "ename": "ValueError",
          "evalue": "invalid literal for int() with base 10: ''",
          "output_type": "error",
          "traceback": [
            "\u001b[1;31m---------------------------------------------------------------------------\u001b[0m",
            "\u001b[1;31mValueError\u001b[0m                                Traceback (most recent call last)",
            "Cell \u001b[1;32mIn [1], line 14\u001b[0m\n\u001b[0;32m     12\u001b[0m \u001b[38;5;28;01mwhile\u001b[39;00m \u001b[38;5;28;01mTrue\u001b[39;00m:\n\u001b[0;32m     13\u001b[0m     \u001b[38;5;28mprint\u001b[39m(\u001b[38;5;124m'\u001b[39m\u001b[38;5;130;01m\\n\u001b[39;00m\u001b[38;5;124m1. Tambah buku\u001b[39m\u001b[38;5;130;01m\\n\u001b[39;00m\u001b[38;5;124m2. Cetak daftar buku\u001b[39m\u001b[38;5;130;01m\\n\u001b[39;00m\u001b[38;5;124m3. Keluar\u001b[39m\u001b[38;5;124m'\u001b[39m) \n\u001b[1;32m---> 14\u001b[0m     p \u001b[38;5;241m=\u001b[39m \u001b[38;5;28;43mint\u001b[39;49m\u001b[43m(\u001b[49m\u001b[38;5;28;43minput\u001b[39;49m\u001b[43m(\u001b[49m\u001b[38;5;124;43m'\u001b[39;49m\u001b[38;5;124;43mMasukkan pilihan: \u001b[39;49m\u001b[38;5;124;43m'\u001b[39;49m\u001b[43m)\u001b[49m\u001b[43m)\u001b[49m\n\u001b[0;32m     15\u001b[0m     \u001b[38;5;28;01mif\u001b[39;00m \u001b[38;5;129;01mnot\u001b[39;00m (\u001b[38;5;241m1\u001b[39m \u001b[38;5;241m<\u001b[39m\u001b[38;5;241m=\u001b[39m p \u001b[38;5;241m<\u001b[39m\u001b[38;5;241m=\u001b[39m \u001b[38;5;241m3\u001b[39m):\n\u001b[0;32m     16\u001b[0m         \u001b[38;5;28mprint\u001b[39m(\u001b[38;5;124m'\u001b[39m\u001b[38;5;124mPilihan tidak tersedia. Silahkan ulangi lagi.\u001b[39m\u001b[38;5;124m'\u001b[39m)\n",
            "\u001b[1;31mValueError\u001b[0m: invalid literal for int() with base 10: ''"
          ]
        }
      ],
      "source": [
        "def hapus_katalog (judul, penulis, daftarbukutersayangku):\n",
        "    if judul not in daftarbukutersayangku.keys():\n",
        "        daftarbukutersayangku [judul] = penulis\n",
        "        print('Buku berjudul \"', judul.title(), '\" berhasil ditambahkan')\n",
        "    else:\n",
        "        print('Buku berjudul \"', judul.title(), '\"tidak berhasil ditambahkan karena sudah terdapat di katalog')\n",
        "        \n",
        "print('perpustakaan milik kita semua'.upper())\n",
        "print('=*'*30)\n",
        "katalog = {}\n",
        "\n",
        "while True:\n",
        "    print('\\n1. Tambah buku\\n2. Cetak daftar buku\\n3. Keluar') \n",
        "    p = int(input('Masukkan pilihan: '))\n",
        "    if not (1 <= p <= 3):\n",
        "        print('Pilihan tidak tersedia. Silahkan ulangi lagi.')\n",
        "        continue\n",
        "    elif p == 1:\n",
        "        judulbuku = input('Masukkan judul buku: ')\n",
        "        author = input('Masukkan nama penulis buku: ')\n",
        "        hapus_katalog(judulbuku.lower(), author, katalog)\n",
        "    elif p == 2:\n",
        "        if len(katalog.keys()) == 0:\n",
        "            print('Belum ada buku yang tersedia')\n",
        "            continue\n",
        "        nomor = 1\n",
        "        print('Daftar buku yang tersedia') \n",
        "        print('=========================')\n",
        "        for judul, penulis in katalog.items():\n",
        "            print(nomor, judul.capitalize(), '\\t', penulis.title()) \n",
        "            nomor += 1\n",
        "    else:\n",
        "        break"
      ]
    },
    {
      "cell_type": "markdown",
      "id": "65dbfe45",
      "metadata": {},
      "source": [
        "### Kode yang benar"
      ]
    },
    {
      "cell_type": "code",
      "execution_count": null,
      "id": "8e6a5673",
      "metadata": {},
      "outputs": [],
      "source": [
        "def hapus_katalog (judul, penulis, daftar_buku):\n",
        "    if judul not in daftar_buku.keys():\n",
        "        daftar_buku [judul] = penulis\n",
        "        print('Buku berjudul \"', judul.title(), '\" berhasil ditambahkan')\n",
        "    else:\n",
        "        print('Buku berjudul \"', judul.title(), '\"tidak berhasil ditambahkan karena sudah terdapat di katalog')\n",
        "        \n",
        "print('perpustakaan milik kita semua'.upper())\n",
        "print('=*'*30)\n",
        "katalog = {}\n",
        "\n",
        "while True:\n",
        "    print('\\n1. Tambah buku\\n2. Cetak daftar buku\\n3. Keluar') \n",
        "    pilihan = int(input('Masukkan pilihan: '))\n",
        "    if not (1 <= pilihan <= 3):\n",
        "        print('Pilihan tidak tersedia. Silahkan ulangi lagi.')\n",
        "        continue\n",
        "    elif pilihan == 1:\n",
        "        judul_buku = input('Masukkan judul buku: ')\n",
        "        author = input('Masukkan nama penulis buku: ')\n",
        "        hapus_katalog(judul_buku.lower(), author, katalog)\n",
        "    elif pilihan == 2:\n",
        "        if len(katalog.keys()) == 0:\n",
        "            print('Belum ada buku yang tersedia')\n",
        "            continue\n",
        "        nomor = 1\n",
        "        print('Daftar buku yang tersedia') \n",
        "        print('=========================')\n",
        "        for judul, penulis in katalog.items():\n",
        "            print(nomor, judul.capitalize(), '\\t', penulis.title()) \n",
        "            nomor += 1\n",
        "    else:\n",
        "        break"
      ]
    },
    {
      "cell_type": "markdown",
      "id": "b494781a",
      "metadata": {},
      "source": [
        "<div style=\"border-radius: 10px; border: #0ea5e9 solid; padding: 15px; background-color: #ffffff00; font-size: 100%; text-align: left;\">\n",
        "    <b>🖊️ Alasan :</b>\n",
        "Penamaan fungsi harus mendeskripsikan apa kegunaan dari fungsi tersebut pada fungsi hapus_katalog, fungsi tersebut justru digunakan untuk menambah katalog bukan menghapus katalog.\n",
        "\n",
        "Penamaan variable pada parameter fungsi hapus_katalog yakni pada daftarbukutersayangku seharusnya bisa perkata dipisahkan dengan underscore atau nama variable bisa lebih diperefektifkan menjadi daftar_buku\n",
        "\n",
        "Penamaan variable dictionary yang hanya katalog kurang mendeskripsikan isi atau guna variable tersebut mengselaraskan nama variable dengan parameter yang ada di fungsi hapus_katalog yakni daftar_buku\n",
        "\n",
        "Meletakan 2 baris kosong setelah fungsi hapus_katalog.\n",
        "\n",
        "Penamaan variable judulbuku seharusnya perkata dipisahkan oleh underscore, seperti judul_buku.\n",
        "\n",
        "Penggunaan Bahasa yang tidak konsisten pada variable author yang lebih baik diselaraskan dengan variable lainnya dan isi konten yakni berbahasa Indonesia oleh karena itu diubah nama variable sebelumnya menjadi penulis.\n",
        "\n",
        "Pemberian spasi pada oprasi aritmatika pada “=”*30 menjadi “=” * 30.\n",
        "</div>"
      ]
    },
    {
      "cell_type": "markdown",
      "id": "700d05ea",
      "metadata": {},
      "source": [
        "# Exercise 3"
      ]
    },
    {
      "cell_type": "markdown",
      "id": "45e6ce9a",
      "metadata": {},
      "source": [
        "### Kode yang salah"
      ]
    },
    {
      "cell_type": "code",
      "execution_count": null,
      "id": "3896be2e",
      "metadata": {},
      "outputs": [],
      "source": [
        "def is_empty():\n",
        "    return len(stack) == 0\n",
        "\n",
        "def is_full():\n",
        "    return len(stack) == min\n",
        "\n",
        "def TAMBAH(itm):\n",
        "    if not(is_full()):\n",
        "        stack.append(itm)\n",
        "        print(f'{itm} berhasil ditambahkan ke dalam stack')\n",
        "    else:\n",
        "        print(f'Stack penuh, {itm} tidak berhasil ditambahkan')\n",
        "\n",
        "def hapusdata():\n",
        "    if not(is_empty()):\n",
        "        itm = stack.pop()\n",
        "        print(f'{itm} berhasil dihapus dari stack')\n",
        "    else:\n",
        "        print(\"Stack kosong, tidak ada data yang bisa dihapus\")\n",
        "    \n",
        "def menu():\n",
        "    print(\"1. Tambah data\")\n",
        "    print(\"2. Hapus data\")\n",
        "    print(\"3. Tampilkan data\")\n",
        "    print(\"4. Selesai\")\n",
        "    try:\n",
        "        pil = int(input(\"Masukkan pilihan Anda: \"))\n",
        "        if not (1 <= pil <= 4):\n",
        "            raise ValueError\n",
        "        return pil\n",
        "    except ValueError:\n",
        "        print(\"Pilihan tidak sesuai\")\n",
        "\n",
        "print(\"STACK SIMULATION\")\n",
        "print(\"=*\"*10)\n",
        "while True:\n",
        "    try:\n",
        "        min = int(input(\"Masukkan ukuran maksimum stack yang diinginkan: \"))\n",
        "        if min > 0:\n",
        "            stack = []\n",
        "            break\n",
        "    except ValueError:\n",
        "        print(\"Masukkan bilangan bulat\")\n",
        "\n",
        "while True:\n",
        "    pilihan = menu()\n",
        "    if pilihan == 1:\n",
        "        i = input(\"Masukkan data yang akan ditambahkan: \")\n",
        "        TAMBAH(i)\n",
        "    elif pilihan == 2:\n",
        "        hapusdata()\n",
        "    elif pilihan == 3:\n",
        "        print(stack)\n",
        "    elif pilihan == 4:\n",
        "        print(\"Program selesai\")\n",
        "        break"
      ]
    },
    {
      "cell_type": "markdown",
      "id": "26d4724c",
      "metadata": {},
      "source": [
        "### Kode yang benar"
      ]
    },
    {
      "cell_type": "code",
      "execution_count": null,
      "id": "17e1dcf1",
      "metadata": {},
      "outputs": [],
      "source": [
        "def is_empty():\n",
        "    return len(stack) == 0\n",
        "\n",
        "def is_full():\n",
        "    return len(stack) == ukuran_maksimum\n",
        "\n",
        "def tambah_data(item):\n",
        "    if not(is_full()):\n",
        "        stack.append(item)\n",
        "        print(f'{item} berhasil ditambahkan ke dalam stack')\n",
        "    else:\n",
        "        print(f'Stack penuh, {item} tidak berhasil ditambahkan')\n",
        "\n",
        "def hapus_data():\n",
        "    if not(is_empty()):\n",
        "        item = stack.pop()\n",
        "        print(f'{item} berhasil dihapus dari stack')\n",
        "    else:\n",
        "        print(\"Stack kosong, tidak ada data yang bisa dihapus\")\n",
        "    \n",
        "def menu():\n",
        "    print(\"1. Tambah data\")\n",
        "    print(\"2. Hapus data\")\n",
        "    print(\"3. Tampilkan data\")\n",
        "    print(\"4. Selesai\")\n",
        "    try:\n",
        "        pilihan = int(input(\"Masukkan pilihan Anda: \"))\n",
        "        if not (1 <= pilihan <= 4):\n",
        "            raise ValueError\n",
        "        return pilihan\n",
        "    except ValueError:\n",
        "        print(\"Pilihan tidak sesuai\")\n",
        "\n",
        "print(\"STACK SIMULATION\")\n",
        "print(\"=*\"*10)\n",
        "while True:\n",
        "    try:\n",
        "        ukuran_maksimum = int(input(\"Masukkan ukuran maksimum stack yang diinginkan: \"))\n",
        "        if ukuran_maksimum > 0:\n",
        "            stack = []\n",
        "            break\n",
        "    except ValueError:\n",
        "        print(\"Masukkan bilangan bulat\")\n",
        "\n",
        "while True:\n",
        "    pilihan = menu()\n",
        "    if pilihan == 1:\n",
        "        input_data = input(\"Masukkan data yang akan ditambahkan: \")\n",
        "        tambah_data(i)\n",
        "    elif pilihan == 2:\n",
        "        hapus_data()\n",
        "    elif pilihan == 3:\n",
        "        print(stack)\n",
        "    elif pilihan == 4:\n",
        "        print(\"Program selesai\")\n",
        "        break"
      ]
    },
    {
      "cell_type": "markdown",
      "id": "287ab2bc",
      "metadata": {},
      "source": [
        "<div style=\"border-radius: 10px; border: #0ea5e9 solid; padding: 15px; background-color: #ffffff00; font-size: 100%; text-align: left;\">\n",
        "    <b>🖊️ Analisis :</b>\n",
        "    \n",
        "1.\tTerdapat kesalahan pada penulisan variabel (TAMBAH), karena variabel (TAMBAH) tidak sesuai dengan aturan yang terdapat di PEP8 yaitu penulisan variabel harus menggunakan huruf kecil dan nama variabel dari fungsi harus merupakan kata kerja oleh karena itu disarankan untuk menggantinya dengan menggunakan variabel lain, seperti (tambah_data) atau (tambahData).\n",
        "\n",
        "2.\tTerdapat kesalahan pada penulisan variabel (hapusdata), karena variabel (hapusdata) tidak sesuai dengan aturan yang terdapat di PEP8 yaitu penulisan variabel tersebut harus mengikuti aturannya seperti Snake Case atau Camel Case oleh karena itu disarankan untuk menggantinya dengan menggunakan variabel lain, seperti (hapus_data) atau (hapusData).\n",
        "\n",
        "3.\tTerdapat kesalahan pada penulisan variabel (itm), karena variabel (itm) tidak sesuai dengan aturan yang terdapat di Naming Convention yaitu Use Pronounceable Name dan Make Meaningful Distinction karena variabel (itm) tidak bisa mempunyai arti dan tidak bisa diucapkan dengan baku oleh karena itu disarankan untuk menggantinya dengan menggunakan variabel lain, seperti (item).\n",
        "\n",
        "4.\tTerdapat kesalahan pada penulisan variabel (pil), karena variabel (pil) tidak sesuai dengan aturan yang terdapat di Naming Convention yaitu Use Pronounceable Name dan Make Meaningful Distinction karena variabel (pil) tidak bisa mempunyai arti dan tidak bisa diucapkan dengan baku oleh karena itu disarankan untuk menggantinya dengan menggunakan variabel lain, seperti (pilihan).\n",
        "\n",
        "5.\tTerdapat kesalahan pada penulisan variabel (i), karena variabel (i) tidak sesuai dengan aturan yang terdapat di Naming Convention yaitu Make Meaningful Distinction dan Use Intention Revealing Name karena variabel (i) tidak mempunyai arti dan apabila ingin menggantinya maka semua kalimat yang terdapat huruf “i” akan ikut berubah oleh karena itu disarankan untuk menggantinya dengan menggunakan variabel lain, seperti (data).\n",
        "</div>"
      ]
    },
    {
      "cell_type": "markdown",
      "id": "68ee868e",
      "metadata": {},
      "source": [
        "# Exercise 4"
      ]
    },
    {
      "cell_type": "markdown",
      "id": "a9a00f97",
      "metadata": {},
      "source": [
        "### Kode yang salah"
      ]
    },
    {
      "cell_type": "code",
      "execution_count": null,
      "id": "e227b612",
      "metadata": {},
      "outputs": [],
      "source": [
        "import math\n",
        "\n",
        "print(\"Menghitung luas lingkaran\")\n",
        "\n",
        "def hitung_luas_lingkaran(r):\n",
        "    return math.pi * r * r\n",
        "\n",
        "jari_jari_jari = float(input(\"Masukkan panjang jari-jari lingkaran: \"))\n",
        "lwas = hitung_luas_lingkaran(jari_jari)\n",
        "\n",
        "print(\"Luas lingkaran adalah:\", round(lwas, 2))"
      ]
    },
    {
      "cell_type": "markdown",
      "id": "468e4182",
      "metadata": {},
      "source": [
        "<div style=\"border-radius: 10px; border: #0ea5e9 solid; padding: 15px; background-color: #ffffff00; font-size: 100%; text-align: left;\">\n",
        "    <b>🖊️ Alasan :</b>\n",
        "    \n",
        "- Terdapat kesalahan pada penulisan variabel (menghitung luas luas lingkaran), karena variabel tidak sesuai dengan aturan <b>Naming Convention</b> yaitu <b>Use Solution and Problem Domain Name</b>\n",
        "\n",
        "- Terdapat kesalahan pada penulisan variabel (lwas) dan (jari_jari_jari), karena variabel (lwas) dan (jari_jari_jari) tidak sesuai dengan aturan yang terdapat di Naming Convention yaitu Use Pronounceable Name dan Make Meaningful Distinction karena variabel (lwas) tidak bisa mempunyai arti dan tidak bisa diucapkan dengan baku oleh karena itu disarankan untuk menggantinya dengan menggunakan variabel lain, seperti (luas).\n",
        "\n",
        "</div>"
      ]
    },
    {
      "cell_type": "markdown",
      "id": "4c81599c",
      "metadata": {},
      "source": []
    }
  ],
  "metadata": {
    "colab": {
      "provenance": []
    },
    "kernelspec": {
      "display_name": "Python 3",
      "language": "python",
      "name": "python3"
    },
    "language_info": {
      "codemirror_mode": {
        "name": "ipython",
        "version": 3
      },
      "file_extension": ".py",
      "mimetype": "text/x-python",
      "name": "python",
      "nbconvert_exporter": "python",
      "pygments_lexer": "ipython3",
      "version": "3.10.7"
    }
  },
  "nbformat": 4,
  "nbformat_minor": 5
}
