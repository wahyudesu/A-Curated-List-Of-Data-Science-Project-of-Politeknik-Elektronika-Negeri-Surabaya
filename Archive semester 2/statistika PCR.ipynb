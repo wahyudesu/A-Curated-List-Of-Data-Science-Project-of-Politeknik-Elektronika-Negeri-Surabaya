{
  "cells": [
    {
      "cell_type": "markdown",
      "id": "TPHpozd-o-z1",
      "metadata": {
        "id": "TPHpozd-o-z1"
      },
      "source": [
        "<h1><center>Praktikum Pemodelan Statistika terapan</center></h1>\n",
        "<h1><center><b>PCR</b></center></h1>\n",
        "<h2><center>Dosen Pengampu Ronny Sutsetyoko</center></h2>"
      ]
    },
    {
      "cell_type": "markdown",
      "id": "b14843c5",
      "metadata": {},
      "source": [
        "#"
      ]
    },
    {
      "cell_type": "markdown",
      "id": "3001cc80",
      "metadata": {},
      "source": [
        "<img src=\"logo pens.png\" \n",
        "        alt=\"Picture\" \n",
        "        width=\"380\" \n",
        "        height=\"380\" \n",
        "        style=\"display: block; margin: 0 auto\" />"
      ]
    },
    {
      "cell_type": "markdown",
      "id": "09b62cfb",
      "metadata": {},
      "source": [
        "#"
      ]
    },
    {
      "cell_type": "markdown",
      "id": "50301ba9",
      "metadata": {},
      "source": [
        "#"
      ]
    },
    {
      "cell_type": "markdown",
      "id": "465d6440",
      "metadata": {},
      "source": [
        "#"
      ]
    },
    {
      "cell_type": "markdown",
      "id": "7887b656",
      "metadata": {},
      "source": [
        "#"
      ]
    },
    {
      "cell_type": "markdown",
      "id": "oc8Pzy5CpE76",
      "metadata": {
        "id": "oc8Pzy5CpE76"
      },
      "source": [
        "<h4><center>Wahyu Ikbal Maulana</center></h4>\n",
        "\n",
        "<h4><center>3323600056</center></h4>\n",
        "\n",
        "<h4><center>D4 SDT B</center></h4>\n",
        "\n",
        "<h2><center>Politeknik Elektronika Negeri Surabaya</center></h2>\n",
        "  ‎ \n"
      ]
    },
    {
      "cell_type": "markdown",
      "id": "196f473c",
      "metadata": {},
      "source": []
    },
    {
      "cell_type": "markdown",
      "id": "74a7c7d8",
      "metadata": {},
      "source": []
    },
    {
      "cell_type": "markdown",
      "id": "085e2d88",
      "metadata": {},
      "source": []
    },
    {
      "cell_type": "markdown",
      "id": "f0e8af47",
      "metadata": {},
      "source": [
        "## Percobaan ke-1: Studi Kasus 1"
      ]
    },
    {
      "cell_type": "code",
      "execution_count": null,
      "id": "65c2e063",
      "metadata": {
        "vscode": {
          "languageId": "r"
        }
      },
      "outputs": [],
      "source": [
        "data = read.csv(\"bodyfat-reduced.csv\")\n",
        "head(data)"
      ]
    },
    {
      "cell_type": "code",
      "execution_count": null,
      "id": "b963e55f",
      "metadata": {
        "vscode": {
          "languageId": "r"
        }
      },
      "outputs": [],
      "source": [
        "model = lm(BodyFat~., data = data)\n",
        "summary(model)"
      ]
    },
    {
      "cell_type": "markdown",
      "id": "4ea9031d",
      "metadata": {},
      "source": [
        "<div style=\"border-radius: 10px; border: #0ea5e9 solid; padding: 15px; background-color: #ffffff00; font-size: 100%; text-align: left;\">\n",
        "    <b>🖊️ Analisis :</b> Dalam regresi logistik multinomial memakai library nnet, menghasilkan model training yang mengiterasi optimisasi train model. Optimisasi tersebut bertujual untuk meminimalkan fungsi objektivitas untuk menemukan model parameter yang optimal. Optimisasi terhenti setelah mencapai kriteria convergence, saat dimana improvisasi objek sudah kecil dan maksimum iterasi tercapai. Nilai AIC yang cenderung rendah menunjukkan bahwa model memiliki kualitas yang baik.\n",
        "</div>"
      ]
    },
    {
      "cell_type": "code",
      "execution_count": null,
      "id": "de77583f",
      "metadata": {
        "vscode": {
          "languageId": "r"
        }
      },
      "outputs": [],
      "source": [
        "data_baru = data[,-1]\n",
        "data_baru.pca = prcomp(data_baru, center = TRUE, scale = TRUE)\n",
        "plot(data_baru.pca, type=\"l\")"
      ]
    },
    {
      "cell_type": "code",
      "execution_count": null,
      "id": "33400b7f",
      "metadata": {
        "vscode": {
          "languageId": "r"
        }
      },
      "outputs": [],
      "source": [
        "summary(data_baru.pca)"
      ]
    },
    {
      "cell_type": "markdown",
      "id": "43f71607",
      "metadata": {},
      "source": [
        "<div style=\"border-radius: 10px; border: #0ea5e9 solid; padding: 15px; background-color: #ffffff00; font-size: 100%; text-align: left;\">\n",
        "    <b>🖊️ Analisis :</b> Dalam regresi logistik multinomial memakai library nnet, menghasilkan model training yang mengiterasi optimisasi train model. Optimisasi tersebut bertujual untuk meminimalkan fungsi objektivitas untuk menemukan model parameter yang optimal. Optimisasi terhenti setelah mencapai kriteria convergence, saat dimana improvisasi objek sudah kecil dan maksimum iterasi tercapai. Nilai AIC yang cenderung rendah menunjukkan bahwa model memiliki kualitas yang baik.\n",
        "</div>"
      ]
    },
    {
      "cell_type": "code",
      "execution_count": null,
      "id": "4cbc046c",
      "metadata": {
        "vscode": {
          "languageId": "r"
        }
      },
      "outputs": [],
      "source": [
        "print(data_baru.pca$rotation)"
      ]
    },
    {
      "cell_type": "markdown",
      "id": "8da67497",
      "metadata": {},
      "source": [
        "<div style=\"border-radius: 10px; border: #0ea5e9 solid; padding: 15px; background-color: #ffffff00; font-size: 100%; text-align: left;\">\n",
        "    <b>🖊️ Analisis :</b> Dalam regresi logistik multinomial memakai library nnet, menghasilkan model training yang mengiterasi optimisasi train model. Optimisasi tersebut bertujual untuk meminimalkan fungsi objektivitas untuk menemukan model parameter yang optimal. Optimisasi terhenti setelah mencapai kriteria convergence, saat dimana improvisasi objek sudah kecil dan maksimum iterasi tercapai. Nilai AIC yang cenderung rendah menunjukkan bahwa model memiliki kualitas yang baik.\n",
        "</div>"
      ]
    },
    {
      "cell_type": "code",
      "execution_count": null,
      "id": "a141548b",
      "metadata": {
        "vscode": {
          "languageId": "r"
        }
      },
      "outputs": [],
      "source": [
        "eigen(cor(data_baru))$values\n",
        "diag(var(data_baru.pca$x[,]))"
      ]
    },
    {
      "cell_type": "code",
      "execution_count": null,
      "id": "37d08292",
      "metadata": {
        "vscode": {
          "languageId": "r"
        }
      },
      "outputs": [],
      "source": [
        "cor(data_baru.pca$x)"
      ]
    },
    {
      "cell_type": "markdown",
      "id": "13d6c5be",
      "metadata": {},
      "source": [
        "<div style=\"border-radius: 10px; border: #0ea5e9 solid; padding: 15px; background-color: #ffffff00; font-size: 100%; text-align: left;\">\n",
        "    <b>🖊️ Analisis :</b> Dalam regresi logistik multinomial memakai library nnet, menghasilkan model training yang mengiterasi optimisasi train model. Optimisasi tersebut bertujual untuk meminimalkan fungsi objektivitas untuk menemukan model parameter yang optimal. Optimisasi terhenti setelah mencapai kriteria convergence, saat dimana improvisasi objek sudah kecil dan maksimum iterasi tercapai. Nilai AIC yang cenderung rendah menunjukkan bahwa model memiliki kualitas yang baik.\n",
        "</div>"
      ]
    },
    {
      "cell_type": "code",
      "execution_count": null,
      "id": "00f936ed",
      "metadata": {
        "vscode": {
          "languageId": "r"
        }
      },
      "outputs": [],
      "source": [
        "cor(cbind(data[,-1],data.frame(data_baru.pca$x)))"
      ]
    },
    {
      "cell_type": "code",
      "execution_count": null,
      "id": "7f286c3d",
      "metadata": {
        "vscode": {
          "languageId": "r"
        }
      },
      "outputs": [],
      "source": [
        "data.pca = cbind(data[,1],data.frame(data_baru.pca$x))\n",
        "colnames(data.pca)[1] = \"BodyFat\"\n",
        "cor(data.pca)[,1]"
      ]
    },
    {
      "cell_type": "markdown",
      "id": "5d246266",
      "metadata": {},
      "source": [
        "<div style=\"border-radius: 10px; border: #0ea5e9 solid; padding: 15px; background-color: #ffffff00; font-size: 100%; text-align: left;\">\n",
        "    <b>🖊️ Analisis :</b> Dalam regresi logistik multinomial memakai library nnet, menghasilkan model training yang mengiterasi optimisasi train model. Optimisasi tersebut bertujual untuk meminimalkan fungsi objektivitas untuk menemukan model parameter yang optimal. Optimisasi terhenti setelah mencapai kriteria convergence, saat dimana improvisasi objek sudah kecil dan maksimum iterasi tercapai. Nilai AIC yang cenderung rendah menunjukkan bahwa model memiliki kualitas yang baik.\n",
        "</div>"
      ]
    },
    {
      "cell_type": "code",
      "execution_count": null,
      "id": "76efc451",
      "metadata": {
        "vscode": {
          "languageId": "r"
        }
      },
      "outputs": [],
      "source": [
        "data.pcr1 = lm(BodyFat~., data = data.pca)\n",
        "summary(data.pcr1)"
      ]
    },
    {
      "cell_type": "code",
      "execution_count": null,
      "id": "a9154139",
      "metadata": {
        "vscode": {
          "languageId": "r"
        }
      },
      "outputs": [],
      "source": [
        "koef1 = data_baru.pca$rotation %*% data.pcr1$coefficients[-1]\n",
        "koef1"
      ]
    },
    {
      "cell_type": "code",
      "execution_count": null,
      "id": "1348825f",
      "metadata": {
        "vscode": {
          "languageId": "r"
        }
      },
      "outputs": [],
      "source": [
        "anova(data.pcr1,data.pcr2)"
      ]
    },
    {
      "cell_type": "markdown",
      "id": "8f21ba06",
      "metadata": {},
      "source": [
        "<div style=\"border-radius: 10px; border: #0ea5e9 solid; padding: 15px; background-color: #ffffff00; font-size: 100%; text-align: left;\">\n",
        "    <b>🖊️ Analisis :</b> Regresi multinomial memprediksi probabilitas pengamatan tertentu untuk menjadi bagian dari kelas tertentu. Kolom mewakili tingkat klasifikasi dan baris mewakili pengamatan. 20 baris pertama terklasifikasi sebagai carsinoma dan 20 baris terakhir tergolong sebagai adipose\n",
        "</div>"
      ]
    },
    {
      "cell_type": "code",
      "execution_count": null,
      "id": "055c4189",
      "metadata": {
        "vscode": {
          "languageId": "r"
        }
      },
      "outputs": [],
      "source": [
        "library(leaps)\n",
        "model_best = regsubsets(BodyFat~., data=data.pca, method = \"exhaustive\") library(car)\n",
        "subsets(model_best, statistic=\"bic\", ylim=c(-305,-280))"
      ]
    },
    {
      "cell_type": "code",
      "execution_count": null,
      "metadata": {
        "vscode": {
          "languageId": "r"
        }
      },
      "outputs": [],
      "source": [
        "model_full = data.pcr1$coefficients[-1] model_full[\"PC3\"] = 0\n",
        "model_full[\"PC6\"] = 0\n",
        "koef2 = data_baru.pca$rotation %*% model_full koef2"
      ]
    },
    {
      "cell_type": "markdown",
      "id": "b67fd9b5",
      "metadata": {},
      "source": [
        "<div style=\"border-radius: 10px; border: #0ea5e9 solid; padding: 15px; background-color: #ffffff00; font-size: 100%; text-align: left;\">\n",
        "    <b>🖊️ Analisis :</b> Regresi multinomial memprediksi probabilitas pengamatan tertentu untuk menjadi bagian dari kelas tertentu. Kolom mewakili tingkat klasifikasi dan baris mewakili pengamatan. 20 baris pertama terklasifikasi sebagai carsinoma dan 20 baris terakhir tergolong sebagai adipose\n",
        "</div>"
      ]
    }
  ],
  "metadata": {
    "colab": {
      "provenance": []
    },
    "kernelspec": {
      "display_name": "R",
      "language": "R",
      "name": "ir"
    },
    "language_info": {
      "codemirror_mode": "r",
      "file_extension": ".r",
      "mimetype": "text/x-r-source",
      "name": "R",
      "pygments_lexer": "r",
      "version": "4.3.1"
    }
  },
  "nbformat": 4,
  "nbformat_minor": 5
}
