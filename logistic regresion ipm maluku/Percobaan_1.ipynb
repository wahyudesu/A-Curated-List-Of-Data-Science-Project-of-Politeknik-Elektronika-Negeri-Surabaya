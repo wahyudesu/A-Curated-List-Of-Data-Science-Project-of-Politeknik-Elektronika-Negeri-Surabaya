{
 "cells": [
  {
   "cell_type": "markdown",
   "metadata": {},
   "source": []
  },
  {
   "cell_type": "markdown",
   "metadata": {},
   "source": [
    "<h1><center>Praktikum Pemodelan Statistika Terapan</center></h1>\n",
    "<h2><center>Dosen Pengampu Ronny Sutsetyoko</center></h2>"
   ]
  },
  {
   "cell_type": "markdown",
   "metadata": {},
   "source": []
  },
  {
   "cell_type": "markdown",
   "metadata": {},
   "source": []
  },
  {
   "cell_type": "markdown",
   "metadata": {},
   "source": []
  },
  {
   "cell_type": "markdown",
   "metadata": {},
   "source": [
    "<img src=\"logo pens.png\" \n",
    "        alt=\"Picture\" \n",
    "        width=\"380\" \n",
    "        height=\"380\" \n",
    "        style=\"display: block; margin: 0 auto\" />"
   ]
  },
  {
   "cell_type": "markdown",
   "metadata": {},
   "source": []
  },
  {
   "cell_type": "markdown",
   "metadata": {},
   "source": []
  },
  {
   "cell_type": "markdown",
   "metadata": {},
   "source": []
  },
  {
   "cell_type": "markdown",
   "metadata": {},
   "source": []
  },
  {
   "cell_type": "markdown",
   "metadata": {},
   "source": []
  },
  {
   "cell_type": "markdown",
   "metadata": {},
   "source": [
    "<h3><center>Wahyu Ikbal Maulana</center></h3>\n",
    "\n",
    "<h3><center>3323600056</center></h3>\n",
    "\n",
    "<h3><center>D3 SDT B</center></h3>\n",
    "\n",
    "<h1><center>Politeknik Elektronika Negeri Surabaya</center></h1>\n",
    "  ‎ \n"
   ]
  },
  {
   "cell_type": "markdown",
   "metadata": {},
   "source": []
  },
  {
   "cell_type": "markdown",
   "metadata": {},
   "source": [
    "# Percobaan 1"
   ]
  },
  {
   "cell_type": "markdown",
   "metadata": {},
   "source": [
    "Studi dari World Values Surveys adalah untuk melihat faktor-faktor yang memengaruhi persepsi masyarakat tentang upaya pemerintah untuk  mengurangi  kemiskinan. Tujuannya  adalah  untuk memprediksi  persepsi  individu  tentang  upaya  pemerintah  untuk mengurangi  kemiskinan  berdasarkan  faktor-faktor  seperti kemiskinan, agama, negara, gelar, jenis kelamin, dan usia. Dalam studi kasus yang diberikan, persepsi individu dapat mengambil tiga nilai berikut - Terlalu Sedikit, Tentang Benar, Terlalu Banyak.\n",
    "\n",
    "Untuk analisis ini digunakan data dari World Values Surveys  untuk beberapa negara, yaitu Australia, Norwegia, Swedia, dan Amerika Serikat dari paket 'carData' di R."
   ]
  },
  {
   "cell_type": "code",
   "execution_count": 1,
   "metadata": {
    "vscode": {
     "languageId": "r"
    }
   },
   "outputs": [
    {
     "name": "stderr",
     "output_type": "stream",
     "text": [
      "Warning message:\n",
      "\"package 'carData' was built under R version 4.3.2\"\n"
     ]
    },
    {
     "data": {
      "text/html": [
       "<table class=\"dataframe\">\n",
       "<caption>A data.frame: 6 × 6</caption>\n",
       "<thead>\n",
       "\t<tr><th></th><th scope=col>poverty</th><th scope=col>religion</th><th scope=col>degree</th><th scope=col>country</th><th scope=col>age</th><th scope=col>gender</th></tr>\n",
       "\t<tr><th></th><th scope=col>&lt;ord&gt;</th><th scope=col>&lt;fct&gt;</th><th scope=col>&lt;fct&gt;</th><th scope=col>&lt;fct&gt;</th><th scope=col>&lt;int&gt;</th><th scope=col>&lt;fct&gt;</th></tr>\n",
       "</thead>\n",
       "<tbody>\n",
       "\t<tr><th scope=row>1</th><td>Too Little </td><td>yes</td><td>no </td><td>USA</td><td>44</td><td>male  </td></tr>\n",
       "\t<tr><th scope=row>2</th><td>About Right</td><td>yes</td><td>no </td><td>USA</td><td>40</td><td>female</td></tr>\n",
       "\t<tr><th scope=row>3</th><td>Too Little </td><td>yes</td><td>no </td><td>USA</td><td>36</td><td>female</td></tr>\n",
       "\t<tr><th scope=row>4</th><td>Too Much   </td><td>yes</td><td>yes</td><td>USA</td><td>25</td><td>female</td></tr>\n",
       "\t<tr><th scope=row>5</th><td>Too Little </td><td>yes</td><td>yes</td><td>USA</td><td>39</td><td>male  </td></tr>\n",
       "\t<tr><th scope=row>6</th><td>About Right</td><td>yes</td><td>no </td><td>USA</td><td>80</td><td>female</td></tr>\n",
       "</tbody>\n",
       "</table>\n"
      ],
      "text/latex": [
       "A data.frame: 6 × 6\n",
       "\\begin{tabular}{r|llllll}\n",
       "  & poverty & religion & degree & country & age & gender\\\\\n",
       "  & <ord> & <fct> & <fct> & <fct> & <int> & <fct>\\\\\n",
       "\\hline\n",
       "\t1 & Too Little  & yes & no  & USA & 44 & male  \\\\\n",
       "\t2 & About Right & yes & no  & USA & 40 & female\\\\\n",
       "\t3 & Too Little  & yes & no  & USA & 36 & female\\\\\n",
       "\t4 & Too Much    & yes & yes & USA & 25 & female\\\\\n",
       "\t5 & Too Little  & yes & yes & USA & 39 & male  \\\\\n",
       "\t6 & About Right & yes & no  & USA & 80 & female\\\\\n",
       "\\end{tabular}\n"
      ],
      "text/markdown": [
       "\n",
       "A data.frame: 6 × 6\n",
       "\n",
       "| <!--/--> | poverty &lt;ord&gt; | religion &lt;fct&gt; | degree &lt;fct&gt; | country &lt;fct&gt; | age &lt;int&gt; | gender &lt;fct&gt; |\n",
       "|---|---|---|---|---|---|---|\n",
       "| 1 | Too Little  | yes | no  | USA | 44 | male   |\n",
       "| 2 | About Right | yes | no  | USA | 40 | female |\n",
       "| 3 | Too Little  | yes | no  | USA | 36 | female |\n",
       "| 4 | Too Much    | yes | yes | USA | 25 | female |\n",
       "| 5 | Too Little  | yes | yes | USA | 39 | male   |\n",
       "| 6 | About Right | yes | no  | USA | 80 | female |\n",
       "\n"
      ],
      "text/plain": [
       "  poverty     religion degree country age gender\n",
       "1 Too Little  yes      no     USA     44  male  \n",
       "2 About Right yes      no     USA     40  female\n",
       "3 Too Little  yes      no     USA     36  female\n",
       "4 Too Much    yes      yes    USA     25  female\n",
       "5 Too Little  yes      yes    USA     39  male  \n",
       "6 About Right yes      no     USA     80  female"
      ]
     },
     "metadata": {},
     "output_type": "display_data"
    }
   ],
   "source": [
    "library(carData)\n",
    "library(MASS)\n",
    "data(WVS)\n",
    "head(WVS)"
   ]
  },
  {
   "cell_type": "code",
   "execution_count": 3,
   "metadata": {
    "vscode": {
     "languageId": "r"
    }
   },
   "outputs": [
    {
     "data": {
      "text/plain": [
       "        poverty     religion   degree          country          age       \n",
       " Too Little :2708   no : 786   no :4238   Australia:1874   Min.   :18.00  \n",
       " About Right:1862   yes:4595   yes:1143   Norway   :1127   1st Qu.:31.00  \n",
       " Too Much   : 811                         Sweden   :1003   Median :43.00  \n",
       "                                          USA      :1377   Mean   :45.04  \n",
       "                                                           3rd Qu.:58.00  \n",
       "                                                           Max.   :92.00  \n",
       "    gender    \n",
       " female:2725  \n",
       " male  :2656  \n",
       "              \n",
       "              \n",
       "              \n",
       "              "
      ]
     },
     "metadata": {},
     "output_type": "display_data"
    }
   ],
   "source": [
    "summary(WVS)"
   ]
  },
  {
   "cell_type": "markdown",
   "metadata": {},
   "source": [
    "Deskripsi data:\n",
    "Kemiskinan adalah variabel dependen terdiri dari 3 kategori: too little, \n",
    "about right, too much.  Lima variabel independen berikut:\n",
    "\n",
    "\n",
    "Agama : anggota suatu agama -tidak atau ya\n",
    "\n",
    "\n",
    "Gelar : mempunyai gelar (tidak atau ya)\n",
    "\n",
    "\n",
    "Negara : Australia, Norwegia, Swedia atau Amerika Serikat\n",
    "\n",
    "\n",
    "Usia : usia (tahun)\n",
    "\n",
    "\n",
    "Jenis Kelamin : laki-laki atau perempuan"
   ]
  },
  {
   "cell_type": "markdown",
   "metadata": {},
   "source": [
    "Ringkasan Statistik"
   ]
  },
  {
   "cell_type": "code",
   "execution_count": 6,
   "metadata": {
    "vscode": {
     "languageId": "r"
    }
   },
   "outputs": [
    {
     "data": {
      "image/png": "[encoded data removed]",
      "text/plain": [
       "plot without title"
      ]
     },
     "metadata": {
      "image/png": {
       "height": 420,
       "width": 420
      }
     },
     "output_type": "display_data"
    }
   ],
   "source": [
    "library(ggplot2)\n",
    "ggplot(WVS, aes(x = poverty, y = age, fill = poverty)) +   geom_boxplot(size = .75) +   facet_grid(country ~ gender, margins = FALSE) +   theme(axis.text.x = element_text(angle = 45, hjust = 1, vjust = 1))"
   ]
  },
  {
   "cell_type": "markdown",
   "metadata": {},
   "source": [
    "Alternatif menganalisis distribusi kemiskinan berdasarkan usia, jenis kelamin, dan negara"
   ]
  },
  {
   "cell_type": "code",
   "execution_count": 8,
   "metadata": {
    "vscode": {
     "languageId": "r"
    }
   },
   "outputs": [
    {
     "data": {
      "text/plain": [
       "Call:\n",
       "polr(formula = poverty ~ religion + degree + country + age + \n",
       "    gender, data = WVS, Hess = TRUE)\n",
       "\n",
       "Coefficients:\n",
       "                 Value Std. Error t value\n",
       "religionyes    0.17973   0.077346   2.324\n",
       "degreeyes      0.14092   0.066193   2.129\n",
       "countryNorway -0.32235   0.073766  -4.370\n",
       "countrySweden -0.60330   0.079494  -7.589\n",
       "countryUSA     0.61777   0.070665   8.742\n",
       "age            0.01114   0.001561   7.139\n",
       "gendermale     0.17637   0.052972   3.329\n",
       "\n",
       "Intercepts:\n",
       "                       Value   Std. Error t value\n",
       "Too Little|About Right  0.7298  0.1041     7.0128\n",
       "About Right|Too Much    2.5325  0.1103    22.9496\n",
       "\n",
       "Residual Deviance: 10402.59 \n",
       "AIC: 10420.59 "
      ]
     },
     "metadata": {},
     "output_type": "display_data"
    }
   ],
   "source": [
    "model_fit <- polr(poverty~religion+degree+country+age+gender, data = WVS, Hess = TRUE)\n",
    "summary(model_fit)"
   ]
  },
  {
   "cell_type": "markdown",
   "metadata": {},
   "source": [
    "Model regresi logistik\n",
    "Model Regresi Logistik Odds Proporsional menggunakan fungsi polr() dari paket MASS."
   ]
  },
  {
   "cell_type": "code",
   "execution_count": 11,
   "metadata": {
    "vscode": {
     "languageId": "r"
    }
   },
   "outputs": [
    {
     "data": {
      "text/html": [
       "<table class=\"dataframe\">\n",
       "<caption>A matrix: 9 × 4 of type dbl</caption>\n",
       "<thead>\n",
       "\t<tr><th></th><th scope=col>Value</th><th scope=col>Std. Error</th><th scope=col>t value</th><th scope=col>p value</th></tr>\n",
       "</thead>\n",
       "<tbody>\n",
       "\t<tr><th scope=row>religionyes</th><td> 0.17973194</td><td>0.077346042</td><td> 2.323738</td><td>0.020</td></tr>\n",
       "\t<tr><th scope=row>degreeyes</th><td> 0.14091745</td><td>0.066193109</td><td> 2.128884</td><td>0.033</td></tr>\n",
       "\t<tr><th scope=row>countryNorway</th><td>-0.32235359</td><td>0.073766034</td><td>-4.369946</td><td>0.000</td></tr>\n",
       "\t<tr><th scope=row>countrySweden</th><td>-0.60329785</td><td>0.079493909</td><td>-7.589234</td><td>0.000</td></tr>\n",
       "\t<tr><th scope=row>countryUSA</th><td> 0.61777260</td><td>0.070664761</td><td> 8.742301</td><td>0.000</td></tr>\n",
       "\t<tr><th scope=row>age</th><td> 0.01114091</td><td>0.001560585</td><td> 7.138933</td><td>0.000</td></tr>\n",
       "\t<tr><th scope=row>gendermale</th><td> 0.17636863</td><td>0.052972253</td><td> 3.329453</td><td>0.001</td></tr>\n",
       "\t<tr><th scope=row>Too Little|About Right</th><td> 0.72976353</td><td>0.104061643</td><td> 7.012800</td><td>0.000</td></tr>\n",
       "\t<tr><th scope=row>About Right|Too Much</th><td> 2.53247870</td><td>0.110349780</td><td>22.949558</td><td>0.000</td></tr>\n",
       "</tbody>\n",
       "</table>\n"
      ],
      "text/latex": [
       "A matrix: 9 × 4 of type dbl\n",
       "\\begin{tabular}{r|llll}\n",
       "  & Value & Std. Error & t value & p value\\\\\n",
       "\\hline\n",
       "\treligionyes &  0.17973194 & 0.077346042 &  2.323738 & 0.020\\\\\n",
       "\tdegreeyes &  0.14091745 & 0.066193109 &  2.128884 & 0.033\\\\\n",
       "\tcountryNorway & -0.32235359 & 0.073766034 & -4.369946 & 0.000\\\\\n",
       "\tcountrySweden & -0.60329785 & 0.079493909 & -7.589234 & 0.000\\\\\n",
       "\tcountryUSA &  0.61777260 & 0.070664761 &  8.742301 & 0.000\\\\\n",
       "\tage &  0.01114091 & 0.001560585 &  7.138933 & 0.000\\\\\n",
       "\tgendermale &  0.17636863 & 0.052972253 &  3.329453 & 0.001\\\\\n",
       "\tToo Little\\textbar{}About Right &  0.72976353 & 0.104061643 &  7.012800 & 0.000\\\\\n",
       "\tAbout Right\\textbar{}Too Much &  2.53247870 & 0.110349780 & 22.949558 & 0.000\\\\\n",
       "\\end{tabular}\n"
      ],
      "text/markdown": [
       "\n",
       "A matrix: 9 × 4 of type dbl\n",
       "\n",
       "| <!--/--> | Value | Std. Error | t value | p value |\n",
       "|---|---|---|---|---|\n",
       "| religionyes |  0.17973194 | 0.077346042 |  2.323738 | 0.020 |\n",
       "| degreeyes |  0.14091745 | 0.066193109 |  2.128884 | 0.033 |\n",
       "| countryNorway | -0.32235359 | 0.073766034 | -4.369946 | 0.000 |\n",
       "| countrySweden | -0.60329785 | 0.079493909 | -7.589234 | 0.000 |\n",
       "| countryUSA |  0.61777260 | 0.070664761 |  8.742301 | 0.000 |\n",
       "| age |  0.01114091 | 0.001560585 |  7.138933 | 0.000 |\n",
       "| gendermale |  0.17636863 | 0.052972253 |  3.329453 | 0.001 |\n",
       "| Too Little|About Right |  0.72976353 | 0.104061643 |  7.012800 | 0.000 |\n",
       "| About Right|Too Much |  2.53247870 | 0.110349780 | 22.949558 | 0.000 |\n",
       "\n"
      ],
      "text/plain": [
       "                       Value       Std. Error  t value   p value\n",
       "religionyes             0.17973194 0.077346042  2.323738 0.020  \n",
       "degreeyes               0.14091745 0.066193109  2.128884 0.033  \n",
       "countryNorway          -0.32235359 0.073766034 -4.369946 0.000  \n",
       "countrySweden          -0.60329785 0.079493909 -7.589234 0.000  \n",
       "countryUSA              0.61777260 0.070664761  8.742301 0.000  \n",
       "age                     0.01114091 0.001560585  7.138933 0.000  \n",
       "gendermale              0.17636863 0.052972253  3.329453 0.001  \n",
       "Too Little|About Right  0.72976353 0.104061643  7.012800 0.000  \n",
       "About Right|Too Much    2.53247870 0.110349780 22.949558 0.000  "
      ]
     },
     "metadata": {},
     "output_type": "display_data"
    }
   ],
   "source": [
    "summary_table <- coef(summary(model_fit))\n",
    "pval <- pnorm(abs(summary_table[, \"t value\"]),lower.tail = FALSE)* 2\n",
    "summary_table <- cbind(summary_table, \"p value\" = round(pval,3))\n",
    "summary_table"
   ]
  },
  {
   "cell_type": "markdown",
   "metadata": {},
   "source": [
    "Karena p-value untuk semua variabel < 0,05, maka secara statistik signifikan pada 95% CI.\n",
    "Interpretasi Model Peluang Proporsional\n",
    "Untuk  menginterpretasikan  model  ini,  pertama-tama  kita  perlu memahami cara kerja model peluang proporsional.\n",
    "Misalkan J adalah jumlah total kategori dari variabel terikat dan M adalah jumlah variabel bebas (Dalam kumpulan data yang diberikan, J=3 dan M = 5).\n",
    "Rumusan matematis Model Proporsional Odds diberikan di bawah ini: Di sini, j adalah level dari kategori terurut dengan level J dan i berhubungan dengan variabel independen\n",
    "Dalam kasus kami\n",
    "j = 1 mengacu pada too little\n",
    "j = 2 mengacu pada about right\n",
    "j = 3 mengacu pada too much\n",
    "i = 1 mengacu pada 'agama'\n",
    "i = 2 mengacu pada 'gelar'\n",
    "i = 3 mengacu pada 'negara'\n",
    "i = 4 mengacu pada 'usia'\n",
    "i = 5 mengacu pada 'gender'\n",
    "Menafsirkan model statistik:\n",
    "Variabel kategoris seperti gender dapat diartikan sebagai: individu laki-laki dibandingkan dengan individu perempuan, dikaitkan dengan kemungkinan yang lebih tinggi untuk memiliki persepsi positif tentang upaya pemerintah untuk mengurangi kemiskinan. Nilai t lebih besar dari 2 dan oleh karena itu signifikan secara statistik pada tingkat 5%.\n",
    "\n",
    "Variabel kontinyu seperti usia dapat diartikan sbb:\n",
    "Dengan bertambahnya satu satuan usia log of odds memiliki persepsi positif  tentang  upaya  pemerintah  untuk  mengurangi  kemiskinan meningkat sebesar 0,011.\n",
    "Intersep:\n",
    "Secara matematis, intersep “too little | about right” sesuai dengan logit[P(Y ≤ 1)]. Ini dapat diartikan sebagai log of odds percaya bahwa pemerintah  melakukan  'Terlalu  Sedikit'  versus  percaya  bahwa pemerintah melakukan ‘about right' atau ‘too much’.\n",
    "Demikian  pula,  intersep  ‘about  right |  too  much’ sesuai  dengan logit[P(Y ≤ 2)]. Ini dapat diartikan sebagai log of odds percaya bahwa pemerintah melakukan  too little atau about right versus percaya bahwa pemerintah melakukan too much\n",
    "Membuat prediksi pada data baru\n",
    "Katakanlah kita ingin memprediksi probabilitas yang sesuai dengan setiap  persepsi  untuk  seorang  individu  — Test_Person  dengan karakteristik berikut:\n",
    "Agama : ya\n",
    "Gelar : tidak\n",
    "Negara: Norwegia\n",
    "Umur : 30\n",
    "jenis kelamin: laki-laki\n",
    "Komputasi Matematika\n",
    "Dengan  menggunakan  nilai  intersep  dan  kemiringan  dari  Model Summary, kita dapat memperkirakan probabilitas yang diinginkan dengan cara berikut:\n",
    "Probabilitas yang sesuai dengan persepsi Terlalu Sedikit akan dihitung sebagai:\n",
    "logit[P(Y≤1)]=0.7298-[(0.17973*1)+(0.14092*0)+(-0.32235*1)+\n",
    "(0.01114*30)+(0.17637*1)]\n",
    "=> logit[P(Y≤1)] =0,36185\n",
    "=> P(Y ≤1)= exp(0,36185)/(1+exp(0,36185)) = 0,589\n",
    "Dalam kasus kami, P(Y≤1) = P(Y =1) = 0,589\n",
    "Demikian pula, probabilitas yang sesuai dengan persepsi Tentang Benar akan dihitung sebagai:\n",
    "logit[P(Y≤2)]=2.5325-[(0.17973*1)+(0.14092*0)+(-0.32235*1)+ (0.01114*30)+(0.17637*1)]\n",
    "=> logit[P(Y≤2)] =2.16455\n",
    "=> P(Y≤2)= exp(2.16455)/(1+exp(2.16455)) = 0.897\n",
    "\n",
    "Jadi, P(Y = 2) = P(Y 2) — P(Y 1) = 0,897 -0,589\n",
    "=> P(Y = 2) = 0.308\n",
    "Probabilitas yang sesuai dengan persepsi too much akan dihitung sebagai:\n",
    "Jadi, P(Y = 3) = 1- P(Y≤2)\n",
    "=> P(Y = 3) = 0,103\n",
    "Dengan menggunakan fungsi prediksi di R"
   ]
  },
  {
   "cell_type": "code",
   "execution_count": 12,
   "metadata": {
    "vscode": {
     "languageId": "r"
    }
   },
   "outputs": [
    {
     "data": {
      "text/html": [
       "<style>\n",
       ".dl-inline {width: auto; margin:0; padding: 0}\n",
       ".dl-inline>dt, .dl-inline>dd {float: none; width: auto; display: inline-block}\n",
       ".dl-inline>dt::after {content: \":\\0020\"; padding-right: .5ex}\n",
       ".dl-inline>dt:not(:first-of-type) {padding-left: .5ex}\n",
       "</style><dl class=dl-inline><dt>Too Little</dt><dd>0.589</dd><dt>About Right</dt><dd>0.308</dd><dt>Too Much</dt><dd>0.103</dd></dl>\n"
      ],
      "text/latex": [
       "\\begin{description*}\n",
       "\\item[Too Little] 0.589\n",
       "\\item[About Right] 0.308\n",
       "\\item[Too Much] 0.103\n",
       "\\end{description*}\n"
      ],
      "text/markdown": [
       "Too Little\n",
       ":   0.589About Right\n",
       ":   0.308Too Much\n",
       ":   0.103\n",
       "\n"
      ],
      "text/plain": [
       " Too Little About Right    Too Much \n",
       "      0.589       0.308       0.103 "
      ]
     },
     "metadata": {},
     "output_type": "display_data"
    }
   ],
   "source": [
    "new_data <-\n",
    "data.frame(\"religion\"=\"yes\",\"degree\"=\"no\",\"country\"=\"Norway\", \"age\"=30,\"gender\"=\"male\")\n",
    "round(predict(model_fit,new_data,type = \"p\"), 3)"
   ]
  }
 ],
 "metadata": {
  "kernelspec": {
   "display_name": "R",
   "language": "R",
   "name": "ir"
  },
  "language_info": {
   "codemirror_mode": "r",
   "file_extension": ".r",
   "mimetype": "text/x-r-source",
   "name": "R",
   "pygments_lexer": "r",
   "version": "4.3.1"
  }
 },
 "nbformat": 4,
 "nbformat_minor": 2
}
